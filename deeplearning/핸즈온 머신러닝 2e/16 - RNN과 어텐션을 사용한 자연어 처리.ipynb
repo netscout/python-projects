{
 "cells": [
  {
   "cell_type": "code",
   "execution_count": 1,
   "metadata": {},
   "outputs": [],
   "source": [
    "# Python ≥3.5 is required\n",
    "import sys\n",
    "assert sys.version_info >= (3, 5)\n",
    "\n",
    "# Scikit-Learn ≥0.20 is required\n",
    "import sklearn\n",
    "assert sklearn.__version__ >= \"0.20\"\n",
    "\n",
    "try:\n",
    "    # %tensorflow_version only exists in Colab.\n",
    "    %tensorflow_version 2.x\n",
    "    !pip install -q -U tensorflow-addons\n",
    "    IS_COLAB = True\n",
    "except Exception:\n",
    "    IS_COLAB = False\n",
    "\n",
    "# TensorFlow ≥2.0 is required\n",
    "import tensorflow as tf\n",
    "from tensorflow import keras\n",
    "assert tf.__version__ >= \"2.0\"\n",
    "\n",
    "if not tf.config.list_physical_devices('GPU'):\n",
    "    print(\"No GPU was detected. LSTMs and CNNs can be very slow without a GPU.\")\n",
    "    if IS_COLAB:\n",
    "        print(\"Go to Runtime > Change runtime and select a GPU hardware accelerator.\")\n",
    "\n",
    "# Common imports\n",
    "import numpy as np\n",
    "import os\n",
    "\n",
    "# to make this notebook's output stable across runs\n",
    "np.random.seed(42)\n",
    "tf.random.set_seed(42)\n",
    "\n",
    "# To plot pretty figures\n",
    "%matplotlib inline\n",
    "import matplotlib as mpl\n",
    "import matplotlib.pyplot as plt\n",
    "mpl.rc('axes', labelsize=14)\n",
    "mpl.rc('xtick', labelsize=12)\n",
    "mpl.rc('ytick', labelsize=12)\n",
    "\n",
    "# Where to save the figures\n",
    "PROJECT_ROOT_DIR = \".\"\n",
    "CHAPTER_ID = \"nlp\"\n",
    "IMAGES_PATH = os.path.join(PROJECT_ROOT_DIR, \"images\", CHAPTER_ID)\n",
    "os.makedirs(IMAGES_PATH, exist_ok=True)\n",
    "\n",
    "def save_fig(fig_id, tight_layout=True, fig_extension=\"png\", resolution=300):\n",
    "    path = os.path.join(IMAGES_PATH, fig_id + \".\" + fig_extension)\n",
    "    print(\"Saving figure\", fig_id)\n",
    "    if tight_layout:\n",
    "        plt.tight_layout()\n",
    "    plt.savefig(path, format=fig_extension, dpi=resolution)"
   ]
  },
  {
   "cell_type": "markdown",
   "metadata": {},
   "source": [
    "# Char-RNN 사용하여 셰익스피어 문체 생성하기"
   ]
  },
  {
   "cell_type": "markdown",
   "metadata": {},
   "source": [
    "### 데이터 셋 만들기"
   ]
  },
  {
   "cell_type": "code",
   "execution_count": 2,
   "metadata": {},
   "outputs": [],
   "source": [
    "shakespeare_url = \"https://homl.info/shakespeare\"\n",
    "filepath = keras.utils.get_file(\"shakespeare.txt\", shakespeare_url)\n",
    "with open(filepath) as f:\n",
    "    shakespeare_text = f.read()"
   ]
  },
  {
   "cell_type": "code",
   "execution_count": 3,
   "metadata": {},
   "outputs": [],
   "source": [
    "#모든 글자를 정수로 인코딩\n",
    "\n",
    "#텍스트에 사용되는 모든 글자를 찾아 ID를 매핑, ID는 1부터 시작해서 고유한 글자 개수까지\n",
    "\n",
    "tokenizer = keras.preprocessing.text.Tokenizer(char_level=True) #단어 수준 대신에 글자 수준 인코딩, 기본으로 소문자사용\n",
    "tokenizer.fit_on_texts(shakespeare_text)"
   ]
  },
  {
   "cell_type": "code",
   "execution_count": 4,
   "metadata": {},
   "outputs": [
    {
     "data": {
      "text/plain": [
       "[[20, 6, 9, 8, 3]]"
      ]
     },
     "execution_count": 4,
     "metadata": {},
     "output_type": "execute_result"
    }
   ],
   "source": [
    "tokenizer.texts_to_sequences([\"First\"])"
   ]
  },
  {
   "cell_type": "code",
   "execution_count": 5,
   "metadata": {},
   "outputs": [
    {
     "data": {
      "text/plain": [
       "['f i r s t']"
      ]
     },
     "execution_count": 5,
     "metadata": {},
     "output_type": "execute_result"
    }
   ],
   "source": [
    "tokenizer.sequences_to_texts([[20, 6, 9, 8, 3]])"
   ]
  },
  {
   "cell_type": "code",
   "execution_count": 4,
   "metadata": {},
   "outputs": [
    {
     "data": {
      "text/plain": [
       "(39, 1115394)"
      ]
     },
     "execution_count": 4,
     "metadata": {},
     "output_type": "execute_result"
    }
   ],
   "source": [
    "max_id = len(tokenizer.word_index) #고유한 글자 개수\n",
    "dataset_size = tokenizer.document_count # 전체 글자 개수\n",
    "\n",
    "max_id, dataset_size"
   ]
  },
  {
   "cell_type": "code",
   "execution_count": 5,
   "metadata": {},
   "outputs": [
    {
     "data": {
      "text/plain": [
       "array([19,  5,  8, ..., 20, 26, 10])"
      ]
     },
     "execution_count": 5,
     "metadata": {},
     "output_type": "execute_result"
    }
   ],
   "source": [
    "#전체 텍스트를 인코딩 하여 각 글자를 ID로 나타내기(0-38까지 얻기 위해 1빼기)\n",
    "\n",
    "#바깥 쪽의 배열 한 차원을 버리기\n",
    "[encoded] = np.array(tokenizer.texts_to_sequences([shakespeare_text])) - 1\n",
    "\n",
    "encoded"
   ]
  },
  {
   "cell_type": "markdown",
   "metadata": {},
   "source": [
    "### 순차 데이터셋 나누기\n",
    "\n",
    "텍스트의 처음 90%를 훈련 세트로 사용"
   ]
  },
  {
   "cell_type": "code",
   "execution_count": 6,
   "metadata": {},
   "outputs": [],
   "source": [
    "train_size = dataset_size * 90 // 100\n",
    "dataset = tf.data.Dataset.from_tensor_slices(encoded[:train_size])"
   ]
  },
  {
   "cell_type": "markdown",
   "metadata": {},
   "source": [
    "### 순차 데이터를 윈도 여러 개로 자르기\n",
    "\n",
    "훈련세트가 백만개 이상의 글자로 이루어진 시퀀스 하나 이므로 직접 훈련 불가능."
   ]
  },
  {
   "cell_type": "code",
   "execution_count": 8,
   "metadata": {},
   "outputs": [],
   "source": [
    "n_steps=100 #RNN은 n_steps보다 긴 패턴 학습 불가. 따라서 너무 줄이면 곤란함\n",
    "\n",
    "window_length = n_steps + 1 #target = 1글자 앞의 입력\n",
    "\n",
    "#shift=1을 지정하면 가장 큰 훈련세트 구성 가능(기본 값은 윈도우 크기)\n",
    "#첫번째 윈도우는 0~100번째 글자, 두번째 윈도우는 1칸 쉬프트 해서 1~101번째 글자\n",
    "dataset = dataset.repeat().window(window_length, shift=1, drop_remainder=True) #drop_remainder는 모든 윈도우가 동일하게 101개를 포함하도록"
   ]
  },
  {
   "cell_type": "code",
   "execution_count": 10,
   "metadata": {},
   "outputs": [],
   "source": [
    "#window는 리스트의 리스트형식의 중첩 데이터셋\n",
    "#모델을 텐서를 기대하므로 중첩 데이터셋을 플랫 데이터셋으로 변환\n",
    "dataset = dataset.flat_map(lambda window: window.batch(window_length)) #각 윈도우 마다 batch를 호출해서 텐서 하나를 담은 데이터셋 구성"
   ]
  },
  {
   "cell_type": "code",
   "execution_count": 11,
   "metadata": {},
   "outputs": [],
   "source": [
    "batch_size = 32\n",
    "dataset = dataset.shuffle(10000).batch(batch_size) #각 윈도를 섞어서 배치 사이즈 만큼 순차적으로 가져오기\n",
    "dataset = dataset.map(lambda windows: (windows[:, :-1], windows[:, 1:])) #각 항목에 대해서 앞의 10자를 입력, 앞의 1자를 제외한 10자를 타겟"
   ]
  },
  {
   "attachments": {
    "%EB%92%A4%EC%84%9E%EC%9D%80%EC%9C%88%EB%8F%84%EC%9A%B0%EB%8D%B0%EC%9D%B4%ED%84%B0%EC%85%8B.PNG": {
     "image/png": "[encoded data removed]"
    }
   },
   "cell_type": "markdown",
   "metadata": {},
   "source": [
    "![%EB%92%A4%EC%84%9E%EC%9D%80%EC%9C%88%EB%8F%84%EC%9A%B0%EB%8D%B0%EC%9D%B4%ED%84%B0%EC%85%8B.PNG](attachment:%EB%92%A4%EC%84%9E%EC%9D%80%EC%9C%88%EB%8F%84%EC%9A%B0%EB%8D%B0%EC%9D%B4%ED%84%B0%EC%85%8B.PNG)"
   ]
  },
  {
   "cell_type": "code",
   "execution_count": 12,
   "metadata": {},
   "outputs": [],
   "source": [
    "#범주형 특성은 원-핫 벡터나 임베딩으로 인코딩 해야 함\n",
    "#글자수가 39개이기 때문에 원-핫벡터로 인코딩\n",
    "\n",
    "dataset = dataset.map(\n",
    "    lambda X_batch, Y_batch: (tf.one_hot(X_batch, depth=max_id), Y_batch)\n",
    ")"
   ]
  },
  {
   "cell_type": "code",
   "execution_count": 13,
   "metadata": {},
   "outputs": [],
   "source": [
    "#프리패치 설정\n",
    "dataset = dataset.prefetch(10)"
   ]
  },
  {
   "cell_type": "code",
   "execution_count": 14,
   "metadata": {},
   "outputs": [
    {
     "name": "stdout",
     "output_type": "stream",
     "text": [
      "(32, 100, 39) (32, 100)\n"
     ]
    }
   ],
   "source": [
    "for X_batch, Y_batch in dataset.take(1):\n",
    "    print(X_batch.shape, Y_batch.shape)"
   ]
  },
  {
   "cell_type": "markdown",
   "metadata": {},
   "source": [
    "### Char-RNN 모델 만들고 훈련하기"
   ]
  },
  {
   "cell_type": "markdown",
   "metadata": {},
   "source": [
    "GPU에서 실행해도 그다지 속도 향상이 없는데. 그 이유는 GRU에 대해 cuDNN에서 recurrent_dropout이 제공되지 않기 때문\n",
    "\n",
    "https://github.com/tensorflow/tensorflow/issues/40944\n",
    "\n",
    "https://www.tensorflow.org/api_docs/python/tf/keras/layers/GRU#used-in-the-notebooks_1"
   ]
  },
  {
   "cell_type": "markdown",
   "metadata": {},
   "source": [
    "950M에서 실행할 때 한 에포크에 27분 40초\n",
    "\n",
    "2600X + 1080에서 약 한시간 정도 걸리는데, 아마도 프리뷰 버전이라서 인텔 CPU에서 더 좋은 성능이 나오는 듯."
   ]
  },
  {
   "cell_type": "code",
   "execution_count": null,
   "metadata": {},
   "outputs": [
    {
     "name": "stdout",
     "output_type": "stream",
     "text": [
      "Train for 31370 steps\n",
      "Epoch 1/10\n",
      "  808/31370 [..............................] - ETA: 58:40 - loss: 2.2369"
     ]
    }
   ],
   "source": [
    "#이전 글자 100개를 기반으로 다음 글자를 예측\n",
    "#유닛 128개 GRU층 2개 - 입력(dropout)과 은닉 상태(recurrent_dropout)에 20% 드롭아웃 사용\n",
    "\n",
    "model = keras.models.Sequential([\n",
    "#     keras.layers.GRU(128, return_sequences=True, input_shape=[None, max_id],\n",
    "#                     dropout=0.2, recurrent_dropout=0.2),\n",
    "#     keras.layers.GRU(128, return_sequences=True,\n",
    "#                     dropout=0.2, recurrent_dropout=0.2),\n",
    "    keras.layers.GRU(128, return_sequences=True, input_shape=[None, max_id], \n",
    "                     dropout=0.2),\n",
    "    keras.layers.GRU(128, return_sequences=True,\n",
    "                     dropout=0.2),\n",
    "#     keras.layers.GRU(128, return_sequences=True, input_shape=[None, max_id], \n",
    "#                      reset_after=True, recurrent_activation='sigmoid',\n",
    "#                      dropout=0.2),\n",
    "#     keras.layers.GRU(128, return_sequences=True,\n",
    "#                      reset_after=True, recurrent_activation='sigmoid',\n",
    "#                      dropout=0.2),\n",
    "    keras.layers.TimeDistributed(keras.layers.Dense(max_id,\n",
    "                                                   activation=\"softmax\")) #39개의 글자 중에서 베타적 확률 계산\n",
    "])\n",
    "\n",
    "model.compile(loss=\"sparse_categorical_crossentropy\", optimizer=\"adam\")\n",
    "history = model.fit(dataset, steps_per_epoch=train_size // batch_size,\n",
    "                    epochs=10)"
   ]
  },
  {
   "cell_type": "markdown",
   "metadata": {},
   "source": [
    "이후 가짜 셰익스피어 텍스트 생성은 일단 수행 불가(너무 오래 걸림)"
   ]
  },
  {
   "cell_type": "markdown",
   "metadata": {},
   "source": [
    "### 상태가 있는 RNN\n",
    "\n",
    "RNN이 한 훈련 배치를 처리한 후에 마지막 상태를 다음 훈련 배치의 초기 상태로 사용하면?\n",
    "\n",
    "모델이 장기간 패턴을 학습할 수 있음"
   ]
  },
  {
   "cell_type": "code",
   "execution_count": 9,
   "metadata": {},
   "outputs": [],
   "source": [
    "dataset = tf.data.Dataset.from_tensor_slices(encoded[:train_size])\n",
    "\n",
    "#상태가 있는 RNN은 각 입력 시퀀스가 이전 배치의 시퀀스가 끝난 지점에서 시작해야 함.\n",
    "#순차적이고 겹치지 않은 입력 시퀀스를 만들기 위해 shift=1대신에 전체 훈련 스텝 만큼 건너뛰는 윈도우 구성\n",
    "dataset = dataset.window(window_length, shift=n_steps, drop_remainder=True)\n",
    "dataset = dataset.flat_map(lambda window: window.batch(window_length))\n",
    "dataset = dataset.repeat().batch(1) #각 배치의 시퀀스가 연속적이도록 하기 위해 배치 크기를 1로 설정\n",
    "dataset = dataset.map(lambda windows: (windows[:, :-1], windows[:, 1:]))\n",
    "dataset = dataset.map(\n",
    "    lambda X_batch, Y_batch: (tf.one_hot(X_batch, depth=max_id), Y_batch))\n",
    "dataset = dataset.prefetch(1)"
   ]
  },
  {
   "cell_type": "code",
   "execution_count": null,
   "metadata": {},
   "outputs": [],
   "source": [
    "#전체 데이터를 길이가 동일한 32개의 텍스트로 나누고 각 32개의 텍스트에 대해 연속적인 배치 구성\n",
    "\n",
    "batch_size = 32\n",
    "encoded_parts = np.array_split(encoded[:train_size], batch_size)\n",
    "datasets = []\n",
    "for encoded_part in encoded_parts:\n",
    "    dataset = tf.data.Dataset.from_tensor_slices(encoded_part)\n",
    "    dataset = dataset.window(window_length, shift=n_steps, drop_remainder=True)\n",
    "    dataset = dataset.flat_map(lambda window: window.batch(window_length))\n",
    "    datasets.append(dataset)\n",
    "dataset = tf.data.Dataset.zip(tuple(datasets)).map(lambda *windows: tf.stack(windows))\n",
    "dataset = dataset.repeat().map(lambda windows: (windows[:, :-1], windows[:, 1:]))\n",
    "dataset = dataset.map(\n",
    "    lambda X_batch, Y_batch: (tf.one_hot(X_batch, depth=max_id), Y_batch))\n",
    "dataset = dataset.prefetch(1)"
   ]
  },
  {
   "cell_type": "markdown",
   "metadata": {},
   "source": [
    "### 감성 분석"
   ]
  },
  {
   "cell_type": "code",
   "execution_count": 10,
   "metadata": {
    "scrolled": true
   },
   "outputs": [
    {
     "name": "stdout",
     "output_type": "stream",
     "text": [
      "Downloading data from https://storage.googleapis.com/tensorflow/tf-keras-datasets/imdb.npz\n",
      "17465344/17464789 [==============================] - 2s 0us/step\n"
     ]
    },
    {
     "data": {
      "text/plain": [
       "[1, 14, 22, 16, 43, 530, 973, 1622, 1385, 65]"
      ]
     },
     "execution_count": 10,
     "metadata": {},
     "output_type": "execute_result"
    }
   ],
   "source": [
    "(X_train, y_train), (X_test, y_test) = keras.datasets.imdb.load_data()\n",
    "X_train[0][:10]"
   ]
  },
  {
   "cell_type": "markdown",
   "metadata": {},
   "source": [
    "데이터 셋은 이미 전처리 되어 있음\n",
    "\n",
    "X_train은 각 리뷰의 리스트.\n",
    "\n",
    "각 리뷰는 넘파이 정수 배열로 표현\n",
    "\n",
    "각 정수는 하나의 단어\n",
    "\n",
    "구두점을 모두 제거, 단어는 소문자로, 공백으로 나누어 빈도에 따라 인덱스(낮은 정수가 자주 등장하는 단어)\n",
    "\n",
    "0, 1, 2는 각각 패딩 토큰, SOS(start of sequence)토큰, 알 수 없는 단어"
   ]
  },
  {
   "cell_type": "code",
   "execution_count": 12,
   "metadata": {},
   "outputs": [
    {
     "data": {
      "text/plain": [
       "'<sos> this film was just brilliant casting location scenery story'"
      ]
     },
     "execution_count": 12,
     "metadata": {},
     "output_type": "execute_result"
    }
   ],
   "source": [
    "word_index = keras.datasets.imdb.get_word_index()\n",
    "id_to_word = {id_ + 3: word for word, id_ in word_index.items()}\n",
    "for id_, token in enumerate((\"<pad>\", \"<sos>\", \"<unk>\")):\n",
    "    id_to_word[id_] = token\n",
    "    \n",
    "\" \".join([id_to_word[id_] for id_ in X_train[0][:10]])"
   ]
  },
  {
   "cell_type": "markdown",
   "metadata": {},
   "source": [
    "실제로는 직접 전처리해야 함\n",
    "\n",
    "Tokenizer 클래스를 사용하고 char_level=False를 설정.\n",
    "\n",
    "단어 인코딩시 대부분의 구두점, 줄바꿈, 탭 등의 글자가 제외됨"
   ]
  },
  {
   "cell_type": "markdown",
   "metadata": {},
   "source": [
    "### IMDB 데이터셋 원본을 통해 직접 전처리 과정 포함시키기\n",
    "\n",
    "이미 전처리된 데이터셋 말고 원본을 전처리 과정에 포함시키기"
   ]
  },
  {
   "cell_type": "code",
   "execution_count": 14,
   "metadata": {},
   "outputs": [
    {
     "name": "stdout",
     "output_type": "stream",
     "text": [
      "\u001b[1mDownloading and preparing dataset imdb_reviews/plain_text/1.0.0 (download: 80.23 MiB, generated: Unknown size, total: 80.23 MiB) to /root/tensorflow_datasets/imdb_reviews/plain_text/1.0.0...\u001b[0m\n"
     ]
    },
    {
     "data": {
      "application/vnd.jupyter.widget-view+json": {
       "model_id": "d60ff95a15c942069432600d8bc28a19",
       "version_major": 2,
       "version_minor": 0
      },
      "text/plain": [
       "HBox(children=(FloatProgress(value=1.0, bar_style='info', description='Dl Completed...', max=1.0, style=Progre…"
      ]
     },
     "metadata": {},
     "output_type": "display_data"
    },
    {
     "data": {
      "application/vnd.jupyter.widget-view+json": {
       "model_id": "17350b66b8a2458aafe71b96f73efcd2",
       "version_major": 2,
       "version_minor": 0
      },
      "text/plain": [
       "HBox(children=(FloatProgress(value=1.0, bar_style='info', description='Dl Size...', max=1.0, style=ProgressSty…"
      ]
     },
     "metadata": {},
     "output_type": "display_data"
    },
    {
     "name": "stdout",
     "output_type": "stream",
     "text": [
      "\n",
      "\n",
      "\n",
      "\n"
     ]
    },
    {
     "data": {
      "application/vnd.jupyter.widget-view+json": {
       "model_id": "",
       "version_major": 2,
       "version_minor": 0
      },
      "text/plain": [
       "HBox(children=(FloatProgress(value=1.0, bar_style='info', max=1.0), HTML(value='')))"
      ]
     },
     "metadata": {},
     "output_type": "display_data"
    },
    {
     "name": "stdout",
     "output_type": "stream",
     "text": [
      "Shuffling and writing examples to /root/tensorflow_datasets/imdb_reviews/plain_text/1.0.0.incompleteAWDLRU/imdb_reviews-train.tfrecord\n"
     ]
    },
    {
     "data": {
      "application/vnd.jupyter.widget-view+json": {
       "model_id": "5f6023cc1f95461abaeae58624954c84",
       "version_major": 2,
       "version_minor": 0
      },
      "text/plain": [
       "HBox(children=(FloatProgress(value=0.0, max=25000.0), HTML(value='')))"
      ]
     },
     "metadata": {},
     "output_type": "display_data"
    },
    {
     "data": {
      "application/vnd.jupyter.widget-view+json": {
       "model_id": "",
       "version_major": 2,
       "version_minor": 0
      },
      "text/plain": [
       "HBox(children=(FloatProgress(value=1.0, bar_style='info', max=1.0), HTML(value='')))"
      ]
     },
     "metadata": {},
     "output_type": "display_data"
    },
    {
     "name": "stdout",
     "output_type": "stream",
     "text": [
      "Shuffling and writing examples to /root/tensorflow_datasets/imdb_reviews/plain_text/1.0.0.incompleteAWDLRU/imdb_reviews-test.tfrecord\n"
     ]
    },
    {
     "data": {
      "application/vnd.jupyter.widget-view+json": {
       "model_id": "a01affc6914946cbac6500a3e4ce08b3",
       "version_major": 2,
       "version_minor": 0
      },
      "text/plain": [
       "HBox(children=(FloatProgress(value=0.0, max=25000.0), HTML(value='')))"
      ]
     },
     "metadata": {},
     "output_type": "display_data"
    },
    {
     "data": {
      "application/vnd.jupyter.widget-view+json": {
       "model_id": "",
       "version_major": 2,
       "version_minor": 0
      },
      "text/plain": [
       "HBox(children=(FloatProgress(value=1.0, bar_style='info', max=1.0), HTML(value='')))"
      ]
     },
     "metadata": {},
     "output_type": "display_data"
    },
    {
     "name": "stdout",
     "output_type": "stream",
     "text": [
      "Shuffling and writing examples to /root/tensorflow_datasets/imdb_reviews/plain_text/1.0.0.incompleteAWDLRU/imdb_reviews-unsupervised.tfrecord\n"
     ]
    },
    {
     "data": {
      "application/vnd.jupyter.widget-view+json": {
       "model_id": "99b747a4406a46adb7c47860d7a04f78",
       "version_major": 2,
       "version_minor": 0
      },
      "text/plain": [
       "HBox(children=(FloatProgress(value=0.0, max=50000.0), HTML(value='')))"
      ]
     },
     "metadata": {},
     "output_type": "display_data"
    },
    {
     "name": "stdout",
     "output_type": "stream",
     "text": [
      "\u001b[1mDataset imdb_reviews downloaded and prepared to /root/tensorflow_datasets/imdb_reviews/plain_text/1.0.0. Subsequent calls will reuse this data.\u001b[0m\n"
     ]
    },
    {
     "data": {
      "text/plain": [
       "25000"
      ]
     },
     "execution_count": 14,
     "metadata": {},
     "output_type": "execute_result"
    }
   ],
   "source": [
    "import tensorflow_datasets as tfds\n",
    "\n",
    "datasets, info = tfds.load(\"imdb_reviews\", as_supervised=True, with_info=True)\n",
    "train_size = info.splits[\"train\"].num_examples\n",
    "\n",
    "train_size"
   ]
  },
  {
   "cell_type": "code",
   "execution_count": 15,
   "metadata": {},
   "outputs": [],
   "source": [
    "def preprocess(X_batch, y_batch):\n",
    "    X_batch = tf.strings.substr(X_batch, 0, 300) #각 리뷰에서 첫 300글자만 남기기\n",
    "    X_batch = tf.strings.regex_replace(X_batch, b\"<br\\\\s*/?>\", b\" \") #<br />태크 공백으로 변경\n",
    "    X_batch = tf.strings.regex_replace(X_batch, b\"[^a-zA-Z']\", b\" \") #문자와 작은 따옴표가 아닌 모든 문자를 공백으로\n",
    "    X_batch = tf.strings.split(X_batch) #리뷰를 공백으로 나누기(래그드 텐서)\n",
    "    \n",
    "    #래그드 텐서를 밀집 텐서로, 동일한 길이가 되도록 패딩 토큰으로 모든 리뷰 패딩\n",
    "    return X_batch.to_tensor(default_value=b\"<pad>\"), y_batch "
   ]
  },
  {
   "cell_type": "code",
   "execution_count": 16,
   "metadata": {},
   "outputs": [],
   "source": [
    "#어휘 사전 구축\n",
    "\n",
    "from collections import Counter\n",
    "\n",
    "vocab = Counter()\n",
    "for X_batch, y_batch in datasets[\"train\"].batch(32).map(preprocess):\n",
    "    for review in X_batch:\n",
    "        vocab.update(list(review.numpy()))"
   ]
  },
  {
   "cell_type": "code",
   "execution_count": 17,
   "metadata": {},
   "outputs": [
    {
     "data": {
      "text/plain": [
       "[(b'<pad>', 214309), (b'the', 61137), (b'a', 38564)]"
      ]
     },
     "execution_count": 17,
     "metadata": {},
     "output_type": "execute_result"
    }
   ],
   "source": [
    "#가장 많이 등장하는 단어 세 개\n",
    "vocab.most_common()[:3]"
   ]
  },
  {
   "cell_type": "code",
   "execution_count": 19,
   "metadata": {},
   "outputs": [
    {
     "data": {
      "text/plain": [
       "[b'<pad>', b'the', b'a', b'of', b'and', b'to', b'I', b'is', b'in', b'this']"
      ]
     },
     "execution_count": 19,
     "metadata": {},
     "output_type": "execute_result"
    }
   ],
   "source": [
    "#사전에 있는 모든 단어를 알아야 할 필요는 없을 테니 가장 많이 등장하는 단어 10000개만 남기기\n",
    "\n",
    "vocab_size = 10000\n",
    "truncated_vocab = [\n",
    "    word for word, count in vocab.most_common()[:vocab_size]\n",
    "]\n",
    "\n",
    "truncated_vocab[:10]"
   ]
  },
  {
   "cell_type": "code",
   "execution_count": 20,
   "metadata": {},
   "outputs": [],
   "source": [
    "#각 단어를 ID(어휘 사전의 인덱스)로 바꾼느 전처리 단계 추가.\n",
    "#out-of-vocabulary 버킷을 사용하는 룩업 테이블 구성\n",
    "\n",
    "words = tf.constant(truncated_vocab)\n",
    "word_ids = tf.range(len(truncated_vocab), dtype=tf.int64)\n",
    "vocab_init = tf.lookup.KeyValueTensorInitializer(words, word_ids)\n",
    "num_oov_buckets = 1000\n",
    "table = tf.lookup.StaticVocabularyTable(vocab_init, num_oov_buckets)"
   ]
  },
  {
   "cell_type": "code",
   "execution_count": 21,
   "metadata": {},
   "outputs": [
    {
     "data": {
      "text/plain": [
       "<tf.Tensor: shape=(1, 4), dtype=int64, numpy=array([[   22,    12,    11, 10862]])>"
      ]
     },
     "execution_count": 21,
     "metadata": {},
     "output_type": "execute_result"
    }
   ],
   "source": [
    "table.lookup(tf.constant([b\"This movie was faaantastic\".split()]))"
   ]
  },
  {
   "cell_type": "markdown",
   "metadata": {},
   "source": [
    "룩업 테이블에 있는 단어들의 ID는 10000보다 작고, 없는 단어는 10000보다 크거나 같은 ID를 가진 oov버킷 중 하나에 매핑됨\n",
    "\n",
    "### tf.compute_and_apply_vocabulary() 함수는 데이터셋에서 고유한 단어를 찾아 어휘 사전을 구축"
   ]
  },
  {
   "cell_type": "code",
   "execution_count": 25,
   "metadata": {},
   "outputs": [],
   "source": [
    "# 최종 훈련 세트 만들기\n",
    "\n",
    "def encode_words(X_batch, y_batch):\n",
    "    return table.lookup(X_batch), y_batch\n",
    "\n",
    "train_set = datasets[\"train\"].repeat().batch(32).map(preprocess)\n",
    "train_set = train_set.map(encode_words).prefetch(1)"
   ]
  },
  {
   "cell_type": "code",
   "execution_count": 26,
   "metadata": {},
   "outputs": [
    {
     "name": "stdout",
     "output_type": "stream",
     "text": [
      "tf.Tensor(\n",
      "[[  22   11   28 ...    0    0    0]\n",
      " [   6   21   70 ...    0    0    0]\n",
      " [4099 6881    1 ...    0    0    0]\n",
      " ...\n",
      " [  22   12  118 ...  331 1047    0]\n",
      " [1757 4101  451 ...    0    0    0]\n",
      " [3365 4392    6 ...    0    0    0]], shape=(32, 60), dtype=int64)\n",
      "tf.Tensor([0 0 0 1 1 1 0 0 0 0 0 1 1 0 1 0 1 1 1 0 1 1 1 1 1 0 0 0 1 0 0 0], shape=(32,), dtype=int64)\n"
     ]
    }
   ],
   "source": [
    "# 훈련 세트 확인\n",
    "\n",
    "for X_batch, y_batch in train_set.take(1):\n",
    "    print(X_batch)\n",
    "    print(y_batch)"
   ]
  },
  {
   "cell_type": "code",
   "execution_count": 27,
   "metadata": {},
   "outputs": [
    {
     "name": "stdout",
     "output_type": "stream",
     "text": [
      "Train for 781 steps\n",
      "Epoch 1/5\n",
      "781/781 [==============================] - 83s 106ms/step - loss: 0.5426 - accuracy: 0.7155\n",
      "Epoch 2/5\n",
      "781/781 [==============================] - 80s 103ms/step - loss: 0.3477 - accuracy: 0.8556\n",
      "Epoch 3/5\n",
      "781/781 [==============================] - 82s 105ms/step - loss: 0.1748 - accuracy: 0.9372\n",
      "Epoch 4/5\n",
      "781/781 [==============================] - 78s 99ms/step - loss: 0.1279 - accuracy: 0.9535\n",
      "Epoch 5/5\n",
      "781/781 [==============================] - 79s 101ms/step - loss: 0.1069 - accuracy: 0.9595\n"
     ]
    }
   ],
   "source": [
    "embed_size = 128\n",
    "\n",
    "model = keras.models.Sequential([\n",
    "    #단어 ID를 임베딩으로 변환, 단어 ID당 하나의 행과 임베딩 차원당 하나의 열\n",
    "    #입력은 [배치 크기, 타입 스텝 수] -> 임베딩 출력은 [배치 크기, 타임 스텝 수, 임베딩 크기]\n",
    "    keras.layers.Embedding(vocab_size + num_oov_buckets, embed_size,\n",
    "                          mask_zero=True, #ID가 0인 패딩 토큰 무시! -> 패딩 토큰을 항상 0으로 인코딩 하는 것이 좋은 방법\n",
    "                          input_shape=[None]), \n",
    "    keras.layers.GRU(128, return_sequences=True),\n",
    "    keras.layers.GRU(128),\n",
    "    keras.layers.Dense(1, activation=\"sigmoid\")\n",
    "])\n",
    "\n",
    "model.compile(loss=\"binary_crossentropy\", optimizer=\"adam\", metrics=[\"accuracy\"])\n",
    "history = model.fit(train_set, steps_per_epoch= train_size // 32, epochs = 5)"
   ]
  },
  {
   "cell_type": "markdown",
   "metadata": {},
   "source": [
    "### 사전 훈련된 임베딩 재사용하기\n",
    "\n",
    "턴서플로우 허브 프로젝트에서 사전 훈련된 모델 컴포넌트(모듈)를 모델에 포함시키기"
   ]
  },
  {
   "cell_type": "code",
   "execution_count": 28,
   "metadata": {},
   "outputs": [],
   "source": [
    "tf.random.set_seed(42)\n",
    "\n",
    "TFHUB_CACHE_DIR = os.path.join(os.curdir, \"my_tfhub_cache\")\n",
    "os.environ[\"TFHUB_CACHE_DIR\"] = TFHUB_CACHE_DIR"
   ]
  },
  {
   "cell_type": "code",
   "execution_count": 30,
   "metadata": {},
   "outputs": [
    {
     "name": "stdout",
     "output_type": "stream",
     "text": [
      "Collecting tensorflow_hub\n",
      "\u001b[?25l  Downloading https://files.pythonhosted.org/packages/fb/9d/d5772f94e31431cdb56a8bb2c34d8839bb7d7621f2a5959f4ef43207d7ac/tensorflow_hub-0.8.0-py2.py3-none-any.whl (101kB)\n",
      "\u001b[K     |████████████████████████████████| 102kB 248kB/s ta 0:00:011\n",
      "\u001b[?25hRequirement already satisfied: six>=1.12.0 in /usr/local/lib/python3.6/dist-packages (from tensorflow_hub) (1.13.0)\n",
      "Requirement already satisfied: protobuf>=3.8.0 in /usr/local/lib/python3.6/dist-packages (from tensorflow_hub) (3.11.2)\n",
      "Requirement already satisfied: numpy>=1.12.0 in /usr/local/lib/python3.6/dist-packages (from tensorflow_hub) (1.18.1)\n",
      "Requirement already satisfied: setuptools in /usr/local/lib/python3.6/dist-packages (from protobuf>=3.8.0->tensorflow_hub) (44.0.0)\n",
      "Installing collected packages: tensorflow-hub\n",
      "Successfully installed tensorflow-hub-0.8.0\n",
      "\u001b[33mWARNING: You are using pip version 19.3.1; however, version 20.1.1 is available.\n",
      "You should consider upgrading via the 'pip install --upgrade pip' command.\u001b[0m\n"
     ]
    }
   ],
   "source": [
    "!pip install tensorflow_hub"
   ]
  },
  {
   "cell_type": "code",
   "execution_count": 2,
   "metadata": {},
   "outputs": [],
   "source": [
    "import tensorflow_hub as hub\n",
    "\n",
    "model = keras.Sequential([\n",
    "    #문장 인코더 - 문자열 입력을 바다 하나의 벡터로 인코딩(50차원)\n",
    "    hub.KerasLayer(\"https://tfhub.dev/google/tf2-preview/nnlm-en-dim50/1\", #url의 맨 마지막 부분은 버전\n",
    "                  dtype=tf.string, input_shape=[], output_shape=[50]),\n",
    "    keras.layers.Dense(128, activation=\"relu\"),\n",
    "    keras.layers.Dense(1, activation=\"sigmoid\")\n",
    "])\n",
    "model.compile(loss=\"binary_crossentropy\", optimizer=\"adam\",\n",
    "             metrics=[\"accuracy\"])"
   ]
  },
  {
   "cell_type": "code",
   "execution_count": 33,
   "metadata": {},
   "outputs": [
    {
     "name": "stdout",
     "output_type": "stream",
     "text": [
      "./my_tfhub_cache/82c4aaf4250ffb09088bd48368ee7fd00e5464fe.descriptor.txt\n",
      "./my_tfhub_cache/82c4aaf4250ffb09088bd48368ee7fd00e5464fe/saved_model.pb\n",
      "./my_tfhub_cache/82c4aaf4250ffb09088bd48368ee7fd00e5464fe/assets/tokens.txt\n",
      "./my_tfhub_cache/82c4aaf4250ffb09088bd48368ee7fd00e5464fe/variables/variables.index\n",
      "./my_tfhub_cache/82c4aaf4250ffb09088bd48368ee7fd00e5464fe/variables/variables.data-00000-of-00001\n"
     ]
    }
   ],
   "source": [
    "for dirpath, dirnames, filenames in os.walk(TFHUB_CACHE_DIR):\n",
    "    for filename in filenames:\n",
    "        print(os.path.join(dirpath, filename))"
   ]
  },
  {
   "cell_type": "code",
   "execution_count": 3,
   "metadata": {},
   "outputs": [
    {
     "name": "stdout",
     "output_type": "stream",
     "text": [
      "Train for 781 steps\n",
      "Epoch 1/5\n",
      "781/781 [==============================] - 14s 18ms/step - loss: 0.5460 - accuracy: 0.7267\n",
      "Epoch 2/5\n",
      "781/781 [==============================] - 13s 17ms/step - loss: 0.5129 - accuracy: 0.7494\n",
      "Epoch 3/5\n",
      "781/781 [==============================] - 13s 17ms/step - loss: 0.5082 - accuracy: 0.7530\n",
      "Epoch 4/5\n",
      "781/781 [==============================] - 14s 17ms/step - loss: 0.5046 - accuracy: 0.7538\n",
      "Epoch 5/5\n",
      "781/781 [==============================] - 13s 17ms/step - loss: 0.5017 - accuracy: 0.7561\n"
     ]
    }
   ],
   "source": [
    "#IMDb리뷰 데이터셋을 다운로드 하고 전처리 과정 없이 바로 모델 훈련\n",
    "\n",
    "import tensorflow_datasets as tfds\n",
    "\n",
    "datasets, info = tfds.load(\"imdb_reviews\", as_supervised=True, with_info=True)\n",
    "train_size = info.splits[\"train\"].num_examples\n",
    "batch_size = 32\n",
    "train_set = datasets[\"train\"].repeat().batch(batch_size).prefetch(1)\n",
    "history = model.fit(train_set, steps_per_epoch=train_size // batch_size, epochs=5)"
   ]
  },
  {
   "cell_type": "code",
   "execution_count": null,
   "metadata": {},
   "outputs": [],
   "source": [
    "test = datasets[\"test\"].take(1)\n",
    "\n",
    "for X_new, y_new in test:\n",
    "    y_pred = model.predict(list(X_new.numpy()))\n",
    "    \n",
    "    #print(y_pred, y_new)\n",
    "    \n"
   ]
  },
  {
   "attachments": {
    "16%EC%97%B0%EC%8A%B5%EB%AC%B8%EC%A0%9C1.PNG": {
     "image/png": "[encoded data removed]"
    }
   },
   "cell_type": "markdown",
   "metadata": {},
   "source": [
    "![16%EC%97%B0%EC%8A%B5%EB%AC%B8%EC%A0%9C1.PNG](attachment:16%EC%97%B0%EC%8A%B5%EB%AC%B8%EC%A0%9C1.PNG)"
   ]
  },
  {
   "cell_type": "markdown",
   "metadata": {},
   "source": [
    "1. 상태가 없는 RNN은 훈련한 윈도우 크기와 같거나 작은 길이의 패턴만 감지  \n",
    "   상태가 있는 RNN은 장기 패턴을 감지. 하지만 구현하기 어려움\n",
    "   항상 상태가 있는 RNN이 더 나은 것은 아님.\n",
    "   \n",
    "   \n",
    "2. 문장을 한 번에 단어 하나씩 번역하는 결과가 좋지 않음. 먼저 전체 문장을 읽고나서 변역해야 함  \n",
    "   시퀀스-투-시퀀스 RNN은 첫 단어를 읽고 바로 문장을 번역하지만, 인코더-디코더 RNN은 전체 문장을 읽고나서 번역 시작\n",
    "   \n",
    "   \n",
    "3. 배치에 있는 모든 시퀀스 길이가 동일하도록 짧은 시퀀스에 패딩을 추가하고 RNN이 패딩을 무시하도록 하여 처리 가능  \n",
    "   출력 시퀀스의 끝에 EOS(end of sequence)토큰을 출력하도록 모델을 훈련하는 것이 한 방법\n",
    "   \n",
    "   \n",
    "4. 빔 검색은 훈련된 인코더-디코더 모델의 성능을 향상하기 위해 사용하는 기술  \n",
    "   텐서플로우 애드온을 사용하면 쉽게 구현 가능\n",
    "\n",
    "\n",
    "5. 디코더가 입력 시퀀스에 직접 접근하여 긴 입력 시퀀스를 처리하기 위한 방법  \n",
    "   입력의 어느 부분이 현재 디코더의 타임 스탭에 가장 관련되어 있는지 나타내는 정렬 점수 사용\n",
    "   \n",
    "   \n",
    "6. 멀티-헤드 어텐션 층  \n",
    "\n",
    "\n",
    "7. 클래스가 매우 많은(수천개) 분류 모델을 훈련할 때 사용.   "
   ]
  },
  {
   "attachments": {
    "16%EC%97%B0%EC%8A%B5%EB%AC%B8%EC%A0%9C2.PNG": {
     "image/png": "[encoded data removed]"
    }
   },
   "cell_type": "markdown",
   "metadata": {},
   "source": [
    "![16%EC%97%B0%EC%8A%B5%EB%AC%B8%EC%A0%9C2.PNG](attachment:16%EC%97%B0%EC%8A%B5%EB%AC%B8%EC%A0%9C2.PNG)"
   ]
  },
  {
   "cell_type": "code",
   "execution_count": 2,
   "metadata": {},
   "outputs": [],
   "source": [
    "# 연습문제 9\n",
    "\n",
    "from datetime import date\n",
    "\n",
    "# cannot use strftime()'s %B format since it depends on the locale\n",
    "MONTHS = [\"January\", \"February\", \"March\", \"April\", \"May\", \"June\",\n",
    "          \"July\", \"August\", \"September\", \"October\", \"November\", \"December\"]\n",
    "\n",
    "def random_dates(n_dates):\n",
    "    min_date = date(1000, 1, 1).toordinal()\n",
    "    max_date = date(9999, 12, 31).toordinal() #1년 1월 1일 부터 누적된 날짜\n",
    "\n",
    "    ordinals = np.random.randint(max_date - min_date, size=n_dates) + min_date\n",
    "    dates = [date.fromordinal(ordinal) for ordinal in ordinals]\n",
    "\n",
    "    x = [MONTHS[dt.month - 1] + \" \" + dt.strftime(\"%d, %Y\") for dt in dates]\n",
    "    y = [dt.isoformat() for dt in dates]\n",
    "    return x, y"
   ]
  },
  {
   "cell_type": "code",
   "execution_count": 6,
   "metadata": {
    "scrolled": true
   },
   "outputs": [
    {
     "data": {
      "text/plain": [
       "'December 31, 9999'"
      ]
     },
     "execution_count": 6,
     "metadata": {},
     "output_type": "execute_result"
    }
   ],
   "source": [
    "dt = date(9999, 12, 31)\n",
    "MONTHS[dt.month - 1] + \" \" + dt.strftime(\"%d, %Y\")"
   ]
  },
  {
   "cell_type": "code",
   "execution_count": 7,
   "metadata": {},
   "outputs": [
    {
     "name": "stdout",
     "output_type": "stream",
     "text": [
      "Input                    Target                   \n",
      "--------------------------------------------------\n",
      "September 20, 7075       7075-09-20               \n",
      "May 15, 8579             8579-05-15               \n",
      "January 11, 7103         7103-01-11               \n"
     ]
    }
   ],
   "source": [
    "np.random.seed(42)\n",
    "\n",
    "n_dates = 3\n",
    "X_examples, y_examples = random_dates(n_dates)\n",
    "print(\"{:25s}{:25s}\".format(\"Input\", \"Target\"))\n",
    "print(\"-\" * 50)\n",
    "for idx in range(n_dates):\n",
    "    print(\"{:25s}{:25s}\".format(X_examples[idx], y_examples[idx]))"
   ]
  },
  {
   "cell_type": "code",
   "execution_count": 8,
   "metadata": {},
   "outputs": [
    {
     "data": {
      "text/plain": [
       "'ADFJMNOSabceghilmnoprstuvy0123456789, '"
      ]
     },
     "execution_count": 8,
     "metadata": {},
     "output_type": "execute_result"
    }
   ],
   "source": [
    "#입력에 사용가능한 모든 문자열\n",
    "\n",
    "INPUT_CHARS = \"\".join(sorted(set(\"\".join(MONTHS)))) + \"0123456789, \"\n",
    "INPUT_CHARS"
   ]
  },
  {
   "cell_type": "code",
   "execution_count": 9,
   "metadata": {},
   "outputs": [],
   "source": [
    "#출력에 사용가능한 모든 문자열\n",
    "OUTPUT_CHARS = \"0123456789-\""
   ]
  },
  {
   "cell_type": "code",
   "execution_count": 10,
   "metadata": {},
   "outputs": [],
   "source": [
    "#문자열을 글자의 ID로  변환\n",
    "\n",
    "def date_str_to_ids(date_str, chars=INPUT_CHARS):\n",
    "    return [chars.index(c) for c in date_str]"
   ]
  },
  {
   "cell_type": "code",
   "execution_count": 11,
   "metadata": {},
   "outputs": [
    {
     "data": {
      "text/plain": [
       "('September 20, 7075',\n",
       " [7, 11, 19, 22, 11, 16, 9, 11, 20, 37, 28, 26, 36, 37, 33, 26, 33, 31])"
      ]
     },
     "execution_count": 11,
     "metadata": {},
     "output_type": "execute_result"
    }
   ],
   "source": [
    "X_examples[0], date_str_to_ids(X_examples[0])"
   ]
  },
  {
   "cell_type": "code",
   "execution_count": 13,
   "metadata": {},
   "outputs": [
    {
     "data": {
      "text/plain": [
       "('7075-09-20', [7, 0, 7, 5, 10, 0, 9, 10, 2, 0])"
      ]
     },
     "execution_count": 13,
     "metadata": {},
     "output_type": "execute_result"
    }
   ],
   "source": [
    "y_examples[0], date_str_to_ids(y_examples[0], OUTPUT_CHARS)"
   ]
  },
  {
   "cell_type": "code",
   "execution_count": 19,
   "metadata": {},
   "outputs": [],
   "source": [
    "def prepare_date_strs(date_strs, chars=INPUT_CHARS):\n",
    "    X_ids = [date_str_to_ids(date_str, chars) for date_str in date_strs]\n",
    "    X = tf.ragged.constant(X_ids, ragged_rank=1) #1차원 래그드 텐서(비정형 텐서)\n",
    "    return (X + 1).to_tensor() # 0을 패딩 토큰 ID로 사용하기 위해\n",
    "\n",
    "def create_dataset(n_dates):\n",
    "    x, y = random_dates(n_dates)\n",
    "    return prepare_date_strs(x, INPUT_CHARS), prepare_date_strs(y, OUTPUT_CHARS)"
   ]
  },
  {
   "cell_type": "code",
   "execution_count": 20,
   "metadata": {},
   "outputs": [],
   "source": [
    "np.random.seed(42)\n",
    "\n",
    "X_train, y_train = create_dataset(10000)\n",
    "X_valid, y_valid = create_dataset(2000)\n",
    "X_test, y_test = create_dataset(2000)"
   ]
  },
  {
   "cell_type": "code",
   "execution_count": 22,
   "metadata": {},
   "outputs": [
    {
     "data": {
      "text/plain": [
       "(<tf.Tensor: shape=(10,), dtype=int32, numpy=array([ 8,  1,  8,  6, 11,  1, 10, 11,  3,  1], dtype=int32)>,\n",
       " TensorShape([10000, 10]))"
      ]
     },
     "execution_count": 22,
     "metadata": {},
     "output_type": "execute_result"
    }
   ],
   "source": [
    "y_train[0], y_train.shape"
   ]
  },
  {
   "cell_type": "markdown",
   "metadata": {},
   "source": [
    "### 첫번째 모델 기본적인 seq2seq 모델\n",
    "\n",
    "입력 시퀀스를 넣으면 인코더를 통과하고(임베딩 레이어 + LSTM 레이어), 출력으로 나온 벡터를 디코더에 넣고(LSTM 레이어 + Dense) 출력으로 벡터 시퀀스가 나온다. 각 벡터는 모든 가능한 출력 문자열에 대한 확률\n",
    "\n",
    "디코더가 입력으로 시퀀스를 기대하므로 벡터를 반복해서 사용한다???"
   ]
  },
  {
   "cell_type": "code",
   "execution_count": 24,
   "metadata": {},
   "outputs": [
    {
     "name": "stdout",
     "output_type": "stream",
     "text": [
      "Train on 10000 samples, validate on 2000 samples\n",
      "Epoch 1/20\n",
      "10000/10000 [==============================] - 27s 3ms/sample - loss: 1.7967 - accuracy: 0.3555 - val_loss: 1.3766 - val_accuracy: 0.4927\n",
      "Epoch 2/20\n",
      "10000/10000 [==============================] - 23s 2ms/sample - loss: 1.4687 - accuracy: 0.4735 - val_loss: 1.3322 - val_accuracy: 0.5231\n",
      "Epoch 3/20\n",
      "10000/10000 [==============================] - 23s 2ms/sample - loss: 1.2365 - accuracy: 0.5647 - val_loss: 1.0643 - val_accuracy: 0.6184\n",
      "Epoch 4/20\n",
      "10000/10000 [==============================] - 23s 2ms/sample - loss: 0.9113 - accuracy: 0.6649 - val_loss: 0.8019 - val_accuracy: 0.6969\n",
      "Epoch 5/20\n",
      "10000/10000 [==============================] - 24s 2ms/sample - loss: 0.6638 - accuracy: 0.7442 - val_loss: 0.5712 - val_accuracy: 0.7760\n",
      "Epoch 6/20\n",
      "10000/10000 [==============================] - 21s 2ms/sample - loss: 0.6792 - accuracy: 0.7549 - val_loss: 0.4508 - val_accuracy: 0.8249\n",
      "Epoch 7/20\n",
      "10000/10000 [==============================] - 21s 2ms/sample - loss: 0.4198 - accuracy: 0.8420 - val_loss: 0.3391 - val_accuracy: 0.8688\n",
      "Epoch 8/20\n",
      "10000/10000 [==============================] - 21s 2ms/sample - loss: 0.2724 - accuracy: 0.9006 - val_loss: 0.2226 - val_accuracy: 0.9259\n",
      "Epoch 9/20\n",
      "10000/10000 [==============================] - 21s 2ms/sample - loss: 0.1656 - accuracy: 0.9531 - val_loss: 0.1340 - val_accuracy: 0.9679\n",
      "Epoch 10/20\n",
      "10000/10000 [==============================] - 22s 2ms/sample - loss: 0.1039 - accuracy: 0.9779 - val_loss: 0.0676 - val_accuracy: 0.9877\n",
      "Epoch 11/20\n",
      "10000/10000 [==============================] - 21s 2ms/sample - loss: 0.0607 - accuracy: 0.9900 - val_loss: 0.0474 - val_accuracy: 0.9934\n",
      "Epoch 12/20\n",
      "10000/10000 [==============================] - 22s 2ms/sample - loss: 0.0305 - accuracy: 0.9969 - val_loss: 0.0242 - val_accuracy: 0.9984\n",
      "Epoch 13/20\n",
      "10000/10000 [==============================] - 21s 2ms/sample - loss: 0.0177 - accuracy: 0.9990 - val_loss: 0.0153 - val_accuracy: 0.9995\n",
      "Epoch 14/20\n",
      "10000/10000 [==============================] - 21s 2ms/sample - loss: 0.0113 - accuracy: 0.9996 - val_loss: 0.0102 - val_accuracy: 0.9998\n",
      "Epoch 15/20\n",
      "10000/10000 [==============================] - 21s 2ms/sample - loss: 0.0076 - accuracy: 0.9999 - val_loss: 0.0072 - val_accuracy: 0.9999\n",
      "Epoch 16/20\n",
      "10000/10000 [==============================] - 21s 2ms/sample - loss: 0.0053 - accuracy: 0.9999 - val_loss: 0.0053 - val_accuracy: 0.9999\n",
      "Epoch 17/20\n",
      "10000/10000 [==============================] - 21s 2ms/sample - loss: 0.0039 - accuracy: 1.0000 - val_loss: 0.0040 - val_accuracy: 1.0000\n",
      "Epoch 18/20\n",
      "10000/10000 [==============================] - 23s 2ms/sample - loss: 0.0029 - accuracy: 1.0000 - val_loss: 0.0031 - val_accuracy: 0.9999\n",
      "Epoch 19/20\n",
      "10000/10000 [==============================] - 22s 2ms/sample - loss: 0.0022 - accuracy: 1.0000 - val_loss: 0.0023 - val_accuracy: 1.0000\n",
      "Epoch 20/20\n",
      "10000/10000 [==============================] - 21s 2ms/sample - loss: 0.0017 - accuracy: 1.0000 - val_loss: 0.0019 - val_accuracy: 1.0000\n"
     ]
    }
   ],
   "source": [
    "embedding_size = 32\n",
    "max_output_length = y_train.shape[1]\n",
    "\n",
    "np.random.seed(42)\n",
    "tf.random.set_seed(42)\n",
    "\n",
    "encoder = keras.models.Sequential([\n",
    "    keras.layers.Embedding(input_dim=len(INPUT_CHARS) + 1,\n",
    "                          output_dim = embedding_size,\n",
    "                          input_shape=[None]),\n",
    "    keras.layers.LSTM(128)\n",
    "])\n",
    "\n",
    "decoder = keras.models.Sequential([\n",
    "    keras.layers.LSTM(128, return_sequences=True),\n",
    "    keras.layers.Dense(len(OUTPUT_CHARS) + 1, activation=\"softmax\")\n",
    "])\n",
    "\n",
    "model = keras.models.Sequential([\n",
    "    encoder,\n",
    "    keras.layers.RepeatVector(max_output_length),\n",
    "    decoder\n",
    "])\n",
    "\n",
    "optimizer = keras.optimizers.Nadam()\n",
    "model.compile(loss=\"sparse_categorical_crossentropy\", optimizer=optimizer,\n",
    "             metrics=[\"accuracy\"])\n",
    "history = model.fit(X_train, y_train, epochs=20,\n",
    "                   validation_data=(X_valid, y_valid))"
   ]
  },
  {
   "cell_type": "code",
   "execution_count": 25,
   "metadata": {},
   "outputs": [],
   "source": [
    "#출력으로 받은 문자열 아이디의 시퀀스를 일반 문자열로 변환\n",
    "\n",
    "def ids_to_date_strs(ids, chars=OUTPUT_CHARS):\n",
    "    return [\n",
    "        \"\".join(\n",
    "            [(\"?\" + chars)[index] for index in sequence]\n",
    "        ) for sequence in ids\n",
    "    ]"
   ]
  },
  {
   "cell_type": "code",
   "execution_count": 26,
   "metadata": {},
   "outputs": [],
   "source": [
    "X_new = prepare_date_strs([\"September 17, 2009\", \"July 14, 1789\"])"
   ]
  },
  {
   "cell_type": "code",
   "execution_count": 27,
   "metadata": {},
   "outputs": [
    {
     "name": "stdout",
     "output_type": "stream",
     "text": [
      "2009-09-17\n",
      "1789-07-14\n"
     ]
    }
   ],
   "source": [
    "ids = model.predict_classes(X_new)\n",
    "for date_str in ids_to_date_strs(ids):\n",
    "    print(date_str)"
   ]
  },
  {
   "cell_type": "code",
   "execution_count": 28,
   "metadata": {},
   "outputs": [
    {
     "name": "stdout",
     "output_type": "stream",
     "text": [
      "2020-02-02\n",
      "1789-11-14\n"
     ]
    }
   ],
   "source": [
    "#모델이 날짜의 길이인 18로 훈련되었으므로, 짧은 시퀀스에 대해서는 예측이 떨어질 수 있다.\n",
    "\n",
    "X_new = prepare_date_strs([\"May 02, 2020\", \"July 14, 1789\"])\n",
    "\n",
    "ids = model.predict_classes(X_new)\n",
    "for date_str in ids_to_date_strs(ids):\n",
    "    print(date_str)"
   ]
  },
  {
   "cell_type": "code",
   "execution_count": 29,
   "metadata": {},
   "outputs": [],
   "source": [
    "#훈련할 때 처럼 항상 같은 길이의 문자열을 넘기도록 설정\n",
    "\n",
    "max_input_length = X_train.shape[1]\n",
    "\n",
    "def prepare_date_strs_padded(date_strs):\n",
    "    X = prepare_date_strs(date_strs)\n",
    "    if X.shape[1] < max_input_length:\n",
    "        X = tf.pad(X, [[0, 0], [0, max_input_length - X.shape[1]]])\n",
    "    return X\n",
    "\n",
    "def convert_date_strs(date_strs):\n",
    "    X = prepare_date_strs_padded(date_strs)\n",
    "    ids = model.predict_classes(X)\n",
    "    return ids_to_date_strs(ids)"
   ]
  },
  {
   "cell_type": "code",
   "execution_count": 30,
   "metadata": {},
   "outputs": [
    {
     "data": {
      "text/plain": [
       "['2020-05-02', '1789-07-14']"
      ]
     },
     "execution_count": 30,
     "metadata": {},
     "output_type": "execute_result"
    }
   ],
   "source": [
    "convert_date_strs([\"May 02, 2020\", \"July 14, 1789\"])"
   ]
  },
  {
   "cell_type": "markdown",
   "metadata": {},
   "source": [
    "### 두번째 버전 : 쉬프트 시킨 타겟을 디코더에 입력하기(teacher forcing)\n",
    "\n",
    "단순하게 인코더의 출력 벹러를 반복해서 입력하는 대신에 타겟 시퀀스를 1타입 스탭씩 오른쪽으로 쉬프트하여 입력할 수 있다. 이렇게 하면 디코더는 매번 이전 타겟 문자가 뭔지 알 수 있다.\n",
    "\n",
    "좀 더 복잡한 seq2seq문제를 해결하는 데 도움이 된다.\n",
    "\n",
    "각 타켓 시퀀스의 첫 번째 출력 문자열은 이전 문자열이 존재하지 않으므로 sos(start of sequence)문자열을 추가\n",
    "\n",
    "추론 과정에서 sos부터 시작해서 한 문자열씩 예측하여 디코더에게 현재까지 예측된 모든 문자열을 입력으로 넘겨준다."
   ]
  },
  {
   "cell_type": "code",
   "execution_count": 31,
   "metadata": {},
   "outputs": [],
   "source": [
    "#디코더의 입력 만들기\n",
    "\n",
    "#시퀀스 시작\n",
    "sos_id = len(OUTPUT_CHARS) + 1\n",
    "\n",
    "def shifted_output_sequences(y):\n",
    "    sos_tokens = tf.fill(dims=(len(y), 1), value=sos_id)\n",
    "    return tf.concat([sos_tokens, y[:, :-1]], axis=1) #각 타겟 값의 맨 뒤에 sos토큰 추가\n",
    "\n",
    "X_train_decoder = shifted_output_sequences(y_train)\n",
    "X_valid_decoder = shifted_output_sequences(y_valid)\n",
    "X_test_decoder = shifted_output_sequences(y_test)"
   ]
  },
  {
   "cell_type": "code",
   "execution_count": 32,
   "metadata": {},
   "outputs": [
    {
     "data": {
      "text/plain": [
       "<tf.Tensor: shape=(10000, 10), dtype=int32, numpy=\n",
       "array([[12,  8,  1, ..., 10, 11,  3],\n",
       "       [12,  9,  6, ...,  6, 11,  2],\n",
       "       [12,  8,  2, ...,  2, 11,  2],\n",
       "       ...,\n",
       "       [12, 10,  8, ...,  2, 11,  4],\n",
       "       [12,  2,  2, ...,  3, 11,  3],\n",
       "       [12,  8,  9, ...,  8, 11,  3]], dtype=int32)>"
      ]
     },
     "execution_count": 32,
     "metadata": {},
     "output_type": "execute_result"
    }
   ],
   "source": [
    "X_train_decoder"
   ]
  },
  {
   "cell_type": "code",
   "execution_count": 34,
   "metadata": {},
   "outputs": [
    {
     "name": "stdout",
     "output_type": "stream",
     "text": [
      "Train on 10000 samples, validate on 2000 samples\n",
      "Epoch 1/10\n",
      "10000/10000 [==============================] - 24s 2ms/sample - loss: 1.6936 - accuracy: 0.3647 - val_loss: 1.4542 - val_accuracy: 0.4241\n",
      "Epoch 2/10\n",
      "10000/10000 [==============================] - 21s 2ms/sample - loss: 1.2616 - accuracy: 0.5246 - val_loss: 1.0100 - val_accuracy: 0.6277\n",
      "Epoch 3/10\n",
      "10000/10000 [==============================] - 21s 2ms/sample - loss: 0.6774 - accuracy: 0.7634 - val_loss: 0.3730 - val_accuracy: 0.8870\n",
      "Epoch 4/10\n",
      "10000/10000 [==============================] - 21s 2ms/sample - loss: 0.2236 - accuracy: 0.9459 - val_loss: 0.1254 - val_accuracy: 0.9786\n",
      "Epoch 5/10\n",
      "10000/10000 [==============================] - 22s 2ms/sample - loss: 0.0818 - accuracy: 0.9895 - val_loss: 0.0466 - val_accuracy: 0.9973\n",
      "Epoch 6/10\n",
      "10000/10000 [==============================] - 21s 2ms/sample - loss: 0.0286 - accuracy: 0.9995 - val_loss: 0.0214 - val_accuracy: 0.9997\n",
      "Epoch 7/10\n",
      "10000/10000 [==============================] - 22s 2ms/sample - loss: 0.0602 - accuracy: 0.9902 - val_loss: 0.0171 - val_accuracy: 0.9997\n",
      "Epoch 8/10\n",
      "10000/10000 [==============================] - 21s 2ms/sample - loss: 0.0117 - accuracy: 1.0000 - val_loss: 0.0101 - val_accuracy: 0.9999\n",
      "Epoch 9/10\n",
      "10000/10000 [==============================] - 21s 2ms/sample - loss: 0.0074 - accuracy: 1.0000 - val_loss: 0.0068 - val_accuracy: 1.0000\n",
      "Epoch 10/10\n",
      "10000/10000 [==============================] - 21s 2ms/sample - loss: 0.0053 - accuracy: 1.0000 - val_loss: 0.0114 - val_accuracy: 0.9980\n"
     ]
    }
   ],
   "source": [
    "encoder_embedding_size = 32\n",
    "decoder_embedding_size = 32\n",
    "lstm_units = 128\n",
    "\n",
    "np.random.seed(42)\n",
    "tf.random.set_seed(42)\n",
    "\n",
    "encoder_input = keras.layers.Input(shape=[None], dtype=tf.int32)\n",
    "encoder_embedding = keras.layers.Embedding(\n",
    "    input_dim=len(INPUT_CHARS) + 1, #패딩토큰 추가\n",
    "    output_dim=encoder_embedding_size)(encoder_input)\n",
    "_, encoder_state_h, encoder_state_c = keras.layers.LSTM(\n",
    "    lstm_units, return_state=True)(encoder_embedding)\n",
    "encoder_state = [encoder_state_h, encoder_state_c]\n",
    "\n",
    "decoder_input = keras.layers.Input(shape=[None], dtype=tf.int32)\n",
    "decoder_embedding = keras.layers.Embedding(\n",
    "    input_dim=len(OUTPUT_CHARS) + 2, #sos와 패딩토큰 추가\n",
    "    output_dim=decoder_embedding_size)(decoder_input)\n",
    "decoder_lstm_output = keras.layers.LSTM(lstm_units, return_sequences=True)(\n",
    "    decoder_embedding, initial_state=encoder_state)\n",
    "decoder_output = keras.layers.Dense(len(OUTPUT_CHARS) + 1,\n",
    "                                    activation=\"softmax\")(decoder_lstm_output)\n",
    "\n",
    "model = keras.models.Model(inputs=[encoder_input, decoder_input],\n",
    "                           outputs=[decoder_output])\n",
    "\n",
    "optimizer = keras.optimizers.Nadam()\n",
    "model.compile(loss=\"sparse_categorical_crossentropy\", optimizer=optimizer,\n",
    "              metrics=[\"accuracy\"])\n",
    "history = model.fit([X_train, X_train_decoder], y_train, epochs=10,\n",
    "                    validation_data=([X_valid, X_valid_decoder], y_valid))"
   ]
  },
  {
   "cell_type": "code",
   "execution_count": 35,
   "metadata": {},
   "outputs": [],
   "source": [
    "#예측 하려면 한 번에 문자 하나씩 예측 수행\n",
    "\n",
    "sos_id = len(OUTPUT_CHARS) + 1\n",
    "\n",
    "def predict_date_strs(date_strs):\n",
    "    X = prepare_date_strs_padded(date_strs) #입력 값에 패딩을 채우고\n",
    "    Y_pred = tf.fill(dims=(len(X), 1), value=sos_id) #sos로 채워진 예측 값\n",
    "    for index in range(max_output_length):\n",
    "        pad_size = max_output_length - Y_pred.shape[1]\n",
    "        X_decoder = tf.pad(Y_pred, [[0, 0], [0, pad_size]])\n",
    "        Y_probas_next = model.predict([X, X_decoder])[:, index:index+1]\n",
    "        Y_pred_next = tf.argmax(Y_probas_next, axis=-1, output_type=tf.int32)\n",
    "        Y_pred = tf.concat([Y_pred, Y_pred_next], axis=1)\n",
    "    return ids_to_date_strs(Y_pred[:, 1:])"
   ]
  },
  {
   "cell_type": "code",
   "execution_count": 36,
   "metadata": {},
   "outputs": [
    {
     "data": {
      "text/plain": [
       "['1789-07-14', '2020-05-01']"
      ]
     },
     "execution_count": 36,
     "metadata": {},
     "output_type": "execute_result"
    }
   ],
   "source": [
    "predict_date_strs([\"July 14, 1789\", \"May 01, 2020\"])"
   ]
  },
  {
   "cell_type": "markdown",
   "metadata": {},
   "source": [
    "### TF-Addon 사용하여 seq2seq 구현\n",
    "\n",
    "두번째 모델과 동일한 모델 만들기"
   ]
  },
  {
   "cell_type": "code",
   "execution_count": 38,
   "metadata": {},
   "outputs": [
    {
     "name": "stdout",
     "output_type": "stream",
     "text": [
      "Collecting tensorflow-addons==0.9.1\n",
      "\u001b[?25l  Downloading https://files.pythonhosted.org/packages/92/07/bbeddd8d3f3d2e99ee35f52f7701846598490cc0ef52a47bdcde17a4e128/tensorflow_addons-0.9.1-cp36-cp36m-manylinux2010_x86_64.whl (1.0MB)\n",
      "\u001b[K     |████████████████████████████████| 1.0MB 253kB/s eta 0:00:01\n",
      "\u001b[?25hCollecting typeguard>=2.7\n",
      "  Downloading https://files.pythonhosted.org/packages/52/33/3755584541a18d954389447bfd5f9cb7fa20dfbf5094829aee4a103e580c/typeguard-2.9.1-py3-none-any.whl\n",
      "Installing collected packages: typeguard, tensorflow-addons\n",
      "Successfully installed tensorflow-addons-0.9.1 typeguard-2.9.1\n",
      "\u001b[33mWARNING: You are using pip version 19.3.1; however, version 20.1.1 is available.\n",
      "You should consider upgrading via the 'pip install --upgrade pip' command.\u001b[0m\n"
     ]
    }
   ],
   "source": [
    "#0.10.0에서 에러가 발생하는 코드가 있으므로\n",
    "!pip install tensorflow-addons==0.9.1"
   ]
  },
  {
   "cell_type": "code",
   "execution_count": 40,
   "metadata": {
    "scrolled": true
   },
   "outputs": [
    {
     "name": "stdout",
     "output_type": "stream",
     "text": [
      "Train on 10000 samples, validate on 2000 samples\n",
      "Epoch 1/15\n",
      "10000/10000 [==============================] - 61s 6ms/sample - loss: 1.6698 - accuracy: 0.3717 - val_loss: 1.4631 - val_accuracy: 0.4196\n",
      "Epoch 2/15\n",
      "10000/10000 [==============================] - 57s 6ms/sample - loss: 1.3154 - accuracy: 0.4942 - val_loss: 1.0593 - val_accuracy: 0.6133\n",
      "Epoch 3/15\n",
      "10000/10000 [==============================] - 57s 6ms/sample - loss: 0.8292 - accuracy: 0.7037 - val_loss: 0.5684 - val_accuracy: 0.8065\n",
      "Epoch 4/15\n",
      "10000/10000 [==============================] - 57s 6ms/sample - loss: 0.3408 - accuracy: 0.8989 - val_loss: 0.1620 - val_accuracy: 0.9719\n",
      "Epoch 5/15\n",
      "10000/10000 [==============================] - 58s 6ms/sample - loss: 0.1285 - accuracy: 0.9782 - val_loss: 0.1141 - val_accuracy: 0.9845\n",
      "Epoch 6/15\n",
      "10000/10000 [==============================] - 56s 6ms/sample - loss: 0.0455 - accuracy: 0.9978 - val_loss: 0.0298 - val_accuracy: 0.9995\n",
      "Epoch 7/15\n",
      "10000/10000 [==============================] - 57s 6ms/sample - loss: 0.0343 - accuracy: 0.9968 - val_loss: 0.0183 - val_accuracy: 0.9998\n",
      "Epoch 8/15\n",
      "10000/10000 [==============================] - 60s 6ms/sample - loss: 0.0136 - accuracy: 0.9999 - val_loss: 0.0119 - val_accuracy: 0.9999\n",
      "Epoch 9/15\n",
      "10000/10000 [==============================] - 58s 6ms/sample - loss: 0.0090 - accuracy: 1.0000 - val_loss: 0.0080 - val_accuracy: 1.0000\n",
      "Epoch 10/15\n",
      "10000/10000 [==============================] - 56s 6ms/sample - loss: 0.0062 - accuracy: 1.0000 - val_loss: 0.0058 - val_accuracy: 1.0000\n",
      "Epoch 11/15\n",
      "10000/10000 [==============================] - 59s 6ms/sample - loss: 0.0045 - accuracy: 1.0000 - val_loss: 0.0046 - val_accuracy: 0.9999\n",
      "Epoch 12/15\n",
      "10000/10000 [==============================] - 59s 6ms/sample - loss: 0.0034 - accuracy: 1.0000 - val_loss: 0.0034 - val_accuracy: 1.0000\n",
      "Epoch 13/15\n",
      "10000/10000 [==============================] - 58s 6ms/sample - loss: 0.0026 - accuracy: 1.0000 - val_loss: 0.0026 - val_accuracy: 1.0000\n",
      "Epoch 14/15\n",
      "10000/10000 [==============================] - 58s 6ms/sample - loss: 0.0808 - accuracy: 0.9793 - val_loss: 0.2769 - val_accuracy: 0.9084\n",
      "Epoch 15/15\n",
      "10000/10000 [==============================] - 58s 6ms/sample - loss: 0.0220 - accuracy: 0.9975 - val_loss: 0.0060 - val_accuracy: 1.0000\n"
     ]
    }
   ],
   "source": [
    "import tensorflow_addons as tfa #TF-Addon 사용\n",
    "\n",
    "np.random.seed(42)\n",
    "tf.random.set_seed(42)\n",
    "\n",
    "encoder_embedding_size = 32\n",
    "decoder_embedding_size = 32\n",
    "units = 128\n",
    "\n",
    "encoder_inputs = keras.layers.Input(shape=[None], dtype=np.int32)\n",
    "decoder_inputs = keras.layers.Input(shape=[None], dtype=np.int32)\n",
    "sequence_lengths = keras.layers.Input(shape=[], dtype=np.int32)\n",
    "\n",
    "encoder_embeddings = keras.layers.Embedding(\n",
    "    len(INPUT_CHARS) + 1, encoder_embedding_size)(encoder_inputs)\n",
    "\n",
    "decoder_embedding_layer = keras.layers.Embedding(\n",
    "    len(INPUT_CHARS) + 2, decoder_embedding_size)\n",
    "decoder_embeddings = decoder_embedding_layer(decoder_inputs)\n",
    "\n",
    "encoder = keras.layers.LSTM(units, return_state=True)\n",
    "encoder_outputs, state_h, state_c = encoder(encoder_embeddings)\n",
    "encoder_state = [state_h, state_c]\n",
    "\n",
    "sampler = tfa.seq2seq.sampler.TrainingSampler()\n",
    "\n",
    "decoder_cell = keras.layers.LSTMCell(units)\n",
    "output_layer = keras.layers.Dense(len(OUTPUT_CHARS) + 1)\n",
    "\n",
    "decoder = tfa.seq2seq.basic_decoder.BasicDecoder(decoder_cell,\n",
    "                                                 sampler,\n",
    "                                                 output_layer=output_layer)\n",
    "final_outputs, final_state, final_sequence_lengths = decoder(\n",
    "    decoder_embeddings,\n",
    "    initial_state=encoder_state)\n",
    "Y_proba = keras.layers.Activation(\"softmax\")(final_outputs.rnn_output)\n",
    "\n",
    "model = keras.models.Model(inputs=[encoder_inputs, decoder_inputs],\n",
    "                           outputs=[Y_proba])\n",
    "optimizer = keras.optimizers.Nadam()\n",
    "model.compile(loss=\"sparse_categorical_crossentropy\", optimizer=optimizer,\n",
    "              metrics=[\"accuracy\"])\n",
    "history = model.fit([X_train, X_train_decoder], y_train, epochs=15,\n",
    "                    validation_data=([X_valid, X_valid_decoder], y_valid))"
   ]
  },
  {
   "cell_type": "code",
   "execution_count": 41,
   "metadata": {},
   "outputs": [
    {
     "data": {
      "text/plain": [
       "['1789-07-14', '2020-05-01']"
      ]
     },
     "execution_count": 41,
     "metadata": {},
     "output_type": "execute_result"
    }
   ],
   "source": [
    "predict_date_strs([\"July 14, 1789\", \"May 01, 2020\"])"
   ]
  },
  {
   "cell_type": "code",
   "execution_count": 42,
   "metadata": {},
   "outputs": [],
   "source": [
    "#이전에 훈련한 레이어를 사용해서 새로운 디코더 작성\n",
    "#한 글자씩 예측 하는 대신 간단하게 예측 가능\n",
    "\n",
    "inference_sampler = tfa.seq2seq.sampler.GreedyEmbeddingSampler(\n",
    "    embedding_fn=decoder_embedding_layer)\n",
    "inference_decoder = tfa.seq2seq.basic_decoder.BasicDecoder(\n",
    "    decoder_cell, inference_sampler, output_layer=output_layer,\n",
    "    maximum_iterations=max_output_length)\n",
    "batch_size = tf.shape(encoder_inputs)[:1]\n",
    "start_tokens = tf.fill(dims=batch_size, value=sos_id)\n",
    "final_outputs, final_state, final_sequence_lengths = inference_decoder(\n",
    "    start_tokens,\n",
    "    initial_state=encoder_state,\n",
    "    start_tokens=start_tokens,\n",
    "    end_token=0)\n",
    "\n",
    "inference_model = keras.models.Model(inputs=[encoder_inputs],\n",
    "                                     outputs=[final_outputs.sample_id])"
   ]
  },
  {
   "cell_type": "code",
   "execution_count": 43,
   "metadata": {},
   "outputs": [],
   "source": [
    "def fast_predict_date_strs(date_strs):\n",
    "    X = prepare_date_strs_padded(date_strs)\n",
    "    Y_pred = inference_model.predict(X)\n",
    "    return ids_to_date_strs(Y_pred)"
   ]
  },
  {
   "cell_type": "code",
   "execution_count": 44,
   "metadata": {},
   "outputs": [
    {
     "data": {
      "text/plain": [
       "['1789-07-14', '2020-05-01']"
      ]
     },
     "execution_count": 44,
     "metadata": {},
     "output_type": "execute_result"
    }
   ],
   "source": [
    "fast_predict_date_strs([\"July 14, 1789\", \"May 01, 2020\"])"
   ]
  },
  {
   "cell_type": "markdown",
   "metadata": {},
   "source": [
    "연습문제 10\n",
    "\n",
    "https://www.tensorflow.org/tutorials/text/nmt_with_attention\n",
    "\n",
    "확인해보기"
   ]
  },
  {
   "cell_type": "markdown",
   "metadata": {},
   "source": [
    "### 연습문제 11\n",
    "\n",
    "요즘의 언어 모델(GPT 같은)을 사용해서 셰익스피어 텍스트 만들어 보기"
   ]
  },
  {
   "cell_type": "code",
   "execution_count": 47,
   "metadata": {},
   "outputs": [
    {
     "name": "stdout",
     "output_type": "stream",
     "text": [
      "Collecting transformers\n",
      "\u001b[?25l  Downloading https://files.pythonhosted.org/packages/27/3c/91ed8f5c4e7ef3227b4119200fc0ed4b4fd965b1f0172021c25701087825/transformers-3.0.2-py3-none-any.whl (769kB)\n",
      "\u001b[K     |████████████████████████████████| 778kB 254kB/s eta 0:00:01\n",
      "\u001b[?25hCollecting sacremoses\n",
      "\u001b[?25l  Downloading https://files.pythonhosted.org/packages/7d/34/09d19aff26edcc8eb2a01bed8e98f13a1537005d31e95233fd48216eed10/sacremoses-0.0.43.tar.gz (883kB)\n",
      "\u001b[K     |████████████████████████████████| 890kB 3.5MB/s eta 0:00:01\n",
      "\u001b[?25hRequirement already satisfied: tqdm>=4.27 in /usr/local/lib/python3.6/dist-packages (from transformers) (4.48.0)\n",
      "Collecting dataclasses; python_version < \"3.7\"\n",
      "  Downloading https://files.pythonhosted.org/packages/e1/d2/6f02df2616fd4016075f60157c7a0452b38d8f7938ae94343911e0fb0b09/dataclasses-0.7-py3-none-any.whl\n",
      "Requirement already satisfied: numpy in /usr/local/lib/python3.6/dist-packages (from transformers) (1.18.1)\n",
      "Requirement already satisfied: requests in /usr/local/lib/python3.6/dist-packages (from transformers) (2.22.0)\n",
      "Collecting packaging\n",
      "  Downloading https://files.pythonhosted.org/packages/46/19/c5ab91b1b05cfe63cccd5cfc971db9214c6dd6ced54e33c30d5af1d2bc43/packaging-20.4-py2.py3-none-any.whl\n",
      "Collecting filelock\n",
      "  Downloading https://files.pythonhosted.org/packages/93/83/71a2ee6158bb9f39a90c0dea1637f81d5eef866e188e1971a1b1ab01a35a/filelock-3.0.12-py3-none-any.whl\n",
      "Collecting regex!=2019.12.17\n",
      "\u001b[?25l  Downloading https://files.pythonhosted.org/packages/66/f2/b3af9ce9df4b7e121dfeece41fc95e37b14f0153821f35d08edb0b0813ff/regex-2020.7.14-cp36-cp36m-manylinux2010_x86_64.whl (660kB)\n",
      "\u001b[K     |████████████████████████████████| 665kB 3.6MB/s eta 0:00:01\n",
      "\u001b[?25hCollecting sentencepiece!=0.1.92\n",
      "\u001b[?25l  Downloading https://files.pythonhosted.org/packages/d4/a4/d0a884c4300004a78cca907a6ff9a5e9fe4f090f5d95ab341c53d28cbc58/sentencepiece-0.1.91-cp36-cp36m-manylinux1_x86_64.whl (1.1MB)\n",
      "\u001b[K     |████████████████████████████████| 1.1MB 3.9MB/s eta 0:00:01\n",
      "\u001b[?25hCollecting tokenizers==0.8.1.rc1\n",
      "\u001b[?25l  Downloading https://files.pythonhosted.org/packages/40/d0/30d5f8d221a0ed981a186c8eb986ce1c94e3a6e87f994eae9f4aa5250217/tokenizers-0.8.1rc1-cp36-cp36m-manylinux1_x86_64.whl (3.0MB)\n",
      "\u001b[K     |████████████████████████████████| 3.0MB 4.6MB/s eta 0:00:01\n",
      "\u001b[?25hRequirement already satisfied: six in /usr/local/lib/python3.6/dist-packages (from sacremoses->transformers) (1.13.0)\n",
      "Collecting click\n",
      "\u001b[?25l  Downloading https://files.pythonhosted.org/packages/d2/3d/fa76db83bf75c4f8d338c2fd15c8d33fdd7ad23a9b5e57eb6c5de26b430e/click-7.1.2-py2.py3-none-any.whl (82kB)\n",
      "\u001b[K     |████████████████████████████████| 92kB 5.1MB/s eta 0:00:011\n",
      "\u001b[?25hRequirement already satisfied: joblib in /usr/local/lib/python3.6/dist-packages (from sacremoses->transformers) (0.16.0)\n",
      "Requirement already satisfied: chardet<3.1.0,>=3.0.2 in /usr/local/lib/python3.6/dist-packages (from requests->transformers) (3.0.4)\n",
      "Requirement already satisfied: certifi>=2017.4.17 in /usr/local/lib/python3.6/dist-packages (from requests->transformers) (2019.11.28)\n",
      "Requirement already satisfied: urllib3!=1.25.0,!=1.25.1,<1.26,>=1.21.1 in /usr/local/lib/python3.6/dist-packages (from requests->transformers) (1.25.7)\n",
      "Requirement already satisfied: idna<2.9,>=2.5 in /usr/lib/python3/dist-packages (from requests->transformers) (2.6)\n",
      "Requirement already satisfied: pyparsing>=2.0.2 in /usr/local/lib/python3.6/dist-packages (from packaging->transformers) (2.4.6)\n",
      "Building wheels for collected packages: sacremoses\n",
      "  Building wheel for sacremoses (setup.py) ... \u001b[?25ldone\n",
      "\u001b[?25h  Created wheel for sacremoses: filename=sacremoses-0.0.43-cp36-none-any.whl size=894091 sha256=440b3b1db981dee88496aa629fffab66312ba2dba43a61e3b5bd27577e0481c0\n",
      "  Stored in directory: /root/.cache/pip/wheels/29/3c/fd/7ce5c3f0666dab31a50123635e6fb5e19ceb42ce38d4e58f45\n",
      "Successfully built sacremoses\n",
      "Installing collected packages: regex, click, sacremoses, dataclasses, packaging, filelock, sentencepiece, tokenizers, transformers\n",
      "Successfully installed click-7.1.2 dataclasses-0.7 filelock-3.0.12 packaging-20.4 regex-2020.7.14 sacremoses-0.0.43 sentencepiece-0.1.91 tokenizers-0.8.1rc1 transformers-3.0.2\n",
      "\u001b[33mWARNING: You are using pip version 19.3.1; however, version 20.1.1 is available.\n",
      "You should consider upgrading via the 'pip install --upgrade pip' command.\u001b[0m\n"
     ]
    }
   ],
   "source": [
    "!pip install transformers"
   ]
  },
  {
   "cell_type": "code",
   "execution_count": 48,
   "metadata": {},
   "outputs": [
    {
     "data": {
      "application/vnd.jupyter.widget-view+json": {
       "model_id": "4804ad3c1fff4fea93ab71328dfdb7c9",
       "version_major": 2,
       "version_minor": 0
      },
      "text/plain": [
       "HBox(children=(FloatProgress(value=0.0, description='Downloading', max=656.0, style=ProgressStyle(description_…"
      ]
     },
     "metadata": {},
     "output_type": "display_data"
    },
    {
     "name": "stdout",
     "output_type": "stream",
     "text": [
      "\n"
     ]
    },
    {
     "data": {
      "application/vnd.jupyter.widget-view+json": {
       "model_id": "6e8ab3e5889d4d068394c71552de0a1a",
       "version_major": 2,
       "version_minor": 0
      },
      "text/plain": [
       "HBox(children=(FloatProgress(value=0.0, description='Downloading', max=466312920.0, style=ProgressStyle(descri…"
      ]
     },
     "metadata": {},
     "output_type": "display_data"
    },
    {
     "name": "stdout",
     "output_type": "stream",
     "text": [
      "\n"
     ]
    },
    {
     "name": "stderr",
     "output_type": "stream",
     "text": [
      "All model checkpoint weights were used when initializing TFOpenAIGPTLMHeadModel.\n",
      "\n",
      "All the weights of TFOpenAIGPTLMHeadModel were initialized from the model checkpoint at openai-gpt.\n",
      "If your task is similar to the task the model of the ckeckpoint was trained on, you can already use TFOpenAIGPTLMHeadModel for predictions without further training.\n"
     ]
    }
   ],
   "source": [
    "#트랜스포머 라이브러리에서 모델 로드하여 사용하기.\n",
    "#BERT, GPT-2 등의 자연어 처리 네트워크와 사전 훈련된 모델 제공\n",
    "\n",
    "#OpenAI의 GPT 모델 사용\n",
    "from transformers import TFOpenAIGPTLMHeadModel\n",
    "\n",
    "model = TFOpenAIGPTLMHeadModel.from_pretrained(\"openai-gpt\")"
   ]
  },
  {
   "cell_type": "code",
   "execution_count": 49,
   "metadata": {},
   "outputs": [
    {
     "data": {
      "application/vnd.jupyter.widget-view+json": {
       "model_id": "60e9e86448db40e19e7a7c86de465542",
       "version_major": 2,
       "version_minor": 0
      },
      "text/plain": [
       "HBox(children=(FloatProgress(value=0.0, description='Downloading', max=815973.0, style=ProgressStyle(descripti…"
      ]
     },
     "metadata": {},
     "output_type": "display_data"
    },
    {
     "name": "stdout",
     "output_type": "stream",
     "text": [
      "\n"
     ]
    },
    {
     "data": {
      "application/vnd.jupyter.widget-view+json": {
       "model_id": "82efbf7060e746469ca3c32f08d2b1be",
       "version_major": 2,
       "version_minor": 0
      },
      "text/plain": [
       "HBox(children=(FloatProgress(value=0.0, description='Downloading', max=458495.0, style=ProgressStyle(descripti…"
      ]
     },
     "metadata": {},
     "output_type": "display_data"
    },
    {
     "name": "stderr",
     "output_type": "stream",
     "text": [
      "ftfy or spacy is not installed using BERT BasicTokenizer instead of SpaCy & ftfy.\n"
     ]
    },
    {
     "name": "stdout",
     "output_type": "stream",
     "text": [
      "\n"
     ]
    }
   ],
   "source": [
    "# 이 모델을 위한 특별 tokenizer 필요함.\n",
    "\n",
    "from transformers import OpenAIGPTTokenizer\n",
    "\n",
    "tokenizer = OpenAIGPTTokenizer.from_pretrained(\"openai-gpt\")"
   ]
  },
  {
   "cell_type": "code",
   "execution_count": 50,
   "metadata": {},
   "outputs": [
    {
     "data": {
      "text/plain": [
       "<tf.Tensor: shape=(1, 10), dtype=int32, numpy=\n",
       "array([[  616,  5751,  6404,   498,  9606,   240,   616, 26271,  7428,\n",
       "        16187]], dtype=int32)>"
      ]
     },
     "execution_count": 50,
     "metadata": {},
     "output_type": "execute_result"
    }
   ],
   "source": [
    "#제시할 문장을 인코딩 하기\n",
    "prompt_text = \"This royal throne of kings, this sceptred isle\"\n",
    "encoded_prompt = tokenizer.encode(prompt_text,\n",
    "                                  add_special_tokens=False,\n",
    "                                  return_tensors=\"tf\")\n",
    "encoded_prompt"
   ]
  },
  {
   "cell_type": "code",
   "execution_count": 51,
   "metadata": {},
   "outputs": [
    {
     "data": {
      "text/plain": [
       "<tf.Tensor: shape=(5, 50), dtype=int32, numpy=\n",
       "array([[  616,  5751,  6404,   498,  9606,   240,   616, 26271,  7428,\n",
       "        16187,   239, 40477,   244,   481,  2761,  7994,   587,   595,\n",
       "         2985,   512,   557,   246,  4815,   239,   481,  2676,   544,\n",
       "          617,   704,  1377,   239,   244,     8, 24294,   603,   239,\n",
       "        40477,   244,   249,  1048,  1458,   562,   481, 21200,   240,\n",
       "          568,   718,   759,   600,   604],\n",
       "       [  616,  5751,  6404,   498,  9606,   240,   616, 26271,  7428,\n",
       "        16187,   239,   487,   759,   808,  1777,   485,  1300,   481,\n",
       "         2873,   498,   507,  1990,   246,  6560, 21467,   240,  1389,\n",
       "          557, 29616,   239, 29616,   558,   728,  5055,   491,  1279,\n",
       "          271,   524,  1158,   535,  1163,   240,   524,  7590,   240,\n",
       "          488,   524, 33651,   498,   517],\n",
       "       [  616,  5751,  6404,   498,  9606,   240,   616, 26271,  7428,\n",
       "        16187,   636,   580,   481, 24721,   488,   905,  2589,   520,\n",
       "          558,   871,   848,  1223,   239, 40477,   513,  2228,   535,\n",
       "         3089,  1449,   481, 11963,   488, 12719,   240,  1313,   481,\n",
       "         3016,   535,   828,   239, 40477,   244,  2228,   260,   618,\n",
       "          585,  2274,   768,   544,   246],\n",
       "       [  616,  5751,  6404,   498,  9606,   240,   616, 26271,  7428,\n",
       "        16187,   240,   487,   509,   507,   239,   568,   487,   509,\n",
       "          881,   525,   645,   487,  1246,   609,   524,  4665,  1983,\n",
       "          562,   481,  2774,   240,   487,   636,   595,  4560,   481,\n",
       "          850,   239,  1340,   487,   509,   524,  1436,   240,   488,\n",
       "          487,   635,   848,   485,   664],\n",
       "       [  616,  5751,  6404,   498,  9606,   240,   616, 26271,  7428,\n",
       "        16187,   239,   507,   636,  1009,   481,  2179,  1594,   239,\n",
       "          256,   481,  1430,  1335,   557,  2185,  9549,   585,    15,\n",
       "        29606,  1335,   500,  3037,  3706,   240,   524,   928,  1674,\n",
       "         9900, 14052,   556,   481,  3706,   240,   568,   524,   741,\n",
       "          641, 15715,   239,   507,   509]], dtype=int32)>"
      ]
     },
     "execution_count": 51,
     "metadata": {},
     "output_type": "execute_result"
    }
   ],
   "source": [
    "#제시할 문장 이후의 텍스트 예측\n",
    "#5개의 서로 다른 문장 생성\n",
    "\n",
    "num_sequences = 5\n",
    "length = 40\n",
    "\n",
    "generated_sequences = model.generate(\n",
    "    input_ids=encoded_prompt,\n",
    "    do_sample=True,\n",
    "    max_length=length + len(encoded_prompt[0]),\n",
    "    temperature=1.0,\n",
    "    top_k=0,\n",
    "    top_p=0.9,\n",
    "    repetition_penalty=1.0,\n",
    "    num_return_sequences=num_sequences,\n",
    ")\n",
    "\n",
    "generated_sequences"
   ]
  },
  {
   "cell_type": "code",
   "execution_count": 52,
   "metadata": {},
   "outputs": [
    {
     "name": "stdout",
     "output_type": "stream",
     "text": [
      "this royal throne of kings, this sceptred isle. \n",
      " \" the sea folk do not wear you as a princess. the magic is from your blood. \" ahab said. \n",
      " \" i am sorry for the orcs, but how can they have\n",
      "--------------------------------------------------------------------------------\n",
      "this royal throne of kings, this sceptred isle. he can only hope to turn the weight of it towards a worthy adversary, such as claudio. claudio had other matters at heart : his father's home, his territory, and his armada of at\n",
      "--------------------------------------------------------------------------------\n",
      "this royal throne of kings, this sceptred isle would be the richest and most comfortable she had ever come across. \n",
      " her lady's guards stopped the marching and bowing, held the queen's hand. \n",
      " \" lady - king decanus is a\n",
      "--------------------------------------------------------------------------------\n",
      "this royal throne of kings, this sceptred isle, he was it. but he was sure that if he gave up his mortal form for the future, he would not survive the day. yet he was his god, and he could come to no\n",
      "--------------------------------------------------------------------------------\n",
      "this royal throne of kings, this sceptred isle. it would last the entire land.'the ground moved as lord cyndeyrn moved in sudden movement, his long blue robes rippling with the movement, but his eyes were watchful. it was\n",
      "--------------------------------------------------------------------------------\n"
     ]
    }
   ],
   "source": [
    "#생성된 문장 디코딩\n",
    "\n",
    "for sequence in generated_sequences:\n",
    "    text = tokenizer.decode(sequence, clean_up_tokenization_spaces=True)\n",
    "    print(text)\n",
    "    print(\"-\" * 80)"
   ]
  },
  {
   "cell_type": "code",
   "execution_count": null,
   "metadata": {},
   "outputs": [],
   "source": []
  }
 ],
 "metadata": {
  "kernelspec": {
   "display_name": "Python 3",
   "language": "python",
   "name": "python3"
  },
  "language_info": {
   "codemirror_mode": {
    "name": "ipython",
    "version": 3
   },
   "file_extension": ".py",
   "mimetype": "text/x-python",
   "name": "python",
   "nbconvert_exporter": "python",
   "pygments_lexer": "ipython3",
   "version": "3.6.9"
  }
 },
 "nbformat": 4,
 "nbformat_minor": 4
}
