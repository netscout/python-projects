{
 "cells": [
  {
   "cell_type": "code",
   "execution_count": 1,
   "metadata": {},
   "outputs": [],
   "source": [
    "# 사이킷런 ≥0.20 필수\n",
    "import sklearn\n",
    "assert sklearn.__version__ >= \"0.20\"\n",
    "\n",
    "# 텐서플로 ≥2.0 필수\n",
    "import tensorflow as tf\n",
    "from tensorflow import keras\n",
    "assert tf.__version__ >= \"2.0\"\n",
    "\n",
    "%load_ext tensorboard\n",
    "\n",
    "# 공통 모듈 임포트\n",
    "import numpy as np\n",
    "import os\n",
    "\n",
    "# 노트북 실행 결과를 동일하게 유지하기 위해\n",
    "np.random.seed(42)\n",
    "\n",
    "# 깔끔한 그래프 출력을 위해\n",
    "%matplotlib inline\n",
    "import matplotlib as mpl\n",
    "import matplotlib.pyplot as plt\n",
    "mpl.rc('axes', labelsize=14)\n",
    "mpl.rc('xtick', labelsize=12)\n",
    "mpl.rc('ytick', labelsize=12)\n",
    "\n",
    "# 그림을 저장할 위치\n",
    "PROJECT_ROOT_DIR = \".\"\n",
    "CHAPTER_ID = \"deep\"\n",
    "IMAGES_PATH = os.path.join(PROJECT_ROOT_DIR, \"images\", CHAPTER_ID)\n",
    "os.makedirs(IMAGES_PATH, exist_ok=True)\n",
    "\n",
    "def save_fig(fig_id, tight_layout=True, fig_extension=\"png\", resolution=300):\n",
    "    path = os.path.join(IMAGES_PATH, fig_id + \".\" + fig_extension)\n",
    "    print(\"그림 저장:\", fig_id)\n",
    "    if tight_layout:\n",
    "        plt.tight_layout()\n",
    "    plt.savefig(path, format=fig_extension, dpi=resolution)"
   ]
  },
  {
   "cell_type": "markdown",
   "metadata": {},
   "source": [
    "# 그래디언트 소실과 폭주 문제\n",
    "\n",
    "그래디언트 소실 : 역전파가 진행되면서 그래디언트가 점차 약해져서 아래쪽(입력층 쪽)에는 아무것도 전파되지 않는 문제\n",
    "\n",
    "그래디언트 폭주 : 그래디언트가 점점 커져서 비정상적으로 큰 가중치로 갱신되는 문제\n",
    "\n",
    "아래는 이 문제를 해결하기 위한 활성화 함수 및 기법들"
   ]
  },
  {
   "attachments": {
    "%EC%B4%88%EA%B8%B0%ED%99%94%EC%A0%84%EB%9E%B5.PNG": {
     "image/png": "[encoded data removed]"
    }
   },
   "cell_type": "markdown",
   "metadata": {},
   "source": [
    "![%EC%B4%88%EA%B8%B0%ED%99%94%EC%A0%84%EB%9E%B5.PNG](attachment:%EC%B4%88%EA%B8%B0%ED%99%94%EC%A0%84%EB%9E%B5.PNG)"
   ]
  },
  {
   "cell_type": "markdown",
   "metadata": {},
   "source": [
    "# 수렴하지 않는 활성화 함수\n",
    "\n",
    "ReLU의 경우 죽은 ReLU(dying ReLU)문제가 있음. 훈련하는 동안 이부 뉴런이 0이외의 값을 출력하지 못하는 상황\n",
    "\n",
    "이 문제를 해결하기 위해 LeakyRelu 사용\n",
    "\n",
    "하이퍼파라미터 a가 새는(leaky)정도를 결정. 일반적으로 0.01"
   ]
  },
  {
   "cell_type": "code",
   "execution_count": 2,
   "metadata": {},
   "outputs": [],
   "source": [
    "(X_train_full, y_train_full), (X_test, y_test) = keras.datasets.fashion_mnist.load_data()\n",
    "X_train_full = X_train_full / 255.0\n",
    "X_test = X_test / 255.0\n",
    "X_valid, X_train = X_train_full[:5000], X_train_full[5000:]\n",
    "y_valid, y_train = y_train_full[:5000], y_train_full[5000:]"
   ]
  },
  {
   "cell_type": "code",
   "execution_count": 8,
   "metadata": {},
   "outputs": [],
   "source": [
    "tf.random.set_seed(42)\n",
    "np.random.seed(42)\n",
    "\n",
    "model = keras.models.Sequential([\n",
    "    keras.layers.Flatten(input_shape=[28, 28]),\n",
    "    keras.layers.Dense(300, kernel_initializer=\"he_normal\"),\n",
    "    keras.layers.LeakyReLU(),\n",
    "    keras.layers.Dense(100, kernel_initializer=\"he_normal\"),\n",
    "    keras.layers.LeakyReLU(),\n",
    "    keras.layers.Dense(10, activation=\"softmax\")\n",
    "])"
   ]
  },
  {
   "cell_type": "code",
   "execution_count": 9,
   "metadata": {},
   "outputs": [],
   "source": [
    "model.compile(loss=\"sparse_categorical_crossentropy\",\n",
    "             optimizer=keras.optimizers.SGD(learning_rate=1e-3),\n",
    "             metrics=[\"accuracy\"])"
   ]
  },
  {
   "cell_type": "code",
   "execution_count": 10,
   "metadata": {},
   "outputs": [
    {
     "name": "stdout",
     "output_type": "stream",
     "text": [
      "Epoch 1/10\n",
      "1719/1719 [==============================] - 3s 2ms/step - loss: 1.2819 - accuracy: 0.6229 - val_loss: 0.8886 - val_accuracy: 0.7160\n",
      "Epoch 2/10\n",
      "1719/1719 [==============================] - 2s 1ms/step - loss: 0.7955 - accuracy: 0.7361 - val_loss: 0.7130 - val_accuracy: 0.7656\n",
      "Epoch 3/10\n",
      "1719/1719 [==============================] - 2s 1ms/step - loss: 0.6816 - accuracy: 0.7721 - val_loss: 0.6427 - val_accuracy: 0.7900\n",
      "Epoch 4/10\n",
      "1719/1719 [==============================] - 3s 2ms/step - loss: 0.6217 - accuracy: 0.7945 - val_loss: 0.5900 - val_accuracy: 0.8064\n",
      "Epoch 5/10\n",
      "1719/1719 [==============================] - 3s 2ms/step - loss: 0.5832 - accuracy: 0.8074 - val_loss: 0.5582 - val_accuracy: 0.8200\n",
      "Epoch 6/10\n",
      "1719/1719 [==============================] - 3s 2ms/step - loss: 0.5553 - accuracy: 0.8157 - val_loss: 0.5350 - val_accuracy: 0.8238\n",
      "Epoch 7/10\n",
      "1719/1719 [==============================] - 2s 1ms/step - loss: 0.5338 - accuracy: 0.8224 - val_loss: 0.5156 - val_accuracy: 0.8304\n",
      "Epoch 8/10\n",
      "1719/1719 [==============================] - 2s 1ms/step - loss: 0.5172 - accuracy: 0.8272 - val_loss: 0.5079 - val_accuracy: 0.8280\n",
      "Epoch 9/10\n",
      "1719/1719 [==============================] - 2s 1ms/step - loss: 0.5040 - accuracy: 0.8290 - val_loss: 0.4895 - val_accuracy: 0.8386\n",
      "Epoch 10/10\n",
      "1719/1719 [==============================] - 2s 1ms/step - loss: 0.4924 - accuracy: 0.8321 - val_loss: 0.4817 - val_accuracy: 0.8396\n"
     ]
    }
   ],
   "source": [
    "history = model.fit(X_train, y_train, epochs=10,\n",
    "                   validation_data=(X_valid, y_valid))"
   ]
  },
  {
   "cell_type": "code",
   "execution_count": 11,
   "metadata": {},
   "outputs": [],
   "source": [
    "#PReLU\n",
    "\n",
    "tf.random.set_seed(42)\n",
    "np.random.seed(42)\n",
    "\n",
    "model = keras.models.Sequential([\n",
    "    keras.layers.Flatten(input_shape=[28, 28]),\n",
    "    keras.layers.Dense(300, kernel_initializer=\"he_normal\"),\n",
    "    keras.layers.PReLU(),\n",
    "    keras.layers.Dense(100, kernel_initializer=\"he_normal\"),\n",
    "    keras.layers.PReLU(),\n",
    "    keras.layers.Dense(10, activation=\"softmax\")\n",
    "])"
   ]
  },
  {
   "cell_type": "code",
   "execution_count": 12,
   "metadata": {},
   "outputs": [],
   "source": [
    "model.compile(loss=\"sparse_categorical_crossentropy\",\n",
    "             optimizer=keras.optimizers.SGD(learning_rate=1e-3),\n",
    "             metrics=[\"accuracy\"])"
   ]
  },
  {
   "cell_type": "code",
   "execution_count": 13,
   "metadata": {
    "scrolled": true
   },
   "outputs": [
    {
     "name": "stdout",
     "output_type": "stream",
     "text": [
      "Epoch 1/10\n",
      "1719/1719 [==============================] - 3s 2ms/step - loss: 1.3461 - accuracy: 0.6209 - val_loss: 0.9255 - val_accuracy: 0.7186\n",
      "Epoch 2/10\n",
      "1719/1719 [==============================] - 3s 2ms/step - loss: 0.8197 - accuracy: 0.7355 - val_loss: 0.7305 - val_accuracy: 0.7630\n",
      "Epoch 3/10\n",
      "1719/1719 [==============================] - 3s 2ms/step - loss: 0.6965 - accuracy: 0.7694 - val_loss: 0.6564 - val_accuracy: 0.7882\n",
      "Epoch 4/10\n",
      "1719/1719 [==============================] - 3s 2ms/step - loss: 0.6330 - accuracy: 0.7909 - val_loss: 0.6003 - val_accuracy: 0.8048\n",
      "Epoch 5/10\n",
      "1719/1719 [==============================] - 3s 2ms/step - loss: 0.5917 - accuracy: 0.8056 - val_loss: 0.5656 - val_accuracy: 0.8182\n",
      "Epoch 6/10\n",
      "1719/1719 [==============================] - 3s 2ms/step - loss: 0.5618 - accuracy: 0.8133 - val_loss: 0.5406 - val_accuracy: 0.8236\n",
      "Epoch 7/10\n",
      "1719/1719 [==============================] - 3s 2ms/step - loss: 0.5390 - accuracy: 0.8205 - val_loss: 0.5196 - val_accuracy: 0.8312\n",
      "Epoch 8/10\n",
      "1719/1719 [==============================] - 3s 2ms/step - loss: 0.5213 - accuracy: 0.8257 - val_loss: 0.5113 - val_accuracy: 0.8314\n",
      "Epoch 9/10\n",
      "1719/1719 [==============================] - 3s 2ms/step - loss: 0.5070 - accuracy: 0.8289 - val_loss: 0.4916 - val_accuracy: 0.8378\n",
      "Epoch 10/10\n",
      "1719/1719 [==============================] - 3s 2ms/step - loss: 0.4945 - accuracy: 0.8316 - val_loss: 0.4826 - val_accuracy: 0.8394\n"
     ]
    }
   ],
   "source": [
    "history = model.fit(X_train, y_train, epochs=10,\n",
    "                   validation_data=(X_valid, y_valid))"
   ]
  },
  {
   "cell_type": "markdown",
   "metadata": {},
   "source": [
    "# ELU"
   ]
  },
  {
   "cell_type": "code",
   "execution_count": 14,
   "metadata": {},
   "outputs": [],
   "source": [
    "def elu(x, alpha = 1):\n",
    "    return np.where(z < 0, alpha * (np.exp(z) - 1), z)"
   ]
  },
  {
   "cell_type": "code",
   "execution_count": 15,
   "metadata": {},
   "outputs": [
    {
     "name": "stdout",
     "output_type": "stream",
     "text": [
      "그림 저장: elu_plot\n"
     ]
    },
    {
     "data": {
      "image/png": "[encoded data removed]",
      "text/plain": [
       "<Figure size 432x288 with 1 Axes>"
      ]
     },
     "metadata": {
      "needs_background": "light"
     },
     "output_type": "display_data"
    }
   ],
   "source": [
    "z = np.linspace(-5, 5, 200)\n",
    "\n",
    "plt.plot(z, elu(z), \"b-\", linewidth=2)\n",
    "plt.plot([-5, 5], [0, 0], 'k-')\n",
    "plt.plot([-5, 5], [-1, -1], 'k--')\n",
    "plt.plot([0, 0], [-2.2, 3.2], 'k-')\n",
    "plt.grid(True)\n",
    "plt.title(r\"ELU activation function ($\\alpha=1$)\", fontsize=14)\n",
    "plt.axis([-5, 5, -2.2, 3.2])\n",
    "\n",
    "save_fig(\"elu_plot\")\n",
    "plt.show()"
   ]
  },
  {
   "cell_type": "code",
   "execution_count": 16,
   "metadata": {},
   "outputs": [],
   "source": [
    "#elu\n",
    "\n",
    "tf.random.set_seed(42)\n",
    "np.random.seed(42)\n",
    "\n",
    "model = keras.models.Sequential([\n",
    "    keras.layers.Flatten(input_shape=[28, 28]),\n",
    "    keras.layers.Dense(300, kernel_initializer=\"he_normal\", activation=\"elu\"),\n",
    "    keras.layers.Dense(100, kernel_initializer=\"he_normal\", activation=\"elu\"),\n",
    "    keras.layers.Dense(10, activation=\"softmax\")\n",
    "])"
   ]
  },
  {
   "cell_type": "code",
   "execution_count": 17,
   "metadata": {},
   "outputs": [],
   "source": [
    "model.compile(loss=\"sparse_categorical_crossentropy\",\n",
    "             optimizer=keras.optimizers.SGD(learning_rate=1e-3),\n",
    "             metrics=[\"accuracy\"])"
   ]
  },
  {
   "cell_type": "code",
   "execution_count": 18,
   "metadata": {},
   "outputs": [
    {
     "name": "stdout",
     "output_type": "stream",
     "text": [
      "Epoch 1/10\n",
      "1719/1719 [==============================] - 3s 2ms/step - loss: 1.1201 - accuracy: 0.6462 - val_loss: 0.7927 - val_accuracy: 0.7376\n",
      "Epoch 2/10\n",
      "1719/1719 [==============================] - 2s 1ms/step - loss: 0.7228 - accuracy: 0.7570 - val_loss: 0.6571 - val_accuracy: 0.7822\n",
      "Epoch 3/10\n",
      "1719/1719 [==============================] - 3s 2ms/step - loss: 0.6316 - accuracy: 0.7878 - val_loss: 0.5999 - val_accuracy: 0.8022\n",
      "Epoch 4/10\n",
      "1719/1719 [==============================] - 3s 2ms/step - loss: 0.5824 - accuracy: 0.8044 - val_loss: 0.5562 - val_accuracy: 0.8216\n",
      "Epoch 5/10\n",
      "1719/1719 [==============================] - 3s 1ms/step - loss: 0.5508 - accuracy: 0.8149 - val_loss: 0.5306 - val_accuracy: 0.8268\n",
      "Epoch 6/10\n",
      "1719/1719 [==============================] - 3s 1ms/step - loss: 0.5281 - accuracy: 0.8201 - val_loss: 0.5113 - val_accuracy: 0.8294\n",
      "Epoch 7/10\n",
      "1719/1719 [==============================] - 2s 1ms/step - loss: 0.5108 - accuracy: 0.8253 - val_loss: 0.4957 - val_accuracy: 0.8344\n",
      "Epoch 8/10\n",
      "1719/1719 [==============================] - 2s 1ms/step - loss: 0.4975 - accuracy: 0.8300 - val_loss: 0.4888 - val_accuracy: 0.8340\n",
      "Epoch 9/10\n",
      "1719/1719 [==============================] - 2s 1ms/step - loss: 0.4867 - accuracy: 0.8315 - val_loss: 0.4744 - val_accuracy: 0.8406\n",
      "Epoch 10/10\n",
      "1719/1719 [==============================] - 2s 1ms/step - loss: 0.4771 - accuracy: 0.8351 - val_loss: 0.4679 - val_accuracy: 0.8428\n"
     ]
    }
   ],
   "source": [
    "history = model.fit(X_train, y_train, epochs=10,\n",
    "                   validation_data=(X_valid, y_valid))"
   ]
  },
  {
   "cell_type": "markdown",
   "metadata": {},
   "source": [
    "다른 모든 ReLU 변종보다 성능이 높음, 훈련 시간이 줄고 신경망의 테스트 세트 성능도 높음\n",
    "\n",
    "훈련은 빠르나 단점으로 계산이 느림."
   ]
  },
  {
   "cell_type": "markdown",
   "metadata": {},
   "source": [
    "# SELU\n",
    "\n",
    "ELU의 변종"
   ]
  },
  {
   "cell_type": "code",
   "execution_count": 19,
   "metadata": {},
   "outputs": [],
   "source": [
    "np.random.seed(42)\n",
    "tf.random.set_seed(42)\n",
    "\n",
    "model = keras.models.Sequential()\n",
    "model.add(keras.layers.Flatten(input_shape=[28, 28]))\n",
    "model.add(keras.layers.Dense(300, activation=\"selu\",\n",
    "                             kernel_initializer=\"lecun_normal\"))\n",
    "for layer in range(99):\n",
    "    model.add(keras.layers.Dense(100, activation=\"selu\",\n",
    "                                 kernel_initializer=\"lecun_normal\"))\n",
    "model.add(keras.layers.Dense(10, activation=\"softmax\"))"
   ]
  },
  {
   "cell_type": "code",
   "execution_count": 20,
   "metadata": {},
   "outputs": [],
   "source": [
    "model.compile(loss=\"sparse_categorical_crossentropy\",\n",
    "              optimizer=keras.optimizers.SGD(lr=1e-3),\n",
    "              metrics=[\"accuracy\"])"
   ]
  },
  {
   "cell_type": "code",
   "execution_count": 21,
   "metadata": {},
   "outputs": [],
   "source": [
    "#SELU는 반드시 모든 입력을 평균 0과 표준편차 1로 변경해야 함\n",
    "\n",
    "pixel_means = X_train.mean(axis=0, keepdims=True)\n",
    "pixel_stds = X_train.std(axis=0, keepdims=True)\n",
    "X_train_scaled = (X_train - pixel_means) / pixel_stds\n",
    "X_valid_scaled = (X_valid - pixel_means) / pixel_stds\n",
    "X_test_scaled = (X_test - pixel_means) / pixel_stds"
   ]
  },
  {
   "cell_type": "code",
   "execution_count": 22,
   "metadata": {},
   "outputs": [
    {
     "name": "stdout",
     "output_type": "stream",
     "text": [
      "Epoch 1/10\n",
      "1719/1719 [==============================] - 19s 11ms/step - loss: 1.3713 - accuracy: 0.4687 - val_loss: 0.9437 - val_accuracy: 0.6360\n",
      "Epoch 2/10\n",
      "1719/1719 [==============================] - 18s 10ms/step - loss: 0.8343 - accuracy: 0.6928 - val_loss: 0.9943 - val_accuracy: 0.6464\n",
      "Epoch 3/10\n",
      "1719/1719 [==============================] - 18s 10ms/step - loss: 0.6983 - accuracy: 0.7458 - val_loss: 0.6822 - val_accuracy: 0.7624\n",
      "Epoch 4/10\n",
      "1719/1719 [==============================] - 18s 11ms/step - loss: 0.6252 - accuracy: 0.7700 - val_loss: 0.6009 - val_accuracy: 0.7784\n",
      "Epoch 5/10\n",
      "1719/1719 [==============================] - 18s 11ms/step - loss: 0.5783 - accuracy: 0.7847 - val_loss: 0.5523 - val_accuracy: 0.7996\n",
      "Epoch 6/10\n",
      "1719/1719 [==============================] - 18s 10ms/step - loss: 0.5478 - accuracy: 0.8006 - val_loss: 0.5183 - val_accuracy: 0.8112\n",
      "Epoch 7/10\n",
      "1719/1719 [==============================] - 18s 10ms/step - loss: 0.5228 - accuracy: 0.8112 - val_loss: 0.5295 - val_accuracy: 0.8062\n",
      "Epoch 8/10\n",
      "1719/1719 [==============================] - 18s 10ms/step - loss: 0.4950 - accuracy: 0.8218 - val_loss: 0.5171 - val_accuracy: 0.8114\n",
      "Epoch 9/10\n",
      "1719/1719 [==============================] - 18s 10ms/step - loss: 0.4736 - accuracy: 0.8318 - val_loss: 0.4809 - val_accuracy: 0.8266\n",
      "Epoch 10/10\n",
      "1719/1719 [==============================] - 18s 10ms/step - loss: 0.4626 - accuracy: 0.8381 - val_loss: 0.4568 - val_accuracy: 0.8430\n"
     ]
    }
   ],
   "source": [
    "history = model.fit(X_train_scaled, y_train, epochs=10,\n",
    "                    validation_data=(X_valid_scaled, y_valid))"
   ]
  },
  {
   "cell_type": "markdown",
   "metadata": {},
   "source": [
    "심층 신경망의 은칙층에 써야할 활성화 함수\n",
    "\n",
    "SELU > ELU > LeakyReLU > ReLU > hanh > 시그모이드\n",
    "\n",
    "네트워크가 자기 정규화되지 못한다면(와이드 & 딥 네트워크, 순환신경망 등) ELU\n",
    "\n",
    "실행 속도가 중요하다면 LeakyReLU\n",
    "\n",
    "속도가 중요하다면 ReLU"
   ]
  },
  {
   "cell_type": "markdown",
   "metadata": {},
   "source": [
    "# 배치 정규화\n",
    "\n",
    "모든 심층 신경망에서 배치 정규화가 성능을 크게 향샹시킴\n",
    "\n",
    "그래디언트 소실 문제가 크게 감소하기 때문에 하이퍼볼릭 탄젠트나 시그모이드 같은 수렴성을 가진 활성화 함수 사용가능\n",
    "\n",
    "규제와 같은 역할 수행"
   ]
  },
  {
   "cell_type": "code",
   "execution_count": 23,
   "metadata": {},
   "outputs": [],
   "source": [
    "model = keras.models.Sequential([\n",
    "    keras.layers.Flatten(input_shape=[28, 28]),\n",
    "    keras.layers.BatchNormalization(),           #배치 정규화\n",
    "    keras.layers.Dense(300, activation=\"relu\"),\n",
    "    keras.layers.BatchNormalization(),           #배치 정규화\n",
    "    keras.layers.Dense(100, activation=\"relu\"),\n",
    "    keras.layers.BatchNormalization(),           #배치 정규화\n",
    "    keras.layers.Dense(10, activation=\"softmax\")\n",
    "])"
   ]
  },
  {
   "cell_type": "code",
   "execution_count": 24,
   "metadata": {},
   "outputs": [
    {
     "name": "stdout",
     "output_type": "stream",
     "text": [
      "Model: \"sequential_6\"\n",
      "_________________________________________________________________\n",
      "Layer (type)                 Output Shape              Param #   \n",
      "=================================================================\n",
      "flatten_6 (Flatten)          (None, 784)               0         \n",
      "_________________________________________________________________\n",
      "batch_normalization (BatchNo (None, 784)               3136      \n",
      "_________________________________________________________________\n",
      "dense_116 (Dense)            (None, 300)               235500    \n",
      "_________________________________________________________________\n",
      "batch_normalization_1 (Batch (None, 300)               1200      \n",
      "_________________________________________________________________\n",
      "dense_117 (Dense)            (None, 100)               30100     \n",
      "_________________________________________________________________\n",
      "batch_normalization_2 (Batch (None, 100)               400       \n",
      "_________________________________________________________________\n",
      "dense_118 (Dense)            (None, 10)                1010      \n",
      "=================================================================\n",
      "Total params: 271,346\n",
      "Trainable params: 268,978\n",
      "Non-trainable params: 2,368\n",
      "_________________________________________________________________\n"
     ]
    }
   ],
   "source": [
    "model.summary()\n",
    "\n",
    "#입력마다 4개의 파라미터를 추가하므로 첫 번째 배치 정규화 층의 파라미터 개수는 784 * 4 = 3136"
   ]
  },
  {
   "cell_type": "code",
   "execution_count": 26,
   "metadata": {
    "scrolled": true
   },
   "outputs": [
    {
     "data": {
      "text/plain": [
       "[('batch_normalization/gamma:0', True),\n",
       " ('batch_normalization/beta:0', True),\n",
       " ('batch_normalization/moving_mean:0', False),\n",
       " ('batch_normalization/moving_variance:0', False)]"
      ]
     },
     "execution_count": 26,
     "metadata": {},
     "output_type": "execute_result"
    }
   ],
   "source": [
    "bn1 = model.layers[1]\n",
    "[(var.name, var.trainable) for var in bn1.variables]\n",
    "\n",
    "#2개의 파라미터는 역전파로 훈련됨"
   ]
  },
  {
   "cell_type": "code",
   "execution_count": 27,
   "metadata": {},
   "outputs": [
    {
     "data": {
      "text/plain": [
       "[<tf.Operation 'cond/Identity' type=Identity>,\n",
       " <tf.Operation 'cond_1/Identity' type=Identity>]"
      ]
     },
     "execution_count": 27,
     "metadata": {},
     "output_type": "execute_result"
    }
   ],
   "source": [
    "bn1.updates\n",
    "\n",
    "#각 에포크마다 호출된 2개의 업데이트 연산"
   ]
  },
  {
   "cell_type": "code",
   "execution_count": 28,
   "metadata": {},
   "outputs": [],
   "source": [
    "model.compile(loss=\"sparse_categorical_crossentropy\",\n",
    "              optimizer=keras.optimizers.SGD(lr=1e-3),\n",
    "              metrics=[\"accuracy\"])"
   ]
  },
  {
   "cell_type": "code",
   "execution_count": 29,
   "metadata": {},
   "outputs": [
    {
     "name": "stdout",
     "output_type": "stream",
     "text": [
      "Epoch 1/10\n",
      "1719/1719 [==============================] - 4s 2ms/step - loss: 0.8750 - accuracy: 0.7123 - val_loss: 0.5526 - val_accuracy: 0.8230\n",
      "Epoch 2/10\n",
      "1719/1719 [==============================] - 4s 2ms/step - loss: 0.5753 - accuracy: 0.8031 - val_loss: 0.4724 - val_accuracy: 0.8468\n",
      "Epoch 3/10\n",
      "1719/1719 [==============================] - 4s 2ms/step - loss: 0.5190 - accuracy: 0.8205 - val_loss: 0.4375 - val_accuracy: 0.8556\n",
      "Epoch 4/10\n",
      "1719/1719 [==============================] - 4s 2ms/step - loss: 0.4827 - accuracy: 0.8324 - val_loss: 0.4152 - val_accuracy: 0.8606\n",
      "Epoch 5/10\n",
      "1719/1719 [==============================] - 4s 2ms/step - loss: 0.4565 - accuracy: 0.8407 - val_loss: 0.3997 - val_accuracy: 0.8632\n",
      "Epoch 6/10\n",
      "1719/1719 [==============================] - 4s 2ms/step - loss: 0.4397 - accuracy: 0.8472 - val_loss: 0.3867 - val_accuracy: 0.8692\n",
      "Epoch 7/10\n",
      "1719/1719 [==============================] - 4s 2ms/step - loss: 0.4242 - accuracy: 0.8514 - val_loss: 0.3763 - val_accuracy: 0.8702\n",
      "Epoch 8/10\n",
      "1719/1719 [==============================] - 4s 2ms/step - loss: 0.4143 - accuracy: 0.8541 - val_loss: 0.3712 - val_accuracy: 0.8740\n",
      "Epoch 9/10\n",
      "1719/1719 [==============================] - 4s 2ms/step - loss: 0.4023 - accuracy: 0.8579 - val_loss: 0.3631 - val_accuracy: 0.8750\n",
      "Epoch 10/10\n",
      "1719/1719 [==============================] - 4s 2ms/step - loss: 0.3914 - accuracy: 0.8623 - val_loss: 0.3573 - val_accuracy: 0.8760\n"
     ]
    }
   ],
   "source": [
    "history = model.fit(X_train, y_train, epochs=10,\n",
    "                    validation_data=(X_valid, y_valid))\n",
    "\n",
    "#그냥 leakyReLU, ELU를 사용했을 때 보다 성능이 높음."
   ]
  },
  {
   "cell_type": "code",
   "execution_count": 30,
   "metadata": {},
   "outputs": [],
   "source": [
    "#활성화 함수 전에 배치 정규화를 실행할 수도 있음(성능은 그때그때 다를 수 있음)\n",
    "#배치 정규화 이전의 층은 편향이 필요 없으므로 편향을 제거해야\n",
    "\n",
    "model = keras.models.Sequential([\n",
    "    keras.layers.Flatten(input_shape=[28, 28]),\n",
    "    keras.layers.BatchNormalization(),\n",
    "    keras.layers.Dense(300, use_bias=False), #편향 제거\n",
    "    keras.layers.BatchNormalization(),\n",
    "    keras.layers.Activation(\"relu\"),\n",
    "    keras.layers.Dense(100, use_bias=False), #편향 제거\n",
    "    keras.layers.BatchNormalization(),\n",
    "    keras.layers.Activation(\"relu\"),\n",
    "    keras.layers.Dense(10, activation=\"softmax\")\n",
    "])"
   ]
  },
  {
   "cell_type": "code",
   "execution_count": 31,
   "metadata": {},
   "outputs": [],
   "source": [
    "model.compile(loss=\"sparse_categorical_crossentropy\",\n",
    "              optimizer=keras.optimizers.SGD(lr=1e-3),\n",
    "              metrics=[\"accuracy\"])"
   ]
  },
  {
   "cell_type": "code",
   "execution_count": 32,
   "metadata": {},
   "outputs": [
    {
     "name": "stdout",
     "output_type": "stream",
     "text": [
      "Epoch 1/10\n",
      "1719/1719 [==============================] - 4s 2ms/step - loss: 1.0317 - accuracy: 0.6757 - val_loss: 0.6767 - val_accuracy: 0.7810\n",
      "Epoch 2/10\n",
      "1719/1719 [==============================] - 4s 2ms/step - loss: 0.6790 - accuracy: 0.7792 - val_loss: 0.5566 - val_accuracy: 0.8182\n",
      "Epoch 3/10\n",
      "1719/1719 [==============================] - 4s 2ms/step - loss: 0.5960 - accuracy: 0.8037 - val_loss: 0.5007 - val_accuracy: 0.8360\n",
      "Epoch 4/10\n",
      "1719/1719 [==============================] - 4s 2ms/step - loss: 0.5447 - accuracy: 0.8190 - val_loss: 0.4666 - val_accuracy: 0.8448\n",
      "Epoch 5/10\n",
      "1719/1719 [==============================] - 4s 2ms/step - loss: 0.5109 - accuracy: 0.8279 - val_loss: 0.4434 - val_accuracy: 0.8532\n",
      "Epoch 6/10\n",
      "1719/1719 [==============================] - 4s 2ms/step - loss: 0.4898 - accuracy: 0.8337 - val_loss: 0.4263 - val_accuracy: 0.8548\n",
      "Epoch 7/10\n",
      "1719/1719 [==============================] - 4s 2ms/step - loss: 0.4712 - accuracy: 0.8396 - val_loss: 0.4130 - val_accuracy: 0.8572\n",
      "Epoch 8/10\n",
      "1719/1719 [==============================] - 4s 2ms/step - loss: 0.4560 - accuracy: 0.8439 - val_loss: 0.4034 - val_accuracy: 0.8610\n",
      "Epoch 9/10\n",
      "1719/1719 [==============================] - 4s 2ms/step - loss: 0.4441 - accuracy: 0.8474 - val_loss: 0.3942 - val_accuracy: 0.8642\n",
      "Epoch 10/10\n",
      "1719/1719 [==============================] - 4s 2ms/step - loss: 0.4333 - accuracy: 0.8505 - val_loss: 0.3874 - val_accuracy: 0.8658\n"
     ]
    }
   ],
   "source": [
    "history = model.fit(X_train, y_train, epochs=10,\n",
    "                    validation_data=(X_valid, y_valid))\n",
    "\n",
    "#활성화 함수 다음에 배치 정규화를 실행한 것 보다 성능이 떨어짐"
   ]
  },
  {
   "cell_type": "markdown",
   "metadata": {},
   "source": [
    "배치 정규화(keras.layers.BatchNormalization)는 심층 심경망에서 매우 널리 사용\n",
    "\n",
    "일반적으로 모든 층 위에 배치 정규화가 있다고 가정."
   ]
  },
  {
   "cell_type": "markdown",
   "metadata": {},
   "source": [
    "# 그래디언트 클리핑\n",
    "\n",
    "순환 신경망 같이 배치 정규화 적용이 어려운 경우 적용\n",
    "\n",
    "그래디언트 벡터(가중치 및 편향의 기울기 값)의 모든 원소를 -1.0과 1.0 사이의 값으로 잘라내기\n",
    "\n",
    "케라스의 모든 옵티마이저는 clipnorm, clipvalue매개변수 지원(1.0으로 설정)"
   ]
  },
  {
   "cell_type": "markdown",
   "metadata": {},
   "source": [
    "# 훈련된 층 재사용\n",
    "\n",
    "비슷한 유형의 문제를 처리한 DNN(심층 신경망)의 하위층(입력층에 가까운 쪽)을 재사용 : 전이 학습\n",
    "\n",
    "작업이 비슷할 수록 더 많은 층을 재사용 가능.\n",
    "\n",
    "매우 비슷하다면 출력층만 재사용 가능"
   ]
  },
  {
   "cell_type": "code",
   "execution_count": 33,
   "metadata": {},
   "outputs": [],
   "source": [
    "def split_dataset(X, y):\n",
    "    y_5_or_y_6 = (y == 5) | (y == 6) #샌들, 셔츠만\n",
    "    y_A = y[~y_5_or_y_6]#샌들, 셔츠를 제외한 모든 것\n",
    "    y_A[y_A > 6] -= 2 #7, 8, 9에 해당하는 것들을 5, 6, 7로 만들어서 연속적으로 구성\n",
    "    y_B = (y[y_5_or_y_6] == 6).astype(np.float32) #5, 6에 해당하는 레이블을 0, 1로 구성(이진 분류)\n",
    "    return (\n",
    "        (X[~y_5_or_y_6], y_A), #샌들(5), 셔츠(6)을 제외한 모든 세트\n",
    "        (X[y_5_or_y_6], y_B) #샌들, 셔츠에 대한 이진 분류 세트\n",
    "    )\n",
    "\n",
    "(X_train_A, y_train_A), (X_train_B, y_train_B) = split_dataset(X_train, y_train)\n",
    "(X_valid_A, y_valid_A), (X_valid_B, y_valid_B) = split_dataset(X_valid, y_valid)\n",
    "(X_test_A, y_test_A), (X_test_B, y_test_B) = split_dataset(X_test, y_test)\n",
    "\n",
    "X_train_B = X_train_B[:200]\n",
    "y_train_B = y_train_B[:200]"
   ]
  },
  {
   "cell_type": "code",
   "execution_count": 34,
   "metadata": {},
   "outputs": [
    {
     "data": {
      "text/plain": [
       "((43986, 28, 28), (200, 28, 28))"
      ]
     },
     "execution_count": 34,
     "metadata": {},
     "output_type": "execute_result"
    }
   ],
   "source": [
    "X_train_A.shape, X_train_B.shape"
   ]
  },
  {
   "cell_type": "code",
   "execution_count": 37,
   "metadata": {},
   "outputs": [
    {
     "data": {
      "text/plain": [
       "(array([[0.        , 0.        , 0.        , 0.        , 0.        ,\n",
       "         0.        , 0.        , 0.        , 0.        , 0.        ,\n",
       "         0.        , 0.        , 0.        , 0.        , 0.        ,\n",
       "         0.        , 0.        , 0.        , 0.        , 0.00392157,\n",
       "         0.        , 0.        , 0.        , 0.        , 0.        ,\n",
       "         0.        , 0.        , 0.        ],\n",
       "        [0.        , 0.        , 0.        , 0.        , 0.        ,\n",
       "         0.        , 0.        , 0.        , 0.        , 0.        ,\n",
       "         0.        , 0.17254902, 0.49803922, 0.71372549, 0.7254902 ,\n",
       "         0.63137255, 0.47058824, 0.21568627, 0.        , 0.        ,\n",
       "         0.        , 0.        , 0.        , 0.        , 0.        ,\n",
       "         0.        , 0.        , 0.        ],\n",
       "        [0.        , 0.        , 0.        , 0.        , 0.        ,\n",
       "         0.        , 0.        , 0.        , 0.        , 0.16470588,\n",
       "         0.77647059, 0.98431373, 1.        , 0.98431373, 0.97647059,\n",
       "         0.96862745, 1.        , 0.98823529, 0.83921569, 0.39215686,\n",
       "         0.        , 0.        , 0.        , 0.        , 0.        ,\n",
       "         0.        , 0.        , 0.        ],\n",
       "        [0.        , 0.        , 0.        , 0.        , 0.        ,\n",
       "         0.        , 0.00784314, 0.        , 0.        , 0.91372549,\n",
       "         0.98823529, 0.92941176, 0.9372549 , 0.91764706, 0.92941176,\n",
       "         0.92156863, 0.92941176, 0.92941176, 0.99607843, 0.89019608,\n",
       "         0.        , 0.        , 0.        , 0.        , 0.00392157,\n",
       "         0.        , 0.        , 0.        ],\n",
       "        [0.        , 0.        , 0.        , 0.        , 0.        ,\n",
       "         0.00784314, 0.        , 0.        , 0.0627451 , 0.82352941,\n",
       "         0.88235294, 0.84313725, 0.68627451, 0.85098039, 0.84705882,\n",
       "         0.75686275, 0.76862745, 0.88627451, 0.86666667, 0.81960784,\n",
       "         0.19607843, 0.        , 0.        , 0.00784314, 0.        ,\n",
       "         0.        , 0.        , 0.        ],\n",
       "        [0.        , 0.        , 0.        , 0.        , 0.00784314,\n",
       "         0.        , 0.        , 0.78039216, 0.89803922, 0.90980392,\n",
       "         0.90196078, 0.96078431, 0.8       , 0.85882353, 0.99215686,\n",
       "         0.96078431, 0.81176471, 0.76078431, 0.8745098 , 0.90588235,\n",
       "         0.9254902 , 0.92156863, 0.        , 0.        , 0.01176471,\n",
       "         0.        , 0.        , 0.        ],\n",
       "        [0.        , 0.        , 0.        , 0.        , 0.00392157,\n",
       "         0.        , 0.5372549 , 0.92156863, 0.8       , 0.81960784,\n",
       "         0.78823529, 0.81960784, 0.91764706, 0.74509804, 0.91764706,\n",
       "         0.85490196, 0.84313725, 0.93333333, 0.9372549 , 0.8       ,\n",
       "         0.74117647, 0.87843137, 0.60392157, 0.        , 0.        ,\n",
       "         0.        , 0.        , 0.        ],\n",
       "        [0.        , 0.        , 0.        , 0.        , 0.        ,\n",
       "         0.        , 0.76078431, 0.78823529, 0.78431373, 0.81960784,\n",
       "         0.79215686, 0.75686275, 0.80392157, 0.76078431, 0.71764706,\n",
       "         0.85490196, 0.90588235, 0.77254902, 0.6745098 , 0.70980392,\n",
       "         0.75686275, 0.80392157, 0.78039216, 0.        , 0.        ,\n",
       "         0.        , 0.        , 0.        ],\n",
       "        [0.        , 0.        , 0.        , 0.        , 0.        ,\n",
       "         0.01176471, 0.83137255, 0.79607843, 0.7372549 , 0.74117647,\n",
       "         0.76862745, 0.77647059, 0.77647059, 0.78823529, 0.76862745,\n",
       "         0.85098039, 0.70196078, 0.65490196, 0.71764706, 0.85098039,\n",
       "         0.77254902, 0.79215686, 0.85882353, 0.11764706, 0.        ,\n",
       "         0.        , 0.        , 0.        ],\n",
       "        [0.        , 0.        , 0.        , 0.        , 0.        ,\n",
       "         0.13333333, 0.88235294, 0.78431373, 0.76078431, 0.74509804,\n",
       "         0.7372549 , 0.75294118, 0.76862745, 0.75294118, 0.66666667,\n",
       "         0.79215686, 0.74509804, 0.78823529, 0.76470588, 0.78431373,\n",
       "         0.78823529, 0.81960784, 0.89019608, 0.19607843, 0.        ,\n",
       "         0.        , 0.        , 0.        ],\n",
       "        [0.        , 0.        , 0.        , 0.        , 0.        ,\n",
       "         0.26666667, 0.88235294, 0.82352941, 0.82745098, 0.77647059,\n",
       "         0.75294118, 0.76862745, 0.8       , 0.76862745, 0.70980392,\n",
       "         0.83137255, 0.77254902, 0.76470588, 0.75294118, 0.80784314,\n",
       "         0.8627451 , 0.82352941, 0.89803922, 0.36470588, 0.        ,\n",
       "         0.        , 0.        , 0.        ],\n",
       "        [0.        , 0.        , 0.        , 0.        , 0.        ,\n",
       "         0.43529412, 0.8745098 , 0.89019608, 0.99215686, 0.81960784,\n",
       "         0.76862745, 0.8       , 0.82745098, 0.80784314, 0.71764706,\n",
       "         0.84705882, 0.80784314, 0.82352941, 0.79607843, 0.84313725,\n",
       "         0.95686275, 0.87843137, 0.89019608, 0.58823529, 0.        ,\n",
       "         0.        , 0.        , 0.        ],\n",
       "        [0.        , 0.        , 0.        , 0.        , 0.        ,\n",
       "         0.54509804, 0.88235294, 0.87843137, 1.        , 0.79215686,\n",
       "         0.80784314, 0.83137255, 0.81960784, 0.82745098, 0.74509804,\n",
       "         0.83529412, 0.79215686, 0.81176471, 0.80784314, 0.87058824,\n",
       "         1.        , 0.90196078, 0.8627451 , 0.74509804, 0.        ,\n",
       "         0.        , 0.        , 0.        ],\n",
       "        [0.        , 0.        , 0.        , 0.        , 0.        ,\n",
       "         0.70588235, 0.88627451, 0.87843137, 1.        , 0.78039216,\n",
       "         0.8       , 0.81176471, 0.83921569, 0.83921569, 0.74509804,\n",
       "         0.84705882, 0.80784314, 0.79607843, 0.80392157, 0.85882353,\n",
       "         0.95294118, 0.87843137, 0.83921569, 0.91764706, 0.        ,\n",
       "         0.        , 0.        , 0.        ],\n",
       "        [0.        , 0.        , 0.        , 0.        , 0.        ,\n",
       "         0.88235294, 0.8745098 , 0.89411765, 0.99607843, 0.81960784,\n",
       "         0.80784314, 0.81568627, 0.83529412, 0.82352941, 0.74901961,\n",
       "         0.84313725, 0.81176471, 0.8       , 0.81568627, 0.82745098,\n",
       "         0.97647059, 0.88627451, 0.83921569, 1.        , 0.14901961,\n",
       "         0.        , 0.        , 0.        ],\n",
       "        [0.        , 0.        , 0.        , 0.        , 0.        ,\n",
       "         0.98039216, 0.90980392, 0.94117647, 0.9372549 , 0.82745098,\n",
       "         0.79607843, 0.81960784, 0.80392157, 0.82745098, 0.77254902,\n",
       "         0.84313725, 0.81568627, 0.81568627, 0.83921569, 0.83529412,\n",
       "         0.9372549 , 0.90588235, 0.85882353, 1.        , 0.31764706,\n",
       "         0.        , 0.        , 0.        ],\n",
       "        [0.        , 0.        , 0.        , 0.        , 0.        ,\n",
       "         0.97254902, 0.9254902 , 0.96862745, 0.94117647, 0.79607843,\n",
       "         0.78431373, 0.81568627, 0.80784314, 0.83921569, 0.75686275,\n",
       "         0.83529412, 0.83137255, 0.81568627, 0.83137255, 0.82745098,\n",
       "         0.95294118, 0.94901961, 0.88235294, 0.99607843, 0.25882353,\n",
       "         0.        , 0.        , 0.        ],\n",
       "        [0.        , 0.        , 0.        , 0.        , 0.        ,\n",
       "         0.96862745, 0.90196078, 0.98823529, 0.88627451, 0.78039216,\n",
       "         0.82745098, 0.79215686, 0.82745098, 0.83529412, 0.71372549,\n",
       "         0.83529412, 0.83137255, 0.80784314, 0.79215686, 0.85882353,\n",
       "         0.81176471, 0.96862745, 0.87058824, 0.92941176, 0.40784314,\n",
       "         0.        , 0.        , 0.        ],\n",
       "        [0.        , 0.        , 0.        , 0.        , 0.03921569,\n",
       "         0.95686275, 0.85882353, 0.98039216, 0.80392157, 0.78039216,\n",
       "         0.81960784, 0.79215686, 0.81960784, 0.82745098, 0.74117647,\n",
       "         0.83921569, 0.80784314, 0.82352941, 0.78431373, 0.83137255,\n",
       "         0.60392157, 0.94117647, 0.81568627, 0.85882353, 0.54901961,\n",
       "         0.        , 0.        , 0.        ],\n",
       "        [0.        , 0.        , 0.        , 0.        , 0.08235294,\n",
       "         1.        , 0.87058824, 0.93333333, 0.72156863, 0.82352941,\n",
       "         0.75294118, 0.80784314, 0.81960784, 0.82352941, 0.74117647,\n",
       "         0.83529412, 0.82745098, 0.81960784, 0.75294118, 0.89411765,\n",
       "         0.60784314, 0.88627451, 0.93333333, 0.94509804, 0.65098039,\n",
       "         0.        , 0.        , 0.        ],\n",
       "        [0.        , 0.        , 0.        , 0.        , 0.14509804,\n",
       "         0.96078431, 0.88627451, 0.94509804, 0.58823529, 0.77254902,\n",
       "         0.74117647, 0.8       , 0.81960784, 0.82352941, 0.71764706,\n",
       "         0.83529412, 0.83529412, 0.78823529, 0.72156863, 0.84313725,\n",
       "         0.57254902, 0.84705882, 0.9254902 , 0.88235294, 0.60392157,\n",
       "         0.        , 0.        , 0.        ],\n",
       "        [0.        , 0.        , 0.        , 0.        , 0.22745098,\n",
       "         0.9372549 , 0.89019608, 1.        , 0.61960784, 0.75686275,\n",
       "         0.76470588, 0.8       , 0.81960784, 0.83529412, 0.70588235,\n",
       "         0.81176471, 0.85098039, 0.78039216, 0.76078431, 0.82745098,\n",
       "         0.61960784, 0.85882353, 0.9254902 , 0.84705882, 0.59215686,\n",
       "         0.        , 0.        , 0.        ],\n",
       "        [0.        , 0.        , 0.        , 0.        , 0.26666667,\n",
       "         0.91372549, 0.88627451, 0.95294118, 0.54509804, 0.78431373,\n",
       "         0.75686275, 0.80392157, 0.82352941, 0.81568627, 0.70588235,\n",
       "         0.80392157, 0.83137255, 0.79607843, 0.76862745, 0.84705882,\n",
       "         0.61568627, 0.70196078, 1.        , 0.84705882, 0.60784314,\n",
       "         0.        , 0.        , 0.        ],\n",
       "        [0.        , 0.        , 0.        , 0.        , 0.31764706,\n",
       "         0.88235294, 0.87843137, 0.82745098, 0.54117647, 0.85882353,\n",
       "         0.7254902 , 0.78823529, 0.83529412, 0.81176471, 0.77254902,\n",
       "         0.88627451, 0.83137255, 0.78431373, 0.74509804, 0.84313725,\n",
       "         0.71764706, 0.35294118, 1.        , 0.82745098, 0.57647059,\n",
       "         0.        , 0.        , 0.        ],\n",
       "        [0.        , 0.        , 0.        , 0.        , 0.35686275,\n",
       "         0.82352941, 0.90196078, 0.61960784, 0.44705882, 0.80392157,\n",
       "         0.73333333, 0.81568627, 0.81960784, 0.80784314, 0.75686275,\n",
       "         0.82352941, 0.82745098, 0.8       , 0.76470588, 0.8       ,\n",
       "         0.70980392, 0.09019608, 1.        , 0.83529412, 0.61960784,\n",
       "         0.        , 0.        , 0.        ],\n",
       "        [0.        , 0.        , 0.        , 0.        , 0.34117647,\n",
       "         0.80392157, 0.90980392, 0.42745098, 0.64313725, 1.        ,\n",
       "         0.83921569, 0.87843137, 0.87058824, 0.82352941, 0.77254902,\n",
       "         0.83921569, 0.88235294, 0.87058824, 0.82745098, 0.8627451 ,\n",
       "         0.85098039, 0.        , 0.91764706, 0.84705882, 0.6627451 ,\n",
       "         0.        , 0.        , 0.        ],\n",
       "        [0.        , 0.        , 0.        , 0.        , 0.36078431,\n",
       "         0.83529412, 0.90980392, 0.57254902, 0.01960784, 0.5254902 ,\n",
       "         0.59215686, 0.63529412, 0.66666667, 0.71764706, 0.71372549,\n",
       "         0.64313725, 0.65098039, 0.69803922, 0.63529412, 0.61176471,\n",
       "         0.38431373, 0.        , 0.94117647, 0.88235294, 0.82352941,\n",
       "         0.        , 0.        , 0.        ],\n",
       "        [0.        , 0.        , 0.        , 0.        , 0.16862745,\n",
       "         0.64313725, 0.80784314, 0.55294118, 0.        , 0.        ,\n",
       "         0.        , 0.        , 0.        , 0.        , 0.        ,\n",
       "         0.        , 0.        , 0.        , 0.        , 0.        ,\n",
       "         0.        , 0.        , 0.49803922, 0.49019608, 0.29803922,\n",
       "         0.        , 0.        , 0.        ]]),\n",
       " array([[0.        , 0.        , 0.        , 0.        , 0.        ,\n",
       "         0.        , 0.        , 0.        , 0.        , 0.        ,\n",
       "         0.        , 0.        , 0.        , 0.        , 0.        ,\n",
       "         0.        , 0.        , 0.        , 0.        , 0.        ,\n",
       "         0.        , 0.        , 0.        , 0.        , 0.        ,\n",
       "         0.        , 0.        , 0.        ],\n",
       "        [0.        , 0.        , 0.        , 0.        , 0.        ,\n",
       "         0.        , 0.        , 0.04313725, 0.3372549 , 0.47058824,\n",
       "         0.70196078, 0.50980392, 0.34901961, 0.4745098 , 0.49411765,\n",
       "         0.28627451, 0.38823529, 0.67058824, 0.58823529, 0.39215686,\n",
       "         0.30196078, 0.00784314, 0.        , 0.        , 0.        ,\n",
       "         0.        , 0.        , 0.        ],\n",
       "        [0.        , 0.        , 0.        , 0.        , 0.        ,\n",
       "         0.        , 0.09803922, 0.54901961, 0.48235294, 0.36470588,\n",
       "         0.42745098, 0.44313725, 0.46666667, 0.65882353, 0.71372549,\n",
       "         0.4745098 , 0.4745098 , 0.49411765, 0.40392157, 0.40392157,\n",
       "         0.50196078, 0.5372549 , 0.09411765, 0.        , 0.        ,\n",
       "         0.        , 0.        , 0.        ],\n",
       "        [0.        , 0.        , 0.        , 0.        , 0.        ,\n",
       "         0.        , 0.39215686, 0.40784314, 0.36470588, 0.44313725,\n",
       "         0.31372549, 0.36862745, 0.38823529, 0.31372549, 0.25882353,\n",
       "         0.39215686, 0.48627451, 0.45490196, 0.28627451, 0.37647059,\n",
       "         0.28235294, 0.40392157, 0.4       , 0.        , 0.        ,\n",
       "         0.        , 0.        , 0.        ],\n",
       "        [0.        , 0.        , 0.        , 0.        , 0.        ,\n",
       "         0.        , 0.68627451, 0.43137255, 0.32156863, 0.40784314,\n",
       "         0.37647059, 0.35294118, 0.34901961, 0.49803922, 0.48235294,\n",
       "         0.40392157, 0.36862745, 0.29803922, 0.34901961, 0.31372549,\n",
       "         0.31372549, 0.4       , 0.58039216, 0.01568627, 0.        ,\n",
       "         0.        , 0.        , 0.        ],\n",
       "        [0.        , 0.        , 0.        , 0.        , 0.        ,\n",
       "         0.08235294, 0.56078431, 0.49803922, 0.41960784, 0.2745098 ,\n",
       "         0.3372549 , 0.34117647, 0.29803922, 0.33333333, 0.49411765,\n",
       "         0.29803922, 0.29803922, 0.28235294, 0.28627451, 0.30980392,\n",
       "         0.36470588, 0.4       , 0.51372549, 0.11372549, 0.        ,\n",
       "         0.        , 0.        , 0.        ],\n",
       "        [0.        , 0.        , 0.        , 0.        , 0.        ,\n",
       "         0.19215686, 0.56078431, 0.5254902 , 0.5372549 , 0.40392157,\n",
       "         0.3372549 , 0.2745098 , 0.29803922, 0.27058824, 0.38039216,\n",
       "         0.29411765, 0.2745098 , 0.32156863, 0.31372549, 0.3254902 ,\n",
       "         0.49803922, 0.43137255, 0.4       , 0.20392157, 0.        ,\n",
       "         0.        , 0.        , 0.        ],\n",
       "        [0.        , 0.        , 0.        , 0.        , 0.        ,\n",
       "         0.34901961, 0.54901961, 0.63137255, 0.57647059, 0.5372549 ,\n",
       "         0.44705882, 0.38039216, 0.3372549 , 0.36862745, 0.35294118,\n",
       "         0.3372549 , 0.34117647, 0.43137255, 0.42745098, 0.39215686,\n",
       "         0.58823529, 0.49803922, 0.36862745, 0.3254902 , 0.        ,\n",
       "         0.        , 0.        , 0.        ],\n",
       "        [0.        , 0.        , 0.        , 0.        , 0.        ,\n",
       "         0.49803922, 0.54901961, 0.80392157, 0.58823529, 0.48627451,\n",
       "         0.50980392, 0.43529412, 0.38823529, 0.37647059, 0.45490196,\n",
       "         0.43529412, 0.39215686, 0.42745098, 0.40392157, 0.29411765,\n",
       "         0.61960784, 0.64313725, 0.33333333, 0.45882353, 0.        ,\n",
       "         0.        , 0.        , 0.        ],\n",
       "        [0.        , 0.        , 0.        , 0.        , 0.        ,\n",
       "         0.56470588, 0.5372549 , 0.85490196, 0.63137255, 0.48627451,\n",
       "         0.49803922, 0.41960784, 0.38039216, 0.38823529, 0.45882353,\n",
       "         0.4       , 0.44313725, 0.37647059, 0.41960784, 0.2745098 ,\n",
       "         0.60392157, 0.8       , 0.29411765, 0.48235294, 0.        ,\n",
       "         0.        , 0.        , 0.        ],\n",
       "        [0.        , 0.        , 0.        , 0.        , 0.        ,\n",
       "         0.60784314, 0.52156863, 0.90196078, 0.61960784, 0.40784314,\n",
       "         0.45882353, 0.46666667, 0.38039216, 0.36470588, 0.48235294,\n",
       "         0.59215686, 0.43137255, 0.41568627, 0.41568627, 0.24705882,\n",
       "         0.6       , 0.8       , 0.40784314, 0.57647059, 0.        ,\n",
       "         0.        , 0.        , 0.        ],\n",
       "        [0.        , 0.        , 0.        , 0.        , 0.05490196,\n",
       "         0.55294118, 0.49803922, 0.94901961, 0.64313725, 0.55294118,\n",
       "         0.64705882, 0.47058824, 0.4       , 0.40784314, 0.49411765,\n",
       "         0.74117647, 0.39215686, 0.47058824, 0.55294118, 0.36078431,\n",
       "         0.56078431, 0.80392157, 0.4745098 , 0.56862745, 0.05490196,\n",
       "         0.        , 0.        , 0.        ],\n",
       "        [0.        , 0.        , 0.        , 0.        , 0.12156863,\n",
       "         0.76470588, 0.62745098, 0.95294118, 0.64705882, 0.46666667,\n",
       "         0.53333333, 0.38039216, 0.40392157, 0.41568627, 0.42745098,\n",
       "         0.80392157, 0.4       , 0.36078431, 0.44705882, 0.36470588,\n",
       "         0.43529412, 0.73333333, 0.54117647, 0.50196078, 0.12156863,\n",
       "         0.        , 0.        , 0.        ],\n",
       "        [0.        , 0.        , 0.        , 0.        , 0.2       ,\n",
       "         0.67058824, 0.72156863, 0.87058824, 0.57647059, 0.40392157,\n",
       "         0.44313725, 0.38039216, 0.4       , 0.40392157, 0.50196078,\n",
       "         0.84313725, 0.36470588, 0.37647059, 0.4       , 0.28627451,\n",
       "         0.39215686, 0.76470588, 0.57647059, 0.52156863, 0.2       ,\n",
       "         0.        , 0.        , 0.        ],\n",
       "        [0.        , 0.        , 0.        , 0.        , 0.24705882,\n",
       "         0.56862745, 0.83137255, 0.81960784, 0.4745098 , 0.39215686,\n",
       "         0.45490196, 0.41960784, 0.43137255, 0.42745098, 0.50196078,\n",
       "         0.83137255, 0.3372549 , 0.4       , 0.38823529, 0.30980392,\n",
       "         0.38039216, 0.75294118, 0.65882353, 0.47058824, 0.23137255,\n",
       "         0.        , 0.        , 0.        ],\n",
       "        [0.        , 0.        , 0.        , 0.        , 0.28627451,\n",
       "         0.51372549, 0.88627451, 0.90196078, 0.30980392, 0.41960784,\n",
       "         0.45490196, 0.43137255, 0.41960784, 0.4745098 , 0.49411765,\n",
       "         0.78823529, 0.33333333, 0.41568627, 0.40392157, 0.36470588,\n",
       "         0.27058824, 0.74901961, 0.69411765, 0.41568627, 0.28627451,\n",
       "         0.        , 0.        , 0.        ],\n",
       "        [0.        , 0.        , 0.        , 0.        , 0.3372549 ,\n",
       "         0.48235294, 1.        , 0.96078431, 0.27058824, 0.43137255,\n",
       "         0.42745098, 0.41568627, 0.41568627, 0.43529412, 0.56470588,\n",
       "         0.83529412, 0.3254902 , 0.39215686, 0.40392157, 0.37647059,\n",
       "         0.28235294, 0.83137255, 0.63529412, 0.48235294, 0.34901961,\n",
       "         0.        , 0.        , 0.        ],\n",
       "        [0.        , 0.        , 0.        , 0.        , 0.32156863,\n",
       "         0.41960784, 0.9372549 , 0.91372549, 0.28235294, 0.39215686,\n",
       "         0.41960784, 0.40784314, 0.43529412, 0.39215686, 0.5372549 ,\n",
       "         0.8       , 0.3254902 , 0.43137255, 0.39215686, 0.39215686,\n",
       "         0.29411765, 0.83137255, 0.65490196, 0.51372549, 0.3254902 ,\n",
       "         0.        , 0.        , 0.        ],\n",
       "        [0.        , 0.        , 0.        , 0.        , 0.34901961,\n",
       "         0.40784314, 0.76078431, 0.81568627, 0.26666667, 0.39215686,\n",
       "         0.42745098, 0.43137255, 0.44313725, 0.41960784, 0.58039216,\n",
       "         0.78823529, 0.34901961, 0.43529412, 0.40784314, 0.40784314,\n",
       "         0.24705882, 0.69411765, 0.75294118, 0.5372549 , 0.33333333,\n",
       "         0.        , 0.        , 0.        ],\n",
       "        [0.        , 0.        , 0.        , 0.        , 0.34901961,\n",
       "         0.43137255, 0.74901961, 0.8       , 0.24705882, 0.36862745,\n",
       "         0.4       , 0.44705882, 0.45882353, 0.39215686, 0.56470588,\n",
       "         0.76470588, 0.30980392, 0.44705882, 0.40784314, 0.44705882,\n",
       "         0.27058824, 0.60392157, 0.83137255, 0.43529412, 0.39215686,\n",
       "         0.        , 0.        , 0.        ],\n",
       "        [0.        , 0.        , 0.        , 0.        , 0.4       ,\n",
       "         0.4745098 , 0.74901961, 0.82745098, 0.30980392, 0.36078431,\n",
       "         0.41568627, 0.44705882, 0.43529412, 0.4       , 0.70196078,\n",
       "         0.7254902 , 0.30980392, 0.44705882, 0.40392157, 0.44313725,\n",
       "         0.28235294, 0.59215686, 0.79215686, 0.44705882, 0.41568627,\n",
       "         0.        , 0.        , 0.        ],\n",
       "        [0.        , 0.        , 0.        , 0.        , 0.3254902 ,\n",
       "         0.56862745, 0.72156863, 0.64705882, 0.37647059, 0.32156863,\n",
       "         0.4       , 0.47058824, 0.43529412, 0.36470588, 0.65490196,\n",
       "         0.70196078, 0.31372549, 0.43137255, 0.40392157, 0.43137255,\n",
       "         0.31372549, 0.41568627, 0.77647059, 0.58039216, 0.29411765,\n",
       "         0.        , 0.        , 0.        ],\n",
       "        [0.        , 0.        , 0.        , 0.        , 0.23137255,\n",
       "         0.60784314, 0.76470588, 0.5372549 , 0.38823529, 0.33333333,\n",
       "         0.36862745, 0.50196078, 0.47058824, 0.38039216, 0.71372549,\n",
       "         0.58039216, 0.34117647, 0.41960784, 0.40392157, 0.41568627,\n",
       "         0.40784314, 0.29411765, 0.80784314, 0.60392157, 0.25490196,\n",
       "         0.        , 0.        , 0.        ],\n",
       "        [0.        , 0.        , 0.        , 0.        , 0.25882353,\n",
       "         0.45882353, 0.88627451, 0.5254902 , 0.40392157, 0.30980392,\n",
       "         0.4       , 0.43529412, 0.50980392, 0.42745098, 0.69411765,\n",
       "         0.45882353, 0.38039216, 0.41960784, 0.40784314, 0.37647059,\n",
       "         0.41960784, 0.25882353, 0.72156863, 0.5254902 , 0.28235294,\n",
       "         0.        , 0.        , 0.        ],\n",
       "        [0.        , 0.        , 0.        , 0.        , 0.34117647,\n",
       "         0.47058824, 0.80784314, 0.45882353, 0.45882353, 0.27058824,\n",
       "         0.38039216, 0.40784314, 0.50196078, 0.46666667, 0.67058824,\n",
       "         0.40784314, 0.40392157, 0.40392157, 0.40784314, 0.36078431,\n",
       "         0.35294118, 0.24705882, 0.49803922, 0.61568627, 0.34901961,\n",
       "         0.        , 0.        , 0.        ],\n",
       "        [0.        , 0.        , 0.        , 0.        , 0.30196078,\n",
       "         0.4       , 0.56078431, 0.4       , 0.36862745, 0.27058824,\n",
       "         0.36470588, 0.39215686, 0.38823529, 0.47058824, 0.61568627,\n",
       "         0.36470588, 0.39215686, 0.36862745, 0.37647059, 0.3372549 ,\n",
       "         0.33333333, 0.32156863, 0.43137255, 0.49411765, 0.3254902 ,\n",
       "         0.        , 0.        , 0.        ],\n",
       "        [0.        , 0.        , 0.        , 0.        , 0.        ,\n",
       "         0.        , 0.01960784, 0.51372549, 0.54901961, 0.56862745,\n",
       "         0.54117647, 0.50980392, 0.47058824, 0.45882353, 0.50196078,\n",
       "         0.48627451, 0.49411765, 0.50980392, 0.50980392, 0.53333333,\n",
       "         0.52156863, 0.62745098, 0.59215686, 0.        , 0.        ,\n",
       "         0.        , 0.        , 0.        ],\n",
       "        [0.        , 0.        , 0.        , 0.        , 0.        ,\n",
       "         0.        , 0.        , 0.        , 0.01568627, 0.19215686,\n",
       "         0.31372549, 0.3372549 , 0.37647059, 0.41568627, 0.45882353,\n",
       "         0.43529412, 0.40784314, 0.36078431, 0.3372549 , 0.29803922,\n",
       "         0.20392157, 0.06666667, 0.        , 0.        , 0.        ,\n",
       "         0.        , 0.        , 0.        ]]))"
      ]
     },
     "execution_count": 37,
     "metadata": {},
     "output_type": "execute_result"
    }
   ],
   "source": [
    "X_train_A[0], X_train_B[0] #0-1사이의 값으로 정규화 되어 있음."
   ]
  },
  {
   "cell_type": "code",
   "execution_count": 35,
   "metadata": {},
   "outputs": [
    {
     "data": {
      "text/plain": [
       "(array([4, 0, 5, 7, 7, 7, 4, 4, 3, 4], dtype=uint8),\n",
       " array([1., 1., 0., 0., 0., 0., 1., 1., 1., 0.], dtype=float32))"
      ]
     },
     "execution_count": 35,
     "metadata": {},
     "output_type": "execute_result"
    }
   ],
   "source": [
    "y_train_A[:10], y_train_B[:10]"
   ]
  },
  {
   "cell_type": "code",
   "execution_count": 36,
   "metadata": {},
   "outputs": [],
   "source": [
    "tf.random.set_seed(42)\n",
    "np.random.seed(42)"
   ]
  },
  {
   "cell_type": "code",
   "execution_count": 38,
   "metadata": {},
   "outputs": [],
   "source": [
    "model_A = keras.models.Sequential([\n",
    "    keras.layers.Flatten(input_shape=[28, 28])\n",
    "])\n",
    "\n",
    "for n_hidden in (300, 100, 50, 50, 50):\n",
    "    model_A.add(keras.layers.Dense(n_hidden, activation=\"selu\"))\n",
    "    \n",
    "model_A.add(keras.layers.Dense(8, activation=\"softmax\"))"
   ]
  },
  {
   "cell_type": "code",
   "execution_count": 39,
   "metadata": {},
   "outputs": [],
   "source": [
    "model_A.compile(loss=\"sparse_categorical_crossentropy\",\n",
    "               optimizer=keras.optimizers.SGD(learning_rate=1e-3),\n",
    "               metrics=[\"accuracy\"])"
   ]
  },
  {
   "cell_type": "code",
   "execution_count": 40,
   "metadata": {},
   "outputs": [
    {
     "name": "stdout",
     "output_type": "stream",
     "text": [
      "Epoch 1/20\n",
      "1375/1375 [==============================] - 2s 2ms/step - loss: 0.5926 - accuracy: 0.8104 - val_loss: 0.3896 - val_accuracy: 0.8662\n",
      "Epoch 2/20\n",
      "1375/1375 [==============================] - 2s 2ms/step - loss: 0.3523 - accuracy: 0.8786 - val_loss: 0.3289 - val_accuracy: 0.8827\n",
      "Epoch 3/20\n",
      "1375/1375 [==============================] - 2s 2ms/step - loss: 0.3170 - accuracy: 0.8895 - val_loss: 0.3014 - val_accuracy: 0.8979\n",
      "Epoch 4/20\n",
      "1375/1375 [==============================] - 2s 2ms/step - loss: 0.2973 - accuracy: 0.8973 - val_loss: 0.2894 - val_accuracy: 0.9026\n",
      "Epoch 5/20\n",
      "1375/1375 [==============================] - 2s 2ms/step - loss: 0.2835 - accuracy: 0.9021 - val_loss: 0.2774 - val_accuracy: 0.9063\n",
      "Epoch 6/20\n",
      "1375/1375 [==============================] - 2s 2ms/step - loss: 0.2730 - accuracy: 0.9061 - val_loss: 0.2733 - val_accuracy: 0.9071\n",
      "Epoch 7/20\n",
      "1375/1375 [==============================] - 2s 2ms/step - loss: 0.2641 - accuracy: 0.9092 - val_loss: 0.2717 - val_accuracy: 0.9088\n",
      "Epoch 8/20\n",
      "1375/1375 [==============================] - 2s 2ms/step - loss: 0.2573 - accuracy: 0.9125 - val_loss: 0.2588 - val_accuracy: 0.9141\n",
      "Epoch 9/20\n",
      "1375/1375 [==============================] - 2s 2ms/step - loss: 0.2518 - accuracy: 0.9135 - val_loss: 0.2562 - val_accuracy: 0.9143\n",
      "Epoch 10/20\n",
      "1375/1375 [==============================] - 2s 2ms/step - loss: 0.2469 - accuracy: 0.9154 - val_loss: 0.2541 - val_accuracy: 0.9160\n",
      "Epoch 11/20\n",
      "1375/1375 [==============================] - 2s 2ms/step - loss: 0.2423 - accuracy: 0.9178 - val_loss: 0.2495 - val_accuracy: 0.9145\n",
      "Epoch 12/20\n",
      "1375/1375 [==============================] - 2s 2ms/step - loss: 0.2382 - accuracy: 0.9189 - val_loss: 0.2515 - val_accuracy: 0.9123\n",
      "Epoch 13/20\n",
      "1375/1375 [==============================] - 2s 2ms/step - loss: 0.2350 - accuracy: 0.9199 - val_loss: 0.2445 - val_accuracy: 0.9158\n",
      "Epoch 14/20\n",
      "1375/1375 [==============================] - 2s 2ms/step - loss: 0.2315 - accuracy: 0.9213 - val_loss: 0.2414 - val_accuracy: 0.9173\n",
      "Epoch 15/20\n",
      "1375/1375 [==============================] - 2s 2ms/step - loss: 0.2287 - accuracy: 0.9214 - val_loss: 0.2447 - val_accuracy: 0.9193\n",
      "Epoch 16/20\n",
      "1375/1375 [==============================] - 2s 2ms/step - loss: 0.2254 - accuracy: 0.9225 - val_loss: 0.2386 - val_accuracy: 0.9190\n",
      "Epoch 17/20\n",
      "1375/1375 [==============================] - 2s 2ms/step - loss: 0.2230 - accuracy: 0.9233 - val_loss: 0.2409 - val_accuracy: 0.9178\n",
      "Epoch 18/20\n",
      "1375/1375 [==============================] - 2s 2ms/step - loss: 0.2201 - accuracy: 0.9247 - val_loss: 0.2428 - val_accuracy: 0.9153\n",
      "Epoch 19/20\n",
      "1375/1375 [==============================] - 2s 2ms/step - loss: 0.2178 - accuracy: 0.9254 - val_loss: 0.2330 - val_accuracy: 0.9190\n",
      "Epoch 20/20\n",
      "1375/1375 [==============================] - 2s 2ms/step - loss: 0.2155 - accuracy: 0.9262 - val_loss: 0.2334 - val_accuracy: 0.9208\n"
     ]
    }
   ],
   "source": [
    "history = model_A.fit(X_train_A, y_train_A, epochs=20,\n",
    "                     validation_data=(X_valid_A, y_valid_A))"
   ]
  },
  {
   "cell_type": "code",
   "execution_count": 41,
   "metadata": {},
   "outputs": [],
   "source": [
    "model_A.save(\"my_model_A.h5\")"
   ]
  },
  {
   "cell_type": "code",
   "execution_count": 42,
   "metadata": {},
   "outputs": [],
   "source": [
    "model_B = keras.models.Sequential([\n",
    "    keras.layers.Flatten(input_shape=[28, 28])\n",
    "])\n",
    "\n",
    "for n_hidden in (300, 100, 50, 50, 50):\n",
    "    model_B.add(keras.layers.Dense(n_hidden, activation=\"selu\"))\n",
    "    \n",
    "model_B.add(keras.layers.Dense(1, activation=\"sigmoid\"))"
   ]
  },
  {
   "cell_type": "code",
   "execution_count": 43,
   "metadata": {},
   "outputs": [],
   "source": [
    "model_B.compile(loss=\"binary_crossentropy\",\n",
    "               optimizer=keras.optimizers.SGD(learning_rate=1e-3),\n",
    "               metrics=[\"accuracy\"])"
   ]
  },
  {
   "cell_type": "code",
   "execution_count": 44,
   "metadata": {},
   "outputs": [
    {
     "name": "stdout",
     "output_type": "stream",
     "text": [
      "Epoch 1/20\n",
      "7/7 [==============================] - 0s 23ms/step - loss: 0.9573 - accuracy: 0.4650 - val_loss: 0.6314 - val_accuracy: 0.6004\n",
      "Epoch 2/20\n",
      "7/7 [==============================] - 0s 10ms/step - loss: 0.5692 - accuracy: 0.7450 - val_loss: 0.4784 - val_accuracy: 0.8529\n",
      "Epoch 3/20\n",
      "7/7 [==============================] - 0s 10ms/step - loss: 0.4503 - accuracy: 0.8650 - val_loss: 0.4102 - val_accuracy: 0.8945\n",
      "Epoch 4/20\n",
      "7/7 [==============================] - 0s 10ms/step - loss: 0.3879 - accuracy: 0.8950 - val_loss: 0.3647 - val_accuracy: 0.9178\n",
      "Epoch 5/20\n",
      "7/7 [==============================] - 0s 10ms/step - loss: 0.3435 - accuracy: 0.9250 - val_loss: 0.3300 - val_accuracy: 0.9320\n",
      "Epoch 6/20\n",
      "7/7 [==============================] - 0s 11ms/step - loss: 0.3081 - accuracy: 0.9300 - val_loss: 0.3019 - val_accuracy: 0.9402\n",
      "Epoch 7/20\n",
      "7/7 [==============================] - 0s 11ms/step - loss: 0.2800 - accuracy: 0.9350 - val_loss: 0.2804 - val_accuracy: 0.9422\n",
      "Epoch 8/20\n",
      "7/7 [==============================] - 0s 11ms/step - loss: 0.2564 - accuracy: 0.9450 - val_loss: 0.2606 - val_accuracy: 0.9473\n",
      "Epoch 9/20\n",
      "7/7 [==============================] - 0s 9ms/step - loss: 0.2362 - accuracy: 0.9550 - val_loss: 0.2428 - val_accuracy: 0.9523\n",
      "Epoch 10/20\n",
      "7/7 [==============================] - 0s 12ms/step - loss: 0.2188 - accuracy: 0.9600 - val_loss: 0.2281 - val_accuracy: 0.9544\n",
      "Epoch 11/20\n",
      "7/7 [==============================] - 0s 10ms/step - loss: 0.2036 - accuracy: 0.9700 - val_loss: 0.2150 - val_accuracy: 0.9584\n",
      "Epoch 12/20\n",
      "7/7 [==============================] - 0s 10ms/step - loss: 0.1898 - accuracy: 0.9700 - val_loss: 0.2036 - val_accuracy: 0.9584\n",
      "Epoch 13/20\n",
      "7/7 [==============================] - 0s 10ms/step - loss: 0.1773 - accuracy: 0.9750 - val_loss: 0.1931 - val_accuracy: 0.9615\n",
      "Epoch 14/20\n",
      "7/7 [==============================] - 0s 10ms/step - loss: 0.1668 - accuracy: 0.9800 - val_loss: 0.1838 - val_accuracy: 0.9635\n",
      "Epoch 15/20\n",
      "7/7 [==============================] - 0s 10ms/step - loss: 0.1570 - accuracy: 0.9900 - val_loss: 0.1746 - val_accuracy: 0.9686\n",
      "Epoch 16/20\n",
      "7/7 [==============================] - 0s 10ms/step - loss: 0.1481 - accuracy: 0.9900 - val_loss: 0.1674 - val_accuracy: 0.9686\n",
      "Epoch 17/20\n",
      "7/7 [==============================] - 0s 11ms/step - loss: 0.1406 - accuracy: 0.9900 - val_loss: 0.1604 - val_accuracy: 0.9706\n",
      "Epoch 18/20\n",
      "7/7 [==============================] - 0s 10ms/step - loss: 0.1334 - accuracy: 0.9900 - val_loss: 0.1539 - val_accuracy: 0.9706\n",
      "Epoch 19/20\n",
      "7/7 [==============================] - 0s 10ms/step - loss: 0.1268 - accuracy: 0.9900 - val_loss: 0.1482 - val_accuracy: 0.9716\n",
      "Epoch 20/20\n",
      "7/7 [==============================] - 0s 10ms/step - loss: 0.1208 - accuracy: 0.9900 - val_loss: 0.1431 - val_accuracy: 0.9716\n"
     ]
    }
   ],
   "source": [
    "history = model_B.fit(X_train_B, y_train_B, epochs=20,\n",
    "                     validation_data=(X_valid_B, y_valid_B))"
   ]
  },
  {
   "cell_type": "code",
   "execution_count": 45,
   "metadata": {},
   "outputs": [
    {
     "name": "stdout",
     "output_type": "stream",
     "text": [
      "Model: \"sequential_7\"\n",
      "_________________________________________________________________\n",
      "Layer (type)                 Output Shape              Param #   \n",
      "=================================================================\n",
      "flatten_7 (Flatten)          (None, 784)               0         \n",
      "_________________________________________________________________\n",
      "batch_normalization_3 (Batch (None, 784)               3136      \n",
      "_________________________________________________________________\n",
      "dense_119 (Dense)            (None, 300)               235200    \n",
      "_________________________________________________________________\n",
      "batch_normalization_4 (Batch (None, 300)               1200      \n",
      "_________________________________________________________________\n",
      "activation (Activation)      (None, 300)               0         \n",
      "_________________________________________________________________\n",
      "dense_120 (Dense)            (None, 100)               30000     \n",
      "_________________________________________________________________\n",
      "batch_normalization_5 (Batch (None, 100)               400       \n",
      "_________________________________________________________________\n",
      "activation_1 (Activation)    (None, 100)               0         \n",
      "_________________________________________________________________\n",
      "dense_121 (Dense)            (None, 10)                1010      \n",
      "=================================================================\n",
      "Total params: 270,946\n",
      "Trainable params: 268,578\n",
      "Non-trainable params: 2,368\n",
      "_________________________________________________________________\n"
     ]
    }
   ],
   "source": [
    "model.summary()"
   ]
  },
  {
   "cell_type": "code",
   "execution_count": 101,
   "metadata": {},
   "outputs": [],
   "source": [
    "model_A = keras.models.load_model(\"my_model_A.h5\")\n",
    "model_B_on_A = keras.models.Sequential(model_A.layers[:-1]) #출력층만 빼고 재사용\n",
    "model_B_on_A.add(keras.layers.Dense(1, activation=\"sigmoid\")) #이진 분류 출력층 추가"
   ]
  },
  {
   "cell_type": "code",
   "execution_count": 102,
   "metadata": {},
   "outputs": [],
   "source": [
    "model_A_clone = keras.models.clone_model(model_A) #현재 model_A와 model_B_on_A는 모델을 공유하므로, 기존 모델 백업\n",
    "model_A_clone.set_weights(model_A.get_weights())"
   ]
  },
  {
   "cell_type": "code",
   "execution_count": 103,
   "metadata": {},
   "outputs": [],
   "source": [
    "#기존에 훈련된 부분을 제외하고 새로 추가된 출력층은 현재 랜덤하게 초기화 된 상태 -> 큰 오차 발생\n",
    "#기존 부분을 동결하고 새로 추가된 부분에 대해 적절한 가중치를 학습할 수 있게 훈련\n",
    "\n",
    "for layer in model_B_on_A.layers[:-1]:\n",
    "    layer.trainable = False\n",
    "    \n",
    "model_B_on_A.compile(loss=\"binary_crossentropy\",\n",
    "                    optimizer = keras.optimizers.SGD(learning_rate=1e-3),\n",
    "                    metrics=[\"accuracy\"])"
   ]
  },
  {
   "cell_type": "code",
   "execution_count": 104,
   "metadata": {},
   "outputs": [
    {
     "name": "stdout",
     "output_type": "stream",
     "text": [
      "Epoch 1/10\n",
      "7/7 [==============================] - 0s 22ms/step - loss: 1.5884 - accuracy: 0.2800 - val_loss: 1.5055 - val_accuracy: 0.3458\n",
      "Epoch 2/10\n",
      "7/7 [==============================] - 0s 9ms/step - loss: 1.4669 - accuracy: 0.3150 - val_loss: 1.3909 - val_accuracy: 0.3793\n",
      "Epoch 3/10\n",
      "7/7 [==============================] - 0s 9ms/step - loss: 1.3495 - accuracy: 0.3350 - val_loss: 1.2867 - val_accuracy: 0.3976\n",
      "Epoch 4/10\n",
      "7/7 [==============================] - 0s 9ms/step - loss: 1.2434 - accuracy: 0.3600 - val_loss: 1.1938 - val_accuracy: 0.4199\n",
      "Epoch 5/10\n",
      "7/7 [==============================] - 0s 9ms/step - loss: 1.1492 - accuracy: 0.4000 - val_loss: 1.1083 - val_accuracy: 0.4402\n",
      "Epoch 6/10\n",
      "7/7 [==============================] - 0s 9ms/step - loss: 1.0628 - accuracy: 0.4550 - val_loss: 1.0290 - val_accuracy: 0.4635\n",
      "Epoch 7/10\n",
      "7/7 [==============================] - 0s 9ms/step - loss: 0.9832 - accuracy: 0.4900 - val_loss: 0.9591 - val_accuracy: 0.4777\n",
      "Epoch 8/10\n",
      "7/7 [==============================] - 0s 9ms/step - loss: 0.9132 - accuracy: 0.5200 - val_loss: 0.8926 - val_accuracy: 0.5010\n",
      "Epoch 9/10\n",
      "7/7 [==============================] - 0s 9ms/step - loss: 0.8471 - accuracy: 0.5300 - val_loss: 0.8338 - val_accuracy: 0.5274\n",
      "Epoch 10/10\n",
      "7/7 [==============================] - 0s 9ms/step - loss: 0.7888 - accuracy: 0.5550 - val_loss: 0.7785 - val_accuracy: 0.5436\n"
     ]
    }
   ],
   "source": [
    "history = model_B_on_A.fit(X_train_B, y_train_B, epochs=10,\n",
    "                          validation_data=(X_valid_B, y_valid_B))"
   ]
  },
  {
   "cell_type": "code",
   "execution_count": 105,
   "metadata": {},
   "outputs": [
    {
     "name": "stdout",
     "output_type": "stream",
     "text": [
      "Epoch 1/16\n",
      "7/7 [==============================] - 0s 23ms/step - loss: 0.6125 - accuracy: 0.6550 - val_loss: 0.4624 - val_accuracy: 0.7738\n",
      "Epoch 2/16\n",
      "7/7 [==============================] - 0s 10ms/step - loss: 0.3696 - accuracy: 0.8200 - val_loss: 0.3147 - val_accuracy: 0.8905\n",
      "Epoch 3/16\n",
      "7/7 [==============================] - 0s 10ms/step - loss: 0.2553 - accuracy: 0.9150 - val_loss: 0.2367 - val_accuracy: 0.9371\n",
      "Epoch 4/16\n",
      "7/7 [==============================] - 0s 11ms/step - loss: 0.1917 - accuracy: 0.9500 - val_loss: 0.1908 - val_accuracy: 0.9513\n",
      "Epoch 5/16\n",
      "7/7 [==============================] - 0s 10ms/step - loss: 0.1532 - accuracy: 0.9600 - val_loss: 0.1612 - val_accuracy: 0.9604\n",
      "Epoch 6/16\n",
      "7/7 [==============================] - 0s 9ms/step - loss: 0.1280 - accuracy: 0.9750 - val_loss: 0.1409 - val_accuracy: 0.9665\n",
      "Epoch 7/16\n",
      "7/7 [==============================] - 0s 9ms/step - loss: 0.1102 - accuracy: 0.9850 - val_loss: 0.1261 - val_accuracy: 0.9686\n",
      "Epoch 8/16\n",
      "7/7 [==============================] - 0s 10ms/step - loss: 0.0968 - accuracy: 0.9900 - val_loss: 0.1139 - val_accuracy: 0.9736\n",
      "Epoch 9/16\n",
      "7/7 [==============================] - 0s 10ms/step - loss: 0.0859 - accuracy: 0.9950 - val_loss: 0.1040 - val_accuracy: 0.9767\n",
      "Epoch 10/16\n",
      "7/7 [==============================] - 0s 11ms/step - loss: 0.0771 - accuracy: 0.9950 - val_loss: 0.0963 - val_accuracy: 0.9828\n",
      "Epoch 11/16\n",
      "7/7 [==============================] - 0s 10ms/step - loss: 0.0701 - accuracy: 0.9950 - val_loss: 0.0897 - val_accuracy: 0.9828\n",
      "Epoch 12/16\n",
      "7/7 [==============================] - 0s 9ms/step - loss: 0.0641 - accuracy: 0.9950 - val_loss: 0.0840 - val_accuracy: 0.9848\n",
      "Epoch 13/16\n",
      "7/7 [==============================] - 0s 9ms/step - loss: 0.0586 - accuracy: 0.9950 - val_loss: 0.0795 - val_accuracy: 0.9858\n",
      "Epoch 14/16\n",
      "7/7 [==============================] - 0s 9ms/step - loss: 0.0545 - accuracy: 0.9950 - val_loss: 0.0753 - val_accuracy: 0.9858\n",
      "Epoch 15/16\n",
      "7/7 [==============================] - 0s 10ms/step - loss: 0.0505 - accuracy: 0.9950 - val_loss: 0.0719 - val_accuracy: 0.9858\n",
      "Epoch 16/16\n",
      "7/7 [==============================] - 0s 10ms/step - loss: 0.0474 - accuracy: 0.9950 - val_loss: 0.0689 - val_accuracy: 0.9868\n"
     ]
    }
   ],
   "source": [
    "#재사용하는 층의 동결 해제\n",
    "\n",
    "for layer in model_B_on_A.layers[:-1]:\n",
    "    layer.trainable = True\n",
    "\n",
    "model_B_on_A.compile(loss=\"binary_crossentropy\",\n",
    "                     optimizer=keras.optimizers.SGD(lr=1e-3),\n",
    "                     metrics=[\"accuracy\"])\n",
    "history = model_B_on_A.fit(X_train_B, y_train_B, epochs=16,\n",
    "                           validation_data=(X_valid_B, y_valid_B))"
   ]
  },
  {
   "cell_type": "code",
   "execution_count": 106,
   "metadata": {},
   "outputs": [
    {
     "name": "stdout",
     "output_type": "stream",
     "text": [
      "63/63 [==============================] - 0s 910us/step - loss: 0.1408 - accuracy: 0.9705\n"
     ]
    },
    {
     "data": {
      "text/plain": [
       "[0.1408407837152481, 0.9704999923706055]"
      ]
     },
     "execution_count": 106,
     "metadata": {},
     "output_type": "execute_result"
    }
   ],
   "source": [
    "model_B.evaluate(X_test_B, y_test_B)"
   ]
  },
  {
   "cell_type": "code",
   "execution_count": 107,
   "metadata": {},
   "outputs": [
    {
     "name": "stdout",
     "output_type": "stream",
     "text": [
      "63/63 [==============================] - 0s 905us/step - loss: 0.0626 - accuracy: 0.9935\n"
     ]
    },
    {
     "data": {
      "text/plain": [
       "[0.06260646879673004, 0.9934999942779541]"
      ]
     },
     "execution_count": 107,
     "metadata": {},
     "output_type": "execute_result"
    }
   ],
   "source": [
    "model_B_on_A.evaluate(X_test_B, y_test_B)"
   ]
  },
  {
   "cell_type": "code",
   "execution_count": 87,
   "metadata": {},
   "outputs": [
    {
     "data": {
      "text/plain": [
       "4.538461538461503"
      ]
     },
     "execution_count": 87,
     "metadata": {},
     "output_type": "execute_result"
    }
   ],
   "source": [
    "#이미 훈련된 모델A를 재사용한 모델이 오차율이 4.5배 감소\n",
    "\n",
    "(100 - 97.05) / (100 - 99.35)"
   ]
  },
  {
   "cell_type": "markdown",
   "metadata": {},
   "source": [
    "전이학습은 작은 네트워크에서는 잘 동작하지 않음\n",
    "\n",
    "전이학습은 좀 더 일반적인 특성을 감지하는 경향이 있는 CNN(심층 합성곱 신경망)에서 잘 동작"
   ]
  },
  {
   "cell_type": "markdown",
   "metadata": {},
   "source": [
    "# 비지도 사전훈련\n",
    "\n",
    "재사용할 수 있는 모델이 없으며, 레이블된 훈련 데이터 비율이 적을 경우 오토인코더나 GAN을 사용한 비지도 사전 훈련\n",
    "\n",
    "ex: 얼굴 인식 시스템 -> 무작위로 많은 인물 사진을 수집해서 두 개의 이미지가 같은 사람인지 감지하는 신경망 훈련 -> 얼굴의 특성을 잘 인지하도록 훈련됨 -> 하위층을 재사용해서 적은 양의 훈련 데이터에서 얼굴을 잘 구분하는 분류기 훈련"
   ]
  },
  {
   "cell_type": "markdown",
   "metadata": {},
   "source": [
    "# 고속 옵티마이저\n",
    "\n",
    "훈련 속도를 높이는 방법\n",
    "1. 연결 가중치에 좋은 초기화 전략 사용하기\n",
    "2. 좋은 활성화 함수 사용하기\n",
    "3. 배치 정규화 사용\n",
    "4. 사전 훈련된 네트워크의 일부 재사용\n",
    "\n",
    "확률적 경사하강법 보다 더 빠른 옵티마이저 사용하기"
   ]
  },
  {
   "cell_type": "markdown",
   "metadata": {},
   "source": [
    "### 모멘텀 최적화 - 지역 최적점을 건너뛰도록 해줌\n",
    "\n",
    "optimizer = keras.optimizers.SGD(lr=0.001, momentum=0.9)\n",
    "\n",
    "보통 모멘텀 0.9에서 잘 작동하며 경사하강법 보다 항상 더 빠름"
   ]
  },
  {
   "cell_type": "markdown",
   "metadata": {},
   "source": [
    "### NAG(네스테로프 가속 경사) - 모멘텀 최적화 보다 빠름\n",
    "\n",
    "optimizer = keras.optimizers.SGD(lr=0.001, momentum=0.9, nesterov=True)"
   ]
  },
  {
   "cell_type": "markdown",
   "metadata": {},
   "source": [
    "### AdaGrad(아다그라드 - 적응적 학습률), 심층 신경망에는 사용 금지"
   ]
  },
  {
   "cell_type": "markdown",
   "metadata": {},
   "source": [
    "### ADAM(적응적 모멘트 추정)\n",
    "\n",
    "optimizer = keras.optimizers.Adam(lr=0.001, beta_1=0.9, beta_2=0.999)"
   ]
  },
  {
   "attachments": {
    "%EC%98%B5%ED%8B%B0%EB%A7%88%EC%9D%B4%EC%A0%80%20%EB%B9%84%EA%B5%90.PNG": {
     "image/png": "[encoded data removed]"
    }
   },
   "cell_type": "markdown",
   "metadata": {},
   "source": [
    "![%EC%98%B5%ED%8B%B0%EB%A7%88%EC%9D%B4%EC%A0%80%20%EB%B9%84%EA%B5%90.PNG](attachment:%EC%98%B5%ED%8B%B0%EB%A7%88%EC%9D%B4%EC%A0%80%20%EB%B9%84%EA%B5%90.PNG)"
   ]
  },
  {
   "cell_type": "markdown",
   "metadata": {},
   "source": [
    "# 학습률 스케쥴링\n",
    "\n",
    "훈련하는 동안 학습률을 감소시키는 전략 - 학습률 스케쥴"
   ]
  },
  {
   "cell_type": "markdown",
   "metadata": {},
   "source": [
    "### 거듭제곱 스케쥴링"
   ]
  },
  {
   "cell_type": "code",
   "execution_count": 110,
   "metadata": {},
   "outputs": [],
   "source": [
    "optimizer = keras.optimizers.SGD(learning_rate=0.01, decay=1e-4)"
   ]
  },
  {
   "cell_type": "code",
   "execution_count": 111,
   "metadata": {},
   "outputs": [],
   "source": [
    "model = keras.models.Sequential([\n",
    "    keras.layers.Flatten(input_shape=[28, 28]),\n",
    "    keras.layers.Dense(300, activation=\"selu\", kernel_initializer=\"lecun_normal\"),\n",
    "    keras.layers.Dense(100, activation=\"selu\", kernel_initializer=\"lecun_normal\"),\n",
    "    keras.layers.Dense(10, activation=\"softmax\")\n",
    "])\n",
    "model.compile(loss=\"sparse_categorical_crossentropy\", optimizer=optimizer, metrics=[\"accuracy\"])"
   ]
  },
  {
   "cell_type": "code",
   "execution_count": 112,
   "metadata": {},
   "outputs": [
    {
     "name": "stdout",
     "output_type": "stream",
     "text": [
      "Epoch 1/25\n",
      "1719/1719 [==============================] - 3s 2ms/step - loss: 0.4875 - accuracy: 0.8287 - val_loss: 0.4068 - val_accuracy: 0.8602\n",
      "Epoch 2/25\n",
      "1719/1719 [==============================] - 2s 1ms/step - loss: 0.3781 - accuracy: 0.8667 - val_loss: 0.3769 - val_accuracy: 0.8700\n",
      "Epoch 3/25\n",
      "1719/1719 [==============================] - 2s 1ms/step - loss: 0.3448 - accuracy: 0.8775 - val_loss: 0.3760 - val_accuracy: 0.8708\n",
      "Epoch 4/25\n",
      "1719/1719 [==============================] - 2s 1ms/step - loss: 0.3228 - accuracy: 0.8852 - val_loss: 0.3544 - val_accuracy: 0.8780\n",
      "Epoch 5/25\n",
      "1719/1719 [==============================] - 2s 1ms/step - loss: 0.3075 - accuracy: 0.8908 - val_loss: 0.3458 - val_accuracy: 0.8796\n",
      "Epoch 6/25\n",
      "1719/1719 [==============================] - 2s 1ms/step - loss: 0.2934 - accuracy: 0.8960 - val_loss: 0.3447 - val_accuracy: 0.8826\n",
      "Epoch 7/25\n",
      "1719/1719 [==============================] - 2s 1ms/step - loss: 0.2831 - accuracy: 0.8993 - val_loss: 0.3410 - val_accuracy: 0.8844\n",
      "Epoch 8/25\n",
      "1719/1719 [==============================] - 2s 1ms/step - loss: 0.2739 - accuracy: 0.9030 - val_loss: 0.3425 - val_accuracy: 0.8802\n",
      "Epoch 9/25\n",
      "1719/1719 [==============================] - 2s 1ms/step - loss: 0.2656 - accuracy: 0.9049 - val_loss: 0.3336 - val_accuracy: 0.8838\n",
      "Epoch 10/25\n",
      "1719/1719 [==============================] - 2s 1ms/step - loss: 0.2584 - accuracy: 0.9077 - val_loss: 0.3308 - val_accuracy: 0.8826\n",
      "Epoch 11/25\n",
      "1719/1719 [==============================] - 2s 1ms/step - loss: 0.2526 - accuracy: 0.9095 - val_loss: 0.3306 - val_accuracy: 0.8848\n",
      "Epoch 12/25\n",
      "1719/1719 [==============================] - 2s 1ms/step - loss: 0.2466 - accuracy: 0.9124 - val_loss: 0.3389 - val_accuracy: 0.8808\n",
      "Epoch 13/25\n",
      "1719/1719 [==============================] - 2s 1ms/step - loss: 0.2411 - accuracy: 0.9141 - val_loss: 0.3298 - val_accuracy: 0.8848\n",
      "Epoch 14/25\n",
      "1719/1719 [==============================] - 2s 1ms/step - loss: 0.2370 - accuracy: 0.9154 - val_loss: 0.3328 - val_accuracy: 0.8856\n",
      "Epoch 15/25\n",
      "1719/1719 [==============================] - 2s 1ms/step - loss: 0.2321 - accuracy: 0.9179 - val_loss: 0.3269 - val_accuracy: 0.8826\n",
      "Epoch 16/25\n",
      "1719/1719 [==============================] - 2s 1ms/step - loss: 0.2282 - accuracy: 0.9195 - val_loss: 0.3262 - val_accuracy: 0.8872\n",
      "Epoch 17/25\n",
      "1719/1719 [==============================] - 2s 1ms/step - loss: 0.2245 - accuracy: 0.9209 - val_loss: 0.3282 - val_accuracy: 0.8856\n",
      "Epoch 18/25\n",
      "1719/1719 [==============================] - 2s 1ms/step - loss: 0.2203 - accuracy: 0.9234 - val_loss: 0.3249 - val_accuracy: 0.8888\n",
      "Epoch 19/25\n",
      "1719/1719 [==============================] - 2s 1ms/step - loss: 0.2172 - accuracy: 0.9234 - val_loss: 0.3296 - val_accuracy: 0.8864\n",
      "Epoch 20/25\n",
      "1719/1719 [==============================] - 2s 1ms/step - loss: 0.2142 - accuracy: 0.9250 - val_loss: 0.3239 - val_accuracy: 0.8902\n",
      "Epoch 21/25\n",
      "1719/1719 [==============================] - 2s 1ms/step - loss: 0.2107 - accuracy: 0.9265 - val_loss: 0.3258 - val_accuracy: 0.8870\n",
      "Epoch 22/25\n",
      "1719/1719 [==============================] - 2s 1ms/step - loss: 0.2081 - accuracy: 0.9267 - val_loss: 0.3235 - val_accuracy: 0.8890\n",
      "Epoch 23/25\n",
      "1719/1719 [==============================] - 2s 1ms/step - loss: 0.2054 - accuracy: 0.9281 - val_loss: 0.3262 - val_accuracy: 0.8890\n",
      "Epoch 24/25\n",
      "1719/1719 [==============================] - 2s 1ms/step - loss: 0.2025 - accuracy: 0.9300 - val_loss: 0.3263 - val_accuracy: 0.8878\n",
      "Epoch 25/25\n",
      "1719/1719 [==============================] - 2s 1ms/step - loss: 0.2003 - accuracy: 0.9304 - val_loss: 0.3265 - val_accuracy: 0.8890\n"
     ]
    }
   ],
   "source": [
    "n_epochs = 25\n",
    "history = model.fit(X_train_scaled, y_train, epochs=n_epochs,\n",
    "                    validation_data=(X_valid_scaled, y_valid))"
   ]
  },
  {
   "cell_type": "code",
   "execution_count": 113,
   "metadata": {
    "scrolled": true
   },
   "outputs": [
    {
     "data": {
      "image/png": "[encoded data removed]",
      "text/plain": [
       "<Figure size 432x288 with 1 Axes>"
      ]
     },
     "metadata": {
      "needs_background": "light"
     },
     "output_type": "display_data"
    }
   ],
   "source": [
    "learning_rate = 0.01\n",
    "decay = 1e-4\n",
    "batch_size = 32\n",
    "n_steps_per_epoch = len(X_train) // batch_size\n",
    "epochs = np.arange(n_epochs)\n",
    "lrs = learning_rate / (1 + decay * epochs * n_steps_per_epoch)\n",
    "\n",
    "plt.plot(epochs, lrs,  \"o-\")\n",
    "plt.axis([0, n_epochs - 1, 0, 0.01])\n",
    "plt.xlabel(\"Epoch\")\n",
    "plt.ylabel(\"Learning Rate\")\n",
    "plt.title(\"Power Scheduling\", fontsize=14)\n",
    "plt.grid(True)\n",
    "plt.show()"
   ]
  },
  {
   "cell_type": "markdown",
   "metadata": {},
   "source": [
    "### 지수 기반 스케쥴링"
   ]
  },
  {
   "cell_type": "code",
   "execution_count": 114,
   "metadata": {},
   "outputs": [],
   "source": [
    "def exponential_decay_fn(epoch):\n",
    "    return 0.01 * 0.1**(epoch / 20)"
   ]
  },
  {
   "cell_type": "code",
   "execution_count": 115,
   "metadata": {},
   "outputs": [],
   "source": [
    "def exponential_decay(lr0, s):\n",
    "    def exponential_decay_fn(epoch):\n",
    "        return lr0 * 0.1**(epoch / s)\n",
    "    return exponential_decay_fn\n",
    "\n",
    "exponential_decay_fn = exponential_decay(lr0=0.01, s=20)"
   ]
  },
  {
   "cell_type": "code",
   "execution_count": 116,
   "metadata": {},
   "outputs": [],
   "source": [
    "model = keras.models.Sequential([\n",
    "    keras.layers.Flatten(input_shape=[28, 28]),\n",
    "    keras.layers.Dense(300, activation=\"selu\", kernel_initializer=\"lecun_normal\"),\n",
    "    keras.layers.Dense(100, activation=\"selu\", kernel_initializer=\"lecun_normal\"),\n",
    "    keras.layers.Dense(10, activation=\"softmax\")\n",
    "])\n",
    "model.compile(loss=\"sparse_categorical_crossentropy\", optimizer=\"nadam\", metrics=[\"accuracy\"])\n",
    "n_epochs = 25"
   ]
  },
  {
   "cell_type": "code",
   "execution_count": 117,
   "metadata": {},
   "outputs": [
    {
     "name": "stdout",
     "output_type": "stream",
     "text": [
      "Epoch 1/25\n",
      "1719/1719 [==============================] - 5s 3ms/step - loss: 0.8425 - accuracy: 0.7552 - val_loss: 0.8323 - val_accuracy: 0.7160 - lr: 0.0100\n",
      "Epoch 2/25\n",
      "1719/1719 [==============================] - 5s 3ms/step - loss: 0.6856 - accuracy: 0.7947 - val_loss: 0.6068 - val_accuracy: 0.8288 - lr: 0.0089\n",
      "Epoch 3/25\n",
      "1719/1719 [==============================] - 5s 3ms/step - loss: 0.6658 - accuracy: 0.8058 - val_loss: 0.7049 - val_accuracy: 0.7878 - lr: 0.0079\n",
      "Epoch 4/25\n",
      "1719/1719 [==============================] - 4s 3ms/step - loss: 0.5353 - accuracy: 0.8375 - val_loss: 0.5738 - val_accuracy: 0.8290 - lr: 0.0071\n",
      "Epoch 5/25\n",
      "1719/1719 [==============================] - 5s 3ms/step - loss: 0.5000 - accuracy: 0.8487 - val_loss: 0.5293 - val_accuracy: 0.8596 - lr: 0.0063\n",
      "Epoch 6/25\n",
      "1719/1719 [==============================] - 4s 3ms/step - loss: 0.4446 - accuracy: 0.8626 - val_loss: 0.5236 - val_accuracy: 0.8622 - lr: 0.0056\n",
      "Epoch 7/25\n",
      "1719/1719 [==============================] - 5s 3ms/step - loss: 0.4178 - accuracy: 0.8699 - val_loss: 0.5090 - val_accuracy: 0.8500 - lr: 0.0050\n",
      "Epoch 8/25\n",
      "1719/1719 [==============================] - 5s 3ms/step - loss: 0.3913 - accuracy: 0.8770 - val_loss: 0.4997 - val_accuracy: 0.8470 - lr: 0.0045\n",
      "Epoch 9/25\n",
      "1719/1719 [==============================] - 5s 3ms/step - loss: 0.3528 - accuracy: 0.8864 - val_loss: 0.5473 - val_accuracy: 0.8558 - lr: 0.0040\n",
      "Epoch 10/25\n",
      "1719/1719 [==============================] - 5s 3ms/step - loss: 0.3291 - accuracy: 0.8909 - val_loss: 0.4874 - val_accuracy: 0.8668 - lr: 0.0035\n",
      "Epoch 11/25\n",
      "1719/1719 [==============================] - 5s 3ms/step - loss: 0.3015 - accuracy: 0.8980 - val_loss: 0.4985 - val_accuracy: 0.8646 - lr: 0.0032\n",
      "Epoch 12/25\n",
      "1719/1719 [==============================] - 5s 3ms/step - loss: 0.2803 - accuracy: 0.9035 - val_loss: 0.4998 - val_accuracy: 0.8668 - lr: 0.0028\n",
      "Epoch 13/25\n",
      "1719/1719 [==============================] - 5s 3ms/step - loss: 0.2644 - accuracy: 0.9097 - val_loss: 0.4855 - val_accuracy: 0.8756 - lr: 0.0025\n",
      "Epoch 14/25\n",
      "1719/1719 [==============================] - 5s 3ms/step - loss: 0.2366 - accuracy: 0.9167 - val_loss: 0.5113 - val_accuracy: 0.8716 - lr: 0.0022\n",
      "Epoch 15/25\n",
      "1719/1719 [==============================] - 5s 3ms/step - loss: 0.2222 - accuracy: 0.9230 - val_loss: 0.4347 - val_accuracy: 0.8816 - lr: 0.0020\n",
      "Epoch 16/25\n",
      "1719/1719 [==============================] - 4s 3ms/step - loss: 0.2070 - accuracy: 0.9264 - val_loss: 0.4611 - val_accuracy: 0.8878 - lr: 0.0018\n",
      "Epoch 17/25\n",
      "1719/1719 [==============================] - 4s 3ms/step - loss: 0.1941 - accuracy: 0.9318 - val_loss: 0.4854 - val_accuracy: 0.8758 - lr: 0.0016\n",
      "Epoch 18/25\n",
      "1719/1719 [==============================] - 4s 3ms/step - loss: 0.1761 - accuracy: 0.9371 - val_loss: 0.4719 - val_accuracy: 0.8834 - lr: 0.0014\n",
      "Epoch 19/25\n",
      "1719/1719 [==============================] - 4s 3ms/step - loss: 0.1654 - accuracy: 0.9416 - val_loss: 0.4921 - val_accuracy: 0.8872 - lr: 0.0013\n",
      "Epoch 20/25\n",
      "1719/1719 [==============================] - 4s 3ms/step - loss: 0.1532 - accuracy: 0.9459 - val_loss: 0.5090 - val_accuracy: 0.8838 - lr: 0.0011\n",
      "Epoch 21/25\n",
      "1719/1719 [==============================] - 4s 3ms/step - loss: 0.1426 - accuracy: 0.9496 - val_loss: 0.5017 - val_accuracy: 0.8874 - lr: 0.0010\n",
      "Epoch 22/25\n",
      "1719/1719 [==============================] - 4s 3ms/step - loss: 0.1341 - accuracy: 0.9535 - val_loss: 0.5453 - val_accuracy: 0.8878 - lr: 8.9125e-04\n",
      "Epoch 23/25\n",
      "1719/1719 [==============================] - 4s 3ms/step - loss: 0.1235 - accuracy: 0.9579 - val_loss: 0.5847 - val_accuracy: 0.8856 - lr: 7.9433e-04\n",
      "Epoch 24/25\n",
      "1719/1719 [==============================] - 4s 3ms/step - loss: 0.1165 - accuracy: 0.9600 - val_loss: 0.5945 - val_accuracy: 0.8860 - lr: 7.0795e-04\n",
      "Epoch 25/25\n",
      "1719/1719 [==============================] - 4s 3ms/step - loss: 0.1083 - accuracy: 0.9630 - val_loss: 0.6137 - val_accuracy: 0.8876 - lr: 6.3096e-04\n"
     ]
    }
   ],
   "source": [
    "lr_scheduler = keras.callbacks.LearningRateScheduler(exponential_decay_fn)\n",
    "history = model.fit(X_train_scaled, y_train, epochs=n_epochs,\n",
    "                    validation_data=(X_valid_scaled, y_valid),\n",
    "                    callbacks=[lr_scheduler])"
   ]
  },
  {
   "cell_type": "code",
   "execution_count": 118,
   "metadata": {
    "scrolled": true
   },
   "outputs": [
    {
     "data": {
      "image/png": "[encoded data removed]",
      "text/plain": [
       "<Figure size 432x288 with 1 Axes>"
      ]
     },
     "metadata": {
      "needs_background": "light"
     },
     "output_type": "display_data"
    }
   ],
   "source": [
    "plt.plot(history.epoch, history.history[\"lr\"], \"o-\")\n",
    "plt.axis([0, n_epochs - 1, 0, 0.011])\n",
    "plt.xlabel(\"Epoch\")\n",
    "plt.ylabel(\"Learning Rate\")\n",
    "plt.title(\"Exponential Scheduling\", fontsize=14)\n",
    "plt.grid(True)\n",
    "plt.show()"
   ]
  },
  {
   "cell_type": "markdown",
   "metadata": {},
   "source": [
    "### 기간별 고정 스케쥴링"
   ]
  },
  {
   "cell_type": "code",
   "execution_count": 119,
   "metadata": {},
   "outputs": [],
   "source": [
    "def piecewise_constant_fn(epoch):\n",
    "    if epoch < 5:\n",
    "        return 0.01\n",
    "    elif epoch < 15:\n",
    "        return 0.005\n",
    "    else:\n",
    "        return 0.001"
   ]
  },
  {
   "cell_type": "code",
   "execution_count": 120,
   "metadata": {},
   "outputs": [],
   "source": [
    "def piecewise_constant(boundaries, values):\n",
    "    boundaries = np.array([0] + boundaries)\n",
    "    values = np.array(values)\n",
    "    def piecewise_constant_fn(epoch):\n",
    "        return values[np.argmax(boundaries > epoch) - 1]\n",
    "    return piecewise_constant_fn\n",
    "\n",
    "piecewise_constant_fn = piecewise_constant([5, 15], [0.01, 0.005, 0.001])"
   ]
  },
  {
   "cell_type": "code",
   "execution_count": 121,
   "metadata": {},
   "outputs": [
    {
     "name": "stdout",
     "output_type": "stream",
     "text": [
      "Epoch 1/25\n",
      "1719/1719 [==============================] - 5s 3ms/step - loss: 0.8284 - accuracy: 0.7611 - val_loss: 0.8247 - val_accuracy: 0.7480 - lr: 0.0100\n",
      "Epoch 2/25\n",
      "1719/1719 [==============================] - 5s 3ms/step - loss: 0.8300 - accuracy: 0.7618 - val_loss: 0.8837 - val_accuracy: 0.7884 - lr: 0.0100\n",
      "Epoch 3/25\n",
      "1719/1719 [==============================] - 5s 3ms/step - loss: 0.9441 - accuracy: 0.7289 - val_loss: 1.3046 - val_accuracy: 0.6480 - lr: 0.0100\n",
      "Epoch 4/25\n",
      "1719/1719 [==============================] - 5s 3ms/step - loss: 0.9383 - accuracy: 0.7264 - val_loss: 0.8370 - val_accuracy: 0.7892 - lr: 0.0100\n",
      "Epoch 5/25\n",
      "1719/1719 [==============================] - 5s 3ms/step - loss: 0.9779 - accuracy: 0.7078 - val_loss: 1.0102 - val_accuracy: 0.6620 - lr: 0.0100\n",
      "Epoch 6/25\n",
      "1719/1719 [==============================] - 5s 3ms/step - loss: 0.7379 - accuracy: 0.7309 - val_loss: 0.9029 - val_accuracy: 0.7500 - lr: 0.0050\n",
      "Epoch 7/25\n",
      "1719/1719 [==============================] - 5s 3ms/step - loss: 0.6893 - accuracy: 0.7456 - val_loss: 0.8474 - val_accuracy: 0.7220 - lr: 0.0050\n",
      "Epoch 8/25\n",
      "1719/1719 [==============================] - 5s 3ms/step - loss: 0.6665 - accuracy: 0.7511 - val_loss: 0.8022 - val_accuracy: 0.7374 - lr: 0.0050\n",
      "Epoch 9/25\n",
      "1719/1719 [==============================] - 5s 3ms/step - loss: 0.6429 - accuracy: 0.7611 - val_loss: 0.8312 - val_accuracy: 0.7590 - lr: 0.0050\n",
      "Epoch 10/25\n",
      "1719/1719 [==============================] - 5s 3ms/step - loss: 0.6317 - accuracy: 0.7654 - val_loss: 0.7639 - val_accuracy: 0.7576 - lr: 0.0050\n",
      "Epoch 11/25\n",
      "1719/1719 [==============================] - 5s 3ms/step - loss: 0.6333 - accuracy: 0.7682 - val_loss: 0.6756 - val_accuracy: 0.7590 - lr: 0.0050\n",
      "Epoch 12/25\n",
      "1719/1719 [==============================] - 5s 3ms/step - loss: 0.6154 - accuracy: 0.7739 - val_loss: 0.7810 - val_accuracy: 0.7602 - lr: 0.0050\n",
      "Epoch 13/25\n",
      "1719/1719 [==============================] - 5s 3ms/step - loss: 0.5954 - accuracy: 0.7765 - val_loss: 0.8436 - val_accuracy: 0.7642 - lr: 0.0050\n",
      "Epoch 14/25\n",
      "1719/1719 [==============================] - 5s 3ms/step - loss: 0.5745 - accuracy: 0.8120 - val_loss: 0.7295 - val_accuracy: 0.8284 - lr: 0.0050\n",
      "Epoch 15/25\n",
      "1719/1719 [==============================] - 5s 3ms/step - loss: 0.5149 - accuracy: 0.8492 - val_loss: 1.6034 - val_accuracy: 0.8514 - lr: 0.0050\n",
      "Epoch 16/25\n",
      "1719/1719 [==============================] - 5s 3ms/step - loss: 0.3928 - accuracy: 0.8829 - val_loss: 0.5995 - val_accuracy: 0.8622 - lr: 0.0010\n",
      "Epoch 17/25\n",
      "1719/1719 [==============================] - 5s 3ms/step - loss: 0.3445 - accuracy: 0.8893 - val_loss: 0.6383 - val_accuracy: 0.8638 - lr: 0.0010\n",
      "Epoch 18/25\n",
      "1719/1719 [==============================] - 5s 3ms/step - loss: 0.3337 - accuracy: 0.8948 - val_loss: 0.6438 - val_accuracy: 0.8680 - lr: 0.0010\n",
      "Epoch 19/25\n",
      "1719/1719 [==============================] - 5s 3ms/step - loss: 0.3191 - accuracy: 0.8978 - val_loss: 0.6016 - val_accuracy: 0.8690 - lr: 0.0010\n",
      "Epoch 20/25\n",
      "1719/1719 [==============================] - 5s 3ms/step - loss: 0.3029 - accuracy: 0.9010 - val_loss: 0.6895 - val_accuracy: 0.8702 - lr: 0.0010\n",
      "Epoch 21/25\n",
      "1719/1719 [==============================] - 5s 3ms/step - loss: 0.2948 - accuracy: 0.9051 - val_loss: 0.6679 - val_accuracy: 0.8656 - lr: 0.0010\n",
      "Epoch 22/25\n",
      "1719/1719 [==============================] - 5s 3ms/step - loss: 0.2868 - accuracy: 0.9067 - val_loss: 0.6863 - val_accuracy: 0.8762 - lr: 0.0010\n",
      "Epoch 23/25\n",
      "1719/1719 [==============================] - 5s 3ms/step - loss: 0.2809 - accuracy: 0.9094 - val_loss: 0.6877 - val_accuracy: 0.8724 - lr: 0.0010\n",
      "Epoch 24/25\n",
      "1719/1719 [==============================] - ETA: 0s - loss: 0.2707 - accuracy: 0.91 - 5s 3ms/step - loss: 0.2707 - accuracy: 0.9119 - val_loss: 0.7233 - val_accuracy: 0.8704 - lr: 0.0010\n",
      "Epoch 25/25\n",
      "1719/1719 [==============================] - 5s 3ms/step - loss: 0.2670 - accuracy: 0.9141 - val_loss: 0.7254 - val_accuracy: 0.8706 - lr: 0.0010\n"
     ]
    }
   ],
   "source": [
    "lr_scheduler = keras.callbacks.LearningRateScheduler(piecewise_constant_fn)\n",
    "\n",
    "model = keras.models.Sequential([\n",
    "    keras.layers.Flatten(input_shape=[28, 28]),\n",
    "    keras.layers.Dense(300, activation=\"selu\", kernel_initializer=\"lecun_normal\"),\n",
    "    keras.layers.Dense(100, activation=\"selu\", kernel_initializer=\"lecun_normal\"),\n",
    "    keras.layers.Dense(10, activation=\"softmax\")\n",
    "])\n",
    "model.compile(loss=\"sparse_categorical_crossentropy\", optimizer=\"nadam\", metrics=[\"accuracy\"])\n",
    "n_epochs = 25\n",
    "history = model.fit(X_train_scaled, y_train, epochs=n_epochs,\n",
    "                    validation_data=(X_valid_scaled, y_valid),\n",
    "                    callbacks=[lr_scheduler])"
   ]
  },
  {
   "cell_type": "code",
   "execution_count": 122,
   "metadata": {
    "scrolled": true
   },
   "outputs": [
    {
     "data": {
      "image/png": "[encoded data removed]",
      "text/plain": [
       "<Figure size 432x288 with 1 Axes>"
      ]
     },
     "metadata": {
      "needs_background": "light"
     },
     "output_type": "display_data"
    }
   ],
   "source": [
    "plt.plot(history.epoch, [piecewise_constant_fn(epoch) for epoch in history.epoch], \"o-\")\n",
    "plt.axis([0, n_epochs - 1, 0, 0.011])\n",
    "plt.xlabel(\"Epoch\")\n",
    "plt.ylabel(\"Learning Rate\")\n",
    "plt.title(\"Piecewise Constant Scheduling\", fontsize=14)\n",
    "plt.grid(True)\n",
    "plt.show()"
   ]
  },
  {
   "cell_type": "markdown",
   "metadata": {},
   "source": [
    "### 1 사이클 스케쥴링"
   ]
  },
  {
   "cell_type": "code",
   "execution_count": 123,
   "metadata": {},
   "outputs": [],
   "source": [
    "\n",
    "K = keras.backend\n",
    "\n",
    "class ExponentialLearningRate(keras.callbacks.Callback):\n",
    "    def __init__(self, factor):\n",
    "        self.factor = factor\n",
    "        self.rates = []\n",
    "        self.losses = []\n",
    "    def on_batch_end(self, batch, logs):\n",
    "        self.rates.append(K.get_value(self.model.optimizer.lr))\n",
    "        self.losses.append(logs[\"loss\"])\n",
    "        K.set_value(self.model.optimizer.lr, self.model.optimizer.lr * self.factor)\n",
    "\n",
    "def find_learning_rate(model, X, y, epochs=1, batch_size=32, min_rate=10**-5, max_rate=10):\n",
    "    init_weights = model.get_weights()\n",
    "    iterations = len(X) // batch_size * epochs\n",
    "    factor = np.exp(np.log(max_rate / min_rate) / iterations)\n",
    "    init_lr = K.get_value(model.optimizer.lr)\n",
    "    K.set_value(model.optimizer.lr, min_rate)\n",
    "    exp_lr = ExponentialLearningRate(factor)\n",
    "    history = model.fit(X, y, epochs=epochs, batch_size=batch_size,\n",
    "                        callbacks=[exp_lr])\n",
    "    K.set_value(model.optimizer.lr, init_lr)\n",
    "    model.set_weights(init_weights)\n",
    "    return exp_lr.rates, exp_lr.losses\n",
    "\n",
    "def plot_lr_vs_loss(rates, losses):\n",
    "    plt.plot(rates, losses)\n",
    "    plt.gca().set_xscale('log')\n",
    "    plt.hlines(min(losses), min(rates), max(rates))\n",
    "    plt.axis([min(rates), max(rates), min(losses), (losses[0] + min(losses)) / 2])\n",
    "    plt.xlabel(\"Learning rate\")\n",
    "    plt.ylabel(\"Loss\")"
   ]
  },
  {
   "cell_type": "code",
   "execution_count": 124,
   "metadata": {},
   "outputs": [],
   "source": [
    "tf.random.set_seed(42)\n",
    "np.random.seed(42)\n",
    "\n",
    "model = keras.models.Sequential([\n",
    "    keras.layers.Flatten(input_shape=[28, 28]),\n",
    "    keras.layers.Dense(300, activation=\"selu\", kernel_initializer=\"lecun_normal\"),\n",
    "    keras.layers.Dense(100, activation=\"selu\", kernel_initializer=\"lecun_normal\"),\n",
    "    keras.layers.Dense(10, activation=\"softmax\")\n",
    "])\n",
    "model.compile(loss=\"sparse_categorical_crossentropy\",\n",
    "              optimizer=keras.optimizers.SGD(lr=1e-3),\n",
    "              metrics=[\"accuracy\"])"
   ]
  },
  {
   "cell_type": "code",
   "execution_count": 125,
   "metadata": {},
   "outputs": [
    {
     "name": "stdout",
     "output_type": "stream",
     "text": [
      "430/430 [==============================] - 1s 3ms/step - loss: nan - accuracy: 0.3912\n"
     ]
    },
    {
     "data": {
      "image/png": "[encoded data removed]",
      "text/plain": [
       "<Figure size 432x288 with 1 Axes>"
      ]
     },
     "metadata": {
      "needs_background": "light"
     },
     "output_type": "display_data"
    }
   ],
   "source": [
    "batch_size = 128\n",
    "rates, losses = find_learning_rate(model, X_train_scaled, y_train, epochs=1, batch_size=batch_size)\n",
    "plot_lr_vs_loss(rates, losses)"
   ]
  },
  {
   "cell_type": "code",
   "execution_count": 126,
   "metadata": {},
   "outputs": [],
   "source": [
    "class OneCycleScheduler(keras.callbacks.Callback):\n",
    "    def __init__(self, iterations, max_rate, start_rate=None,\n",
    "                 last_iterations=None, last_rate=None):\n",
    "        self.iterations = iterations\n",
    "        self.max_rate = max_rate\n",
    "        self.start_rate = start_rate or max_rate / 10\n",
    "        self.last_iterations = last_iterations or iterations // 10 + 1\n",
    "        self.half_iteration = (iterations - self.last_iterations) // 2\n",
    "        self.last_rate = last_rate or self.start_rate / 1000\n",
    "        self.iteration = 0\n",
    "    def _interpolate(self, iter1, iter2, rate1, rate2):\n",
    "        return ((rate2 - rate1) * (self.iteration - iter1)\n",
    "                / (iter2 - iter1) + rate1)\n",
    "    def on_batch_begin(self, batch, logs):\n",
    "        if self.iteration < self.half_iteration:\n",
    "            rate = self._interpolate(0, self.half_iteration, self.start_rate, self.max_rate)\n",
    "        elif self.iteration < 2 * self.half_iteration:\n",
    "            rate = self._interpolate(self.half_iteration, 2 * self.half_iteration,\n",
    "                                     self.max_rate, self.start_rate)\n",
    "        else:\n",
    "            rate = self._interpolate(2 * self.half_iteration, self.iterations,\n",
    "                                     self.start_rate, self.last_rate)\n",
    "            rate = max(rate, self.last_rate)\n",
    "        self.iteration += 1\n",
    "        K.set_value(self.model.optimizer.lr, rate)"
   ]
  },
  {
   "cell_type": "code",
   "execution_count": 127,
   "metadata": {},
   "outputs": [
    {
     "name": "stdout",
     "output_type": "stream",
     "text": [
      "Epoch 1/25\n",
      "430/430 [==============================] - 1s 3ms/step - loss: 0.6572 - accuracy: 0.7740 - val_loss: 0.4872 - val_accuracy: 0.8338\n",
      "Epoch 2/25\n",
      "430/430 [==============================] - 1s 3ms/step - loss: 0.4580 - accuracy: 0.8397 - val_loss: 0.4275 - val_accuracy: 0.8520\n",
      "Epoch 3/25\n",
      "430/430 [==============================] - 1s 3ms/step - loss: 0.4121 - accuracy: 0.8548 - val_loss: 0.4116 - val_accuracy: 0.8590\n",
      "Epoch 4/25\n",
      "430/430 [==============================] - 1s 3ms/step - loss: 0.3837 - accuracy: 0.8640 - val_loss: 0.3869 - val_accuracy: 0.8684\n",
      "Epoch 5/25\n",
      "430/430 [==============================] - 1s 3ms/step - loss: 0.3639 - accuracy: 0.8717 - val_loss: 0.3769 - val_accuracy: 0.8682\n",
      "Epoch 6/25\n",
      "430/430 [==============================] - 1s 3ms/step - loss: 0.3456 - accuracy: 0.8775 - val_loss: 0.3745 - val_accuracy: 0.8716\n",
      "Epoch 7/25\n",
      "430/430 [==============================] - 1s 3ms/step - loss: 0.3330 - accuracy: 0.8812 - val_loss: 0.3635 - val_accuracy: 0.8722\n",
      "Epoch 8/25\n",
      "430/430 [==============================] - 1s 3ms/step - loss: 0.3184 - accuracy: 0.8862 - val_loss: 0.3959 - val_accuracy: 0.8602\n",
      "Epoch 9/25\n",
      "430/430 [==============================] - 1s 3ms/step - loss: 0.3064 - accuracy: 0.8891 - val_loss: 0.3489 - val_accuracy: 0.8762\n",
      "Epoch 10/25\n",
      "430/430 [==============================] - 1s 3ms/step - loss: 0.2944 - accuracy: 0.8926 - val_loss: 0.3400 - val_accuracy: 0.8798\n",
      "Epoch 11/25\n",
      "430/430 [==============================] - 1s 3ms/step - loss: 0.2838 - accuracy: 0.8965 - val_loss: 0.3456 - val_accuracy: 0.8810\n",
      "Epoch 12/25\n",
      "430/430 [==============================] - 1s 3ms/step - loss: 0.2707 - accuracy: 0.9023 - val_loss: 0.3645 - val_accuracy: 0.8696\n",
      "Epoch 13/25\n",
      "430/430 [==============================] - 1s 3ms/step - loss: 0.2535 - accuracy: 0.9083 - val_loss: 0.3356 - val_accuracy: 0.8846\n",
      "Epoch 14/25\n",
      "430/430 [==============================] - 1s 3ms/step - loss: 0.2404 - accuracy: 0.9133 - val_loss: 0.3464 - val_accuracy: 0.8802\n",
      "Epoch 15/25\n",
      "430/430 [==============================] - 1s 3ms/step - loss: 0.2279 - accuracy: 0.9181 - val_loss: 0.3263 - val_accuracy: 0.8852\n",
      "Epoch 16/25\n",
      "430/430 [==============================] - 1s 3ms/step - loss: 0.2159 - accuracy: 0.9234 - val_loss: 0.3297 - val_accuracy: 0.8842\n",
      "Epoch 17/25\n",
      "430/430 [==============================] - 1s 3ms/step - loss: 0.2062 - accuracy: 0.9261 - val_loss: 0.3346 - val_accuracy: 0.8870\n",
      "Epoch 18/25\n",
      "430/430 [==============================] - 1s 3ms/step - loss: 0.1978 - accuracy: 0.9304 - val_loss: 0.3235 - val_accuracy: 0.8900\n",
      "Epoch 19/25\n",
      "430/430 [==============================] - 1s 3ms/step - loss: 0.1892 - accuracy: 0.9337 - val_loss: 0.3226 - val_accuracy: 0.8898\n",
      "Epoch 20/25\n",
      "430/430 [==============================] - 1s 3ms/step - loss: 0.1822 - accuracy: 0.9367 - val_loss: 0.3225 - val_accuracy: 0.8916\n",
      "Epoch 21/25\n",
      "430/430 [==============================] - 1s 3ms/step - loss: 0.1753 - accuracy: 0.9398 - val_loss: 0.3219 - val_accuracy: 0.8908\n",
      "Epoch 22/25\n",
      "430/430 [==============================] - 1s 3ms/step - loss: 0.1701 - accuracy: 0.9418 - val_loss: 0.3183 - val_accuracy: 0.8940\n",
      "Epoch 23/25\n",
      "430/430 [==============================] - 1s 3ms/step - loss: 0.1656 - accuracy: 0.9438 - val_loss: 0.3187 - val_accuracy: 0.8944\n",
      "Epoch 24/25\n",
      "430/430 [==============================] - 1s 3ms/step - loss: 0.1628 - accuracy: 0.9455 - val_loss: 0.3178 - val_accuracy: 0.8936\n",
      "Epoch 25/25\n",
      "430/430 [==============================] - 1s 3ms/step - loss: 0.1611 - accuracy: 0.9464 - val_loss: 0.3170 - val_accuracy: 0.8932\n"
     ]
    }
   ],
   "source": [
    "n_epochs = 25\n",
    "onecycle = OneCycleScheduler(len(X_train) // batch_size * n_epochs, max_rate=0.05)\n",
    "history = model.fit(X_train_scaled, y_train, epochs=n_epochs, batch_size=batch_size,\n",
    "                    validation_data=(X_valid_scaled, y_valid),\n",
    "                    callbacks=[onecycle])"
   ]
  },
  {
   "cell_type": "markdown",
   "metadata": {},
   "source": [
    "지수 기반 스케쥴링, 성능 기반 스케쥴링, 1사이클 스케쥴링이 수렴 속도를 크게 높일 수 있음"
   ]
  },
  {
   "cell_type": "markdown",
   "metadata": {},
   "source": [
    "# 규제를 사용해 과대적합 피하기"
   ]
  },
  {
   "cell_type": "markdown",
   "metadata": {},
   "source": [
    "### l1과 l2 규제\n",
    "\n",
    "l2 : 신경망의 연결 가중치 제한\n",
    "\n",
    "l1 : 많은 가중치가 0인 회소 모델 만들기"
   ]
  },
  {
   "cell_type": "code",
   "execution_count": 129,
   "metadata": {},
   "outputs": [
    {
     "name": "stdout",
     "output_type": "stream",
     "text": [
      "Epoch 1/2\n",
      "1719/1719 [==============================] - 5s 3ms/step - loss: 1.6223 - accuracy: 0.8109 - val_loss: 0.7201 - val_accuracy: 0.8306\n",
      "Epoch 2/2\n",
      "1719/1719 [==============================] - 5s 3ms/step - loss: 0.7204 - accuracy: 0.8269 - val_loss: 0.6843 - val_accuracy: 0.8368\n"
     ]
    }
   ],
   "source": [
    "from functools import partial\n",
    "\n",
    "RegularizedDense = partial(keras.layers.Dense,\n",
    "                           activation=\"elu\",\n",
    "                           kernel_initializer=\"he_normal\",\n",
    "                           kernel_regularizer=keras.regularizers.l2(0.01))\n",
    "\n",
    "model = keras.models.Sequential([\n",
    "    keras.layers.Flatten(input_shape=[28, 28]),\n",
    "    RegularizedDense(300),\n",
    "    RegularizedDense(100),\n",
    "    RegularizedDense(10, activation=\"softmax\")\n",
    "])\n",
    "model.compile(loss=\"sparse_categorical_crossentropy\", optimizer=\"nadam\", metrics=[\"accuracy\"])\n",
    "n_epochs = 2\n",
    "history = model.fit(X_train_scaled, y_train, epochs=n_epochs,\n",
    "                    validation_data=(X_valid_scaled, y_valid))"
   ]
  },
  {
   "cell_type": "markdown",
   "metadata": {},
   "source": [
    "### 드롭 아웃"
   ]
  },
  {
   "cell_type": "markdown",
   "metadata": {},
   "source": [
    "드롭 아웃으로 훈련된 뉴련은 이웃한 뉴런에 맞추어 적응될 수 없으며, 자기 자신이 유용해져야 함.\n",
    "\n",
    "몇 개의 입력에 의존할 수 없으며, 모든 입력 뉴런에 주의를 기울여야 함\n",
    "\n",
    "일반적으로 출력층을 제외한 맨 위의 층 부터 세번째 층까지 드롭 아웃 적용"
   ]
  },
  {
   "cell_type": "code",
   "execution_count": 131,
   "metadata": {},
   "outputs": [
    {
     "name": "stdout",
     "output_type": "stream",
     "text": [
      "Epoch 1/2\n",
      "1719/1719 [==============================] - 6s 3ms/step - loss: 0.5597 - accuracy: 0.8059 - val_loss: 0.3672 - val_accuracy: 0.8652\n",
      "Epoch 2/2\n",
      "1719/1719 [==============================] - 6s 3ms/step - loss: 0.4229 - accuracy: 0.8452 - val_loss: 0.3460 - val_accuracy: 0.8696\n"
     ]
    }
   ],
   "source": [
    "model = keras.models.Sequential([\n",
    "    keras.layers.Flatten(input_shape=[28, 28]),\n",
    "    keras.layers.Dropout(rate=0.2),\n",
    "    keras.layers.Dense(300, activation=\"elu\", kernel_initializer=\"he_normal\"),\n",
    "    keras.layers.Dropout(rate=0.2),\n",
    "    keras.layers.Dense(100, activation=\"elu\", kernel_initializer=\"he_normal\"),\n",
    "    keras.layers.Dropout(rate=0.2),\n",
    "    keras.layers.Dense(10, activation=\"softmax\")\n",
    "])\n",
    "model.compile(loss=\"sparse_categorical_crossentropy\", optimizer=\"nadam\", metrics=[\"accuracy\"])\n",
    "n_epochs = 2\n",
    "history = model.fit(X_train_scaled, y_train, epochs=n_epochs,\n",
    "                    validation_data=(X_valid_scaled, y_valid))"
   ]
  },
  {
   "cell_type": "markdown",
   "metadata": {},
   "source": [
    "### 알파 드롭 아웃\n",
    "\n",
    "SELU 활성화 함수를 기반으로 하는 경우"
   ]
  },
  {
   "cell_type": "code",
   "execution_count": 132,
   "metadata": {},
   "outputs": [],
   "source": [
    "tf.random.set_seed(42)\n",
    "np.random.seed(42)"
   ]
  },
  {
   "cell_type": "code",
   "execution_count": 133,
   "metadata": {},
   "outputs": [
    {
     "name": "stdout",
     "output_type": "stream",
     "text": [
      "Epoch 1/20\n",
      "1719/1719 [==============================] - 4s 2ms/step - loss: 0.6653 - accuracy: 0.7592 - val_loss: 0.5920 - val_accuracy: 0.8424\n",
      "Epoch 2/20\n",
      "1719/1719 [==============================] - 4s 2ms/step - loss: 0.5607 - accuracy: 0.7935 - val_loss: 0.5573 - val_accuracy: 0.8402\n",
      "Epoch 3/20\n",
      "1719/1719 [==============================] - 4s 2ms/step - loss: 0.5284 - accuracy: 0.8055 - val_loss: 0.4852 - val_accuracy: 0.8586\n",
      "Epoch 4/20\n",
      "1719/1719 [==============================] - 4s 2ms/step - loss: 0.5072 - accuracy: 0.8121 - val_loss: 0.4595 - val_accuracy: 0.8608\n",
      "Epoch 5/20\n",
      "1719/1719 [==============================] - 4s 2ms/step - loss: 0.4922 - accuracy: 0.8183 - val_loss: 0.4695 - val_accuracy: 0.8552\n",
      "Epoch 6/20\n",
      "1719/1719 [==============================] - 4s 2ms/step - loss: 0.4862 - accuracy: 0.8190 - val_loss: 0.4752 - val_accuracy: 0.8590\n",
      "Epoch 7/20\n",
      "1719/1719 [==============================] - 4s 2ms/step - loss: 0.4718 - accuracy: 0.8247 - val_loss: 0.4689 - val_accuracy: 0.8682\n",
      "Epoch 8/20\n",
      "1719/1719 [==============================] - 4s 2ms/step - loss: 0.4640 - accuracy: 0.8269 - val_loss: 0.4657 - val_accuracy: 0.8628\n",
      "Epoch 9/20\n",
      "1719/1719 [==============================] - 4s 2ms/step - loss: 0.4577 - accuracy: 0.8307 - val_loss: 0.4140 - val_accuracy: 0.8728\n",
      "Epoch 10/20\n",
      "1719/1719 [==============================] - 4s 2ms/step - loss: 0.4531 - accuracy: 0.8328 - val_loss: 0.4625 - val_accuracy: 0.8680\n",
      "Epoch 11/20\n",
      "1719/1719 [==============================] - 4s 2ms/step - loss: 0.4486 - accuracy: 0.8326 - val_loss: 0.4237 - val_accuracy: 0.8670\n",
      "Epoch 12/20\n",
      "1719/1719 [==============================] - 4s 2ms/step - loss: 0.4467 - accuracy: 0.8343 - val_loss: 0.5453 - val_accuracy: 0.8482\n",
      "Epoch 13/20\n",
      "1719/1719 [==============================] - 4s 2ms/step - loss: 0.4417 - accuracy: 0.8359 - val_loss: 0.4632 - val_accuracy: 0.8664\n",
      "Epoch 14/20\n",
      "1719/1719 [==============================] - 4s 2ms/step - loss: 0.4317 - accuracy: 0.8400 - val_loss: 0.4536 - val_accuracy: 0.8718\n",
      "Epoch 15/20\n",
      "1719/1719 [==============================] - 4s 2ms/step - loss: 0.4329 - accuracy: 0.8369 - val_loss: 0.4338 - val_accuracy: 0.8706\n",
      "Epoch 16/20\n",
      "1719/1719 [==============================] - 4s 2ms/step - loss: 0.4304 - accuracy: 0.8407 - val_loss: 0.4182 - val_accuracy: 0.8788\n",
      "Epoch 17/20\n",
      "1719/1719 [==============================] - 4s 2ms/step - loss: 0.4262 - accuracy: 0.8419 - val_loss: 0.5583 - val_accuracy: 0.8580\n",
      "Epoch 18/20\n",
      "1719/1719 [==============================] - 4s 2ms/step - loss: 0.4257 - accuracy: 0.8419 - val_loss: 0.5056 - val_accuracy: 0.8734\n",
      "Epoch 19/20\n",
      "1719/1719 [==============================] - 4s 2ms/step - loss: 0.4212 - accuracy: 0.8433 - val_loss: 0.4948 - val_accuracy: 0.8762\n",
      "Epoch 20/20\n",
      "1719/1719 [==============================] - 4s 2ms/step - loss: 0.4228 - accuracy: 0.8429 - val_loss: 0.4130 - val_accuracy: 0.8746\n"
     ]
    }
   ],
   "source": [
    "model = keras.models.Sequential([\n",
    "    keras.layers.Flatten(input_shape=[28, 28]),\n",
    "    keras.layers.AlphaDropout(rate=0.2),\n",
    "    keras.layers.Dense(300, activation=\"selu\", kernel_initializer=\"lecun_normal\"),\n",
    "    keras.layers.AlphaDropout(rate=0.2),\n",
    "    keras.layers.Dense(100, activation=\"selu\", kernel_initializer=\"lecun_normal\"),\n",
    "    keras.layers.AlphaDropout(rate=0.2),\n",
    "    keras.layers.Dense(10, activation=\"softmax\")\n",
    "])\n",
    "optimizer = keras.optimizers.SGD(lr=0.01, momentum=0.9, nesterov=True)\n",
    "model.compile(loss=\"sparse_categorical_crossentropy\", optimizer=optimizer, metrics=[\"accuracy\"])\n",
    "n_epochs = 20\n",
    "history = model.fit(X_train_scaled, y_train, epochs=n_epochs,\n",
    "                    validation_data=(X_valid_scaled, y_valid))"
   ]
  },
  {
   "cell_type": "markdown",
   "metadata": {},
   "source": [
    "### MC드롭아웃(몬테 카를로)\n",
    "\n",
    "훈련된 드롭아웃 모델을 재훈련하거나 수정하지 않고 성능을 향상 시킬 수 있음"
   ]
  },
  {
   "cell_type": "code",
   "execution_count": 134,
   "metadata": {},
   "outputs": [],
   "source": [
    "y_probas = np.stack([model(X_test_scaled, training=True) #training=True로 드롭아웃층 활성화하고 100번 예측 수행\n",
    "                     for sample in range(100)])\n",
    "y_proba = y_probas.mean(axis=0) #행 방향으로 쌓인 예측 결과에 대해 평균\n",
    "y_std = y_probas.std(axis=0)\n",
    "\n",
    "#드롭아웃으로 만든 에측을 평균하면 일반적으로 드롭아웃이 없이 예측한 것 보다 안정적"
   ]
  },
  {
   "cell_type": "code",
   "execution_count": 145,
   "metadata": {},
   "outputs": [
    {
     "data": {
      "text/plain": [
       "array([[0.  , 0.  , 0.  , 0.  , 0.  , 0.04, 0.  , 0.02, 0.  , 0.95]],\n",
       "      dtype=float32)"
      ]
     },
     "execution_count": 145,
     "metadata": {},
     "output_type": "execute_result"
    }
   ],
   "source": [
    "# 드롭아웃을 끄고 모델 예측\n",
    "\n",
    "np.round(model.predict(X_test_scaled[:1]), 2) #X_test_scaled[:1] == X_test_scaled[0].reshape(1, 28, 28)\n",
    "\n",
    "#9번 클래스(앵클 부츠)로 확신"
   ]
  },
  {
   "cell_type": "code",
   "execution_count": 146,
   "metadata": {},
   "outputs": [
    {
     "data": {
      "text/plain": [
       "(100, 10000, 10)"
      ]
     },
     "execution_count": 146,
     "metadata": {},
     "output_type": "execute_result"
    }
   ],
   "source": [
    "y_probas.shape \n",
    "\n",
    "#10000개의 테스트 세트와 10개의 클래스가 있으므로, 각각의 테스트 데이터에 대한 10개의 예측 * 100번 수행하여 스택"
   ]
  },
  {
   "cell_type": "code",
   "execution_count": 147,
   "metadata": {},
   "outputs": [
    {
     "data": {
      "text/plain": [
       "array([[[0.  , 0.  , 0.  , 0.  , 0.  , 0.17, 0.  , 0.43, 0.  , 0.39]],\n",
       "\n",
       "       [[0.  , 0.  , 0.  , 0.  , 0.  , 0.37, 0.  , 0.46, 0.  , 0.17]],\n",
       "\n",
       "       [[0.  , 0.  , 0.  , 0.  , 0.  , 0.02, 0.  , 0.32, 0.  , 0.65]],\n",
       "\n",
       "       [[0.  , 0.  , 0.  , 0.  , 0.  , 0.49, 0.  , 0.24, 0.  , 0.28]],\n",
       "\n",
       "       [[0.  , 0.  , 0.  , 0.  , 0.  , 0.01, 0.  , 0.33, 0.  , 0.67]],\n",
       "\n",
       "       [[0.  , 0.  , 0.  , 0.  , 0.  , 0.62, 0.  , 0.06, 0.  , 0.32]],\n",
       "\n",
       "       [[0.  , 0.  , 0.  , 0.  , 0.  , 0.06, 0.  , 0.03, 0.  , 0.91]],\n",
       "\n",
       "       [[0.  , 0.  , 0.  , 0.  , 0.  , 0.04, 0.  , 0.29, 0.  , 0.67]],\n",
       "\n",
       "       [[0.  , 0.  , 0.  , 0.  , 0.  , 0.86, 0.  , 0.04, 0.  , 0.1 ]],\n",
       "\n",
       "       [[0.  , 0.  , 0.  , 0.  , 0.  , 0.84, 0.  , 0.08, 0.  , 0.07]],\n",
       "\n",
       "       [[0.  , 0.  , 0.  , 0.  , 0.  , 0.47, 0.  , 0.2 , 0.  , 0.33]],\n",
       "\n",
       "       [[0.  , 0.  , 0.  , 0.  , 0.  , 0.28, 0.  , 0.06, 0.  , 0.66]],\n",
       "\n",
       "       [[0.  , 0.  , 0.  , 0.  , 0.  , 0.35, 0.  , 0.03, 0.  , 0.61]],\n",
       "\n",
       "       [[0.  , 0.  , 0.  , 0.  , 0.  , 0.32, 0.  , 0.01, 0.  , 0.67]],\n",
       "\n",
       "       [[0.  , 0.  , 0.  , 0.  , 0.  , 0.05, 0.  , 0.05, 0.  , 0.9 ]],\n",
       "\n",
       "       [[0.  , 0.  , 0.  , 0.  , 0.  , 0.01, 0.  , 0.29, 0.  , 0.7 ]],\n",
       "\n",
       "       [[0.  , 0.  , 0.  , 0.  , 0.  , 0.41, 0.  , 0.09, 0.  , 0.5 ]],\n",
       "\n",
       "       [[0.  , 0.  , 0.  , 0.  , 0.  , 0.08, 0.  , 0.01, 0.  , 0.91]],\n",
       "\n",
       "       [[0.  , 0.  , 0.  , 0.  , 0.  , 0.91, 0.  , 0.05, 0.  , 0.05]],\n",
       "\n",
       "       [[0.  , 0.  , 0.  , 0.  , 0.  , 0.03, 0.  , 0.03, 0.  , 0.94]],\n",
       "\n",
       "       [[0.  , 0.  , 0.  , 0.  , 0.  , 0.01, 0.  , 0.34, 0.  , 0.65]],\n",
       "\n",
       "       [[0.  , 0.  , 0.  , 0.  , 0.  , 0.15, 0.  , 0.1 , 0.  , 0.75]],\n",
       "\n",
       "       [[0.  , 0.  , 0.  , 0.  , 0.  , 0.27, 0.  , 0.6 , 0.  , 0.13]],\n",
       "\n",
       "       [[0.  , 0.  , 0.  , 0.  , 0.  , 0.37, 0.  , 0.19, 0.  , 0.44]],\n",
       "\n",
       "       [[0.  , 0.  , 0.  , 0.  , 0.  , 0.25, 0.  , 0.1 , 0.  , 0.65]],\n",
       "\n",
       "       [[0.  , 0.  , 0.  , 0.  , 0.  , 0.56, 0.  , 0.03, 0.  , 0.41]],\n",
       "\n",
       "       [[0.  , 0.  , 0.  , 0.  , 0.  , 0.43, 0.  , 0.36, 0.  , 0.21]],\n",
       "\n",
       "       [[0.  , 0.  , 0.  , 0.  , 0.  , 0.6 , 0.  , 0.11, 0.  , 0.29]],\n",
       "\n",
       "       [[0.  , 0.  , 0.  , 0.  , 0.  , 0.83, 0.  , 0.03, 0.  , 0.14]],\n",
       "\n",
       "       [[0.  , 0.  , 0.  , 0.  , 0.  , 0.91, 0.  , 0.03, 0.  , 0.06]],\n",
       "\n",
       "       [[0.  , 0.  , 0.  , 0.  , 0.  , 0.73, 0.  , 0.26, 0.  , 0.01]],\n",
       "\n",
       "       [[0.  , 0.  , 0.  , 0.  , 0.  , 0.28, 0.  , 0.09, 0.  , 0.63]],\n",
       "\n",
       "       [[0.  , 0.  , 0.  , 0.  , 0.  , 0.23, 0.  , 0.63, 0.  , 0.14]],\n",
       "\n",
       "       [[0.  , 0.  , 0.  , 0.  , 0.  , 0.14, 0.  , 0.02, 0.  , 0.84]],\n",
       "\n",
       "       [[0.  , 0.  , 0.  , 0.  , 0.  , 0.55, 0.  , 0.26, 0.  , 0.18]],\n",
       "\n",
       "       [[0.  , 0.  , 0.  , 0.  , 0.  , 0.25, 0.  , 0.51, 0.  , 0.24]],\n",
       "\n",
       "       [[0.  , 0.  , 0.  , 0.  , 0.  , 0.96, 0.  , 0.  , 0.  , 0.04]],\n",
       "\n",
       "       [[0.  , 0.  , 0.  , 0.  , 0.  , 0.32, 0.  , 0.13, 0.  , 0.55]],\n",
       "\n",
       "       [[0.  , 0.  , 0.  , 0.  , 0.  , 0.08, 0.  , 0.01, 0.  , 0.91]],\n",
       "\n",
       "       [[0.  , 0.  , 0.  , 0.  , 0.  , 0.75, 0.  , 0.19, 0.  , 0.06]],\n",
       "\n",
       "       [[0.  , 0.  , 0.  , 0.  , 0.  , 0.  , 0.  , 0.06, 0.  , 0.94]],\n",
       "\n",
       "       [[0.  , 0.  , 0.  , 0.  , 0.  , 0.07, 0.  , 0.07, 0.  , 0.86]],\n",
       "\n",
       "       [[0.  , 0.  , 0.  , 0.  , 0.  , 0.  , 0.  , 0.14, 0.  , 0.86]],\n",
       "\n",
       "       [[0.  , 0.  , 0.  , 0.  , 0.  , 0.11, 0.  , 0.18, 0.  , 0.71]],\n",
       "\n",
       "       [[0.  , 0.  , 0.  , 0.  , 0.  , 0.03, 0.  , 0.14, 0.  , 0.83]],\n",
       "\n",
       "       [[0.  , 0.  , 0.  , 0.  , 0.  , 0.03, 0.  , 0.2 , 0.  , 0.77]],\n",
       "\n",
       "       [[0.  , 0.  , 0.  , 0.  , 0.  , 0.08, 0.  , 0.17, 0.  , 0.75]],\n",
       "\n",
       "       [[0.  , 0.  , 0.  , 0.  , 0.  , 0.36, 0.  , 0.18, 0.  , 0.47]],\n",
       "\n",
       "       [[0.  , 0.  , 0.  , 0.  , 0.  , 0.29, 0.  , 0.37, 0.  , 0.34]],\n",
       "\n",
       "       [[0.  , 0.  , 0.  , 0.  , 0.  , 0.02, 0.  , 0.02, 0.  , 0.96]],\n",
       "\n",
       "       [[0.  , 0.  , 0.  , 0.  , 0.  , 0.73, 0.  , 0.08, 0.  , 0.2 ]],\n",
       "\n",
       "       [[0.  , 0.  , 0.  , 0.  , 0.  , 0.14, 0.  , 0.01, 0.  , 0.85]],\n",
       "\n",
       "       [[0.  , 0.  , 0.  , 0.  , 0.  , 0.02, 0.  , 0.04, 0.  , 0.94]],\n",
       "\n",
       "       [[0.  , 0.  , 0.  , 0.  , 0.  , 0.04, 0.  , 0.42, 0.  , 0.55]],\n",
       "\n",
       "       [[0.  , 0.  , 0.  , 0.  , 0.  , 0.26, 0.  , 0.35, 0.  , 0.39]],\n",
       "\n",
       "       [[0.  , 0.  , 0.  , 0.  , 0.  , 0.05, 0.  , 0.43, 0.  , 0.52]],\n",
       "\n",
       "       [[0.  , 0.  , 0.  , 0.  , 0.  , 0.12, 0.  , 0.11, 0.  , 0.77]],\n",
       "\n",
       "       [[0.  , 0.  , 0.  , 0.  , 0.  , 0.65, 0.  , 0.08, 0.  , 0.28]],\n",
       "\n",
       "       [[0.  , 0.  , 0.  , 0.  , 0.  , 0.06, 0.  , 0.29, 0.  , 0.65]],\n",
       "\n",
       "       [[0.  , 0.  , 0.  , 0.  , 0.  , 0.3 , 0.  , 0.18, 0.  , 0.52]],\n",
       "\n",
       "       [[0.  , 0.  , 0.  , 0.  , 0.  , 0.12, 0.  , 0.04, 0.  , 0.83]],\n",
       "\n",
       "       [[0.  , 0.  , 0.  , 0.  , 0.  , 0.37, 0.  , 0.12, 0.  , 0.51]],\n",
       "\n",
       "       [[0.  , 0.  , 0.  , 0.  , 0.  , 0.4 , 0.  , 0.21, 0.  , 0.39]],\n",
       "\n",
       "       [[0.  , 0.  , 0.  , 0.  , 0.  , 0.59, 0.  , 0.03, 0.  , 0.37]],\n",
       "\n",
       "       [[0.  , 0.  , 0.  , 0.  , 0.  , 0.02, 0.  , 0.03, 0.  , 0.95]],\n",
       "\n",
       "       [[0.  , 0.  , 0.  , 0.  , 0.  , 0.1 , 0.  , 0.09, 0.  , 0.81]],\n",
       "\n",
       "       [[0.  , 0.  , 0.  , 0.  , 0.  , 0.17, 0.  , 0.36, 0.  , 0.47]],\n",
       "\n",
       "       [[0.  , 0.  , 0.  , 0.  , 0.  , 0.13, 0.  , 0.16, 0.  , 0.71]],\n",
       "\n",
       "       [[0.  , 0.  , 0.  , 0.  , 0.  , 0.23, 0.  , 0.03, 0.  , 0.74]],\n",
       "\n",
       "       [[0.  , 0.  , 0.  , 0.  , 0.  , 0.3 , 0.  , 0.2 , 0.  , 0.5 ]],\n",
       "\n",
       "       [[0.  , 0.  , 0.  , 0.  , 0.  , 0.01, 0.  , 0.08, 0.  , 0.91]],\n",
       "\n",
       "       [[0.  , 0.  , 0.  , 0.  , 0.  , 0.09, 0.  , 0.14, 0.  , 0.77]],\n",
       "\n",
       "       [[0.  , 0.  , 0.  , 0.  , 0.  , 0.26, 0.  , 0.04, 0.  , 0.7 ]],\n",
       "\n",
       "       [[0.  , 0.  , 0.  , 0.  , 0.  , 0.33, 0.  , 0.14, 0.  , 0.53]],\n",
       "\n",
       "       [[0.  , 0.  , 0.  , 0.  , 0.  , 0.35, 0.  , 0.34, 0.  , 0.32]],\n",
       "\n",
       "       [[0.  , 0.  , 0.  , 0.  , 0.  , 0.17, 0.  , 0.14, 0.  , 0.68]],\n",
       "\n",
       "       [[0.  , 0.  , 0.  , 0.  , 0.  , 0.01, 0.  , 0.03, 0.  , 0.96]],\n",
       "\n",
       "       [[0.  , 0.  , 0.  , 0.  , 0.  , 0.02, 0.  , 0.25, 0.  , 0.73]],\n",
       "\n",
       "       [[0.  , 0.  , 0.  , 0.  , 0.  , 0.4 , 0.  , 0.06, 0.  , 0.54]],\n",
       "\n",
       "       [[0.  , 0.  , 0.  , 0.  , 0.  , 0.06, 0.  , 0.01, 0.  , 0.94]],\n",
       "\n",
       "       [[0.  , 0.  , 0.  , 0.  , 0.  , 0.11, 0.  , 0.2 , 0.  , 0.68]],\n",
       "\n",
       "       [[0.  , 0.  , 0.  , 0.  , 0.  , 0.08, 0.  , 0.26, 0.  , 0.66]],\n",
       "\n",
       "       [[0.  , 0.  , 0.  , 0.  , 0.  , 0.27, 0.  , 0.13, 0.  , 0.6 ]],\n",
       "\n",
       "       [[0.  , 0.  , 0.  , 0.  , 0.  , 1.  , 0.  , 0.  , 0.  , 0.  ]],\n",
       "\n",
       "       [[0.  , 0.  , 0.  , 0.  , 0.  , 0.43, 0.  , 0.06, 0.  , 0.51]],\n",
       "\n",
       "       [[0.  , 0.  , 0.  , 0.  , 0.  , 0.4 , 0.  , 0.16, 0.  , 0.44]],\n",
       "\n",
       "       [[0.  , 0.  , 0.  , 0.  , 0.  , 0.22, 0.  , 0.01, 0.  , 0.78]],\n",
       "\n",
       "       [[0.  , 0.  , 0.  , 0.  , 0.  , 0.03, 0.  , 0.69, 0.  , 0.28]],\n",
       "\n",
       "       [[0.  , 0.  , 0.  , 0.  , 0.  , 0.34, 0.  , 0.08, 0.  , 0.58]],\n",
       "\n",
       "       [[0.  , 0.  , 0.  , 0.  , 0.  , 0.82, 0.  , 0.17, 0.  , 0.02]],\n",
       "\n",
       "       [[0.  , 0.  , 0.  , 0.  , 0.  , 0.38, 0.  , 0.25, 0.  , 0.37]],\n",
       "\n",
       "       [[0.  , 0.  , 0.  , 0.  , 0.  , 0.47, 0.  , 0.1 , 0.  , 0.43]],\n",
       "\n",
       "       [[0.  , 0.  , 0.  , 0.  , 0.  , 0.21, 0.  , 0.38, 0.  , 0.41]],\n",
       "\n",
       "       [[0.  , 0.  , 0.  , 0.  , 0.  , 0.18, 0.  , 0.2 , 0.  , 0.63]],\n",
       "\n",
       "       [[0.  , 0.  , 0.  , 0.  , 0.  , 0.53, 0.  , 0.05, 0.  , 0.42]],\n",
       "\n",
       "       [[0.  , 0.  , 0.  , 0.  , 0.  , 0.98, 0.  , 0.01, 0.  , 0.01]],\n",
       "\n",
       "       [[0.  , 0.  , 0.  , 0.  , 0.  , 0.5 , 0.  , 0.13, 0.  , 0.37]],\n",
       "\n",
       "       [[0.  , 0.  , 0.  , 0.  , 0.  , 0.48, 0.  , 0.28, 0.  , 0.24]],\n",
       "\n",
       "       [[0.  , 0.  , 0.  , 0.  , 0.  , 0.1 , 0.  , 0.51, 0.  , 0.39]],\n",
       "\n",
       "       [[0.  , 0.  , 0.  , 0.  , 0.  , 0.24, 0.  , 0.71, 0.  , 0.05]]],\n",
       "      dtype=float32)"
      ]
     },
     "execution_count": 147,
     "metadata": {},
     "output_type": "execute_result"
    }
   ],
   "source": [
    "# 드롭아웃의 예측\n",
    "\n",
    "np.round(y_probas[:, :1], 2) #100개의 스택 전체에 대해서 각각 첫번째 테스트 데이터에 대한 예측\n",
    "\n",
    "#예측이 9번 또는 5번, 7번 등으로 다양함."
   ]
  },
  {
   "cell_type": "code",
   "execution_count": 148,
   "metadata": {},
   "outputs": [
    {
     "data": {
      "text/plain": [
       "array([[0.  , 0.  , 0.  , 0.  , 0.  , 0.3 , 0.  , 0.17, 0.  , 0.52]],\n",
       "      dtype=float32)"
      ]
     },
     "execution_count": 148,
     "metadata": {},
     "output_type": "execute_result"
    }
   ],
   "source": [
    "#스택 차원에 대해 평균을 내면\n",
    "\n",
    "np.round(y_proba[:1], 2)\n",
    "\n",
    "# 클래스9에 속한다고 52% 확신 -> 95%보다는 훨씬 납득할 만한 값"
   ]
  },
  {
   "cell_type": "code",
   "execution_count": 149,
   "metadata": {},
   "outputs": [
    {
     "data": {
      "text/plain": [
       "array([[0.  , 0.  , 0.  , 0.  , 0.  , 0.27, 0.  , 0.16, 0.  , 0.28]],\n",
       "      dtype=float32)"
      ]
     },
     "execution_count": 149,
     "metadata": {},
     "output_type": "execute_result"
    }
   ],
   "source": [
    "# 확률 추정의 분포 확인\n",
    "\n",
    "np.round(y_std[:1], 2)"
   ]
  },
  {
   "cell_type": "code",
   "execution_count": 151,
   "metadata": {},
   "outputs": [],
   "source": [
    "# 모델에 배치 정규화(BatchNormalization)이 포함되어 있다면 훈련 모드를 바꾸면 안되고 다음 클래스 사용\n",
    "\n",
    "class MCDropout(keras.layers.Dropout):\n",
    "    def call(self, inputs):\n",
    "        return super().call(inputs, training=True)\n",
    "\n",
    "class MCAlphaDropout(keras.layers.AlphaDropout):\n",
    "    def call(self, inputs):\n",
    "        return super().call(inputs, training=True)"
   ]
  },
  {
   "cell_type": "code",
   "execution_count": null,
   "metadata": {},
   "outputs": [],
   "source": [
    "#기존 모델에서 AlphaDropout -> MCAlphaDropout으로 교체\n",
    "\n",
    "tf.random.set_seed(42)\n",
    "np.random.seed(42)"
   ]
  },
  {
   "cell_type": "code",
   "execution_count": 152,
   "metadata": {},
   "outputs": [],
   "source": [
    "mc_model = keras.models.Sequential([\n",
    "    MCAlphaDropout(layer.rate) if isinstance(layer, keras.layers.AlphaDropout) else layer\n",
    "    for layer in model.layers\n",
    "])"
   ]
  },
  {
   "cell_type": "code",
   "execution_count": 153,
   "metadata": {
    "scrolled": false
   },
   "outputs": [
    {
     "name": "stdout",
     "output_type": "stream",
     "text": [
      "Model: \"sequential_28\"\n",
      "_________________________________________________________________\n",
      "Layer (type)                 Output Shape              Param #   \n",
      "=================================================================\n",
      "flatten_16 (Flatten)         (None, 784)               0         \n",
      "_________________________________________________________________\n",
      "mc_alpha_dropout (MCAlphaDro (None, 784)               0         \n",
      "_________________________________________________________________\n",
      "dense_163 (Dense)            (None, 300)               235500    \n",
      "_________________________________________________________________\n",
      "mc_alpha_dropout_1 (MCAlphaD (None, 300)               0         \n",
      "_________________________________________________________________\n",
      "dense_164 (Dense)            (None, 100)               30100     \n",
      "_________________________________________________________________\n",
      "mc_alpha_dropout_2 (MCAlphaD (None, 100)               0         \n",
      "_________________________________________________________________\n",
      "dense_165 (Dense)            (None, 10)                1010      \n",
      "=================================================================\n",
      "Total params: 266,610\n",
      "Trainable params: 266,610\n",
      "Non-trainable params: 0\n",
      "_________________________________________________________________\n"
     ]
    }
   ],
   "source": [
    "mc_model.summary()"
   ]
  },
  {
   "cell_type": "code",
   "execution_count": 154,
   "metadata": {},
   "outputs": [],
   "source": [
    "optimizer = keras.optimizers.SGD(lr=0.01, momentum=0.9, nesterov=True)\n",
    "mc_model.compile(loss=\"sparse_categorical_crossentropy\", optimizer=optimizer, metrics=[\"accuracy\"])"
   ]
  },
  {
   "cell_type": "code",
   "execution_count": 155,
   "metadata": {},
   "outputs": [],
   "source": [
    "mc_model.set_weights(model.get_weights())"
   ]
  },
  {
   "cell_type": "code",
   "execution_count": 156,
   "metadata": {},
   "outputs": [
    {
     "data": {
      "text/plain": [
       "array([[0.  , 0.  , 0.  , 0.  , 0.  , 0.3 , 0.  , 0.23, 0.  , 0.47]],\n",
       "      dtype=float32)"
      ]
     },
     "execution_count": 156,
     "metadata": {},
     "output_type": "execute_result"
    }
   ],
   "source": [
    "np.round(np.mean([mc_model.predict(X_test_scaled[:1]) for sample in range(100)], axis=0), 2)"
   ]
  },
  {
   "attachments": {
    "%EA%B8%B0%EB%B3%B8DNN%EC%84%A4%EC%A0%95.PNG": {
     "image/png": "[encoded data removed]"
    },
    "%EC%9E%90%EA%B8%B0%EC%A0%95%EA%B7%9C%ED%99%94%EB%A5%BC%EC%9C%84%ED%95%9CDNN%EC%84%A4%EC%A0%95.PNG": {
     "image/png": "[encoded data removed]"
    }
   },
   "cell_type": "markdown",
   "metadata": {},
   "source": [
    "### 대부분의 경우에 적용가능한 DNN 설정\n",
    "\n",
    "![%EA%B8%B0%EB%B3%B8DNN%EC%84%A4%EC%A0%95.PNG](attachment:%EA%B8%B0%EB%B3%B8DNN%EC%84%A4%EC%A0%95.PNG)\n",
    "\n",
    "![%EC%9E%90%EA%B8%B0%EC%A0%95%EA%B7%9C%ED%99%94%EB%A5%BC%EC%9C%84%ED%95%9CDNN%EC%84%A4%EC%A0%95.PNG](attachment:%EC%9E%90%EA%B8%B0%EC%A0%95%EA%B7%9C%ED%99%94%EB%A5%BC%EC%9C%84%ED%95%9CDNN%EC%84%A4%EC%A0%95.PNG)"
   ]
  },
  {
   "attachments": {
    "11%EC%97%B0%EC%8A%B5%EB%AC%B8%EC%A0%9C1.PNG": {
     "image/png": "[encoded data removed]"
    },
    "11%EC%97%B0%EC%8A%B5%EB%AC%B8%EC%A0%9C2.PNG": {
     "image/png": "[encoded data removed]"
    }
   },
   "cell_type": "markdown",
   "metadata": {},
   "source": [
    "![11%EC%97%B0%EC%8A%B5%EB%AC%B8%EC%A0%9C1.PNG](attachment:11%EC%97%B0%EC%8A%B5%EB%AC%B8%EC%A0%9C1.PNG)\n",
    "![11%EC%97%B0%EC%8A%B5%EB%AC%B8%EC%A0%9C2.PNG](attachment:11%EC%97%B0%EC%8A%B5%EB%AC%B8%EC%A0%9C2.PNG)"
   ]
  },
  {
   "cell_type": "markdown",
   "metadata": {},
   "source": [
    "1. No. 모든 가중치는 독립적으로 샘플링 되어야 한다. 무작위로 샘플링해서 대칭성을 피하기 위함.\n",
    "\n",
    "\n",
    "2. 상관 없음. 초기화 방법에는 차이가 없음.\n",
    "\n",
    "\n",
    "3. 음수를 받을 수 있으므로 뉴런의 평균 출력이 ReLU보다 0에 더 가까움. 그래디언트 소실 문제 완화  \n",
    "   도함수의 값이 항상 0이 아니라서 죽은 뉴런 현상 없음  \n",
    "   모델이 자기 정규화 되어 그래디언트 폭주, 소실 문제 해결 가능\n",
    "   \n",
    "   \n",
    "4. SELU가 기본 값으로 좋음.  \n",
    "   가능한 빠른 신경망의 경우 LeakyReLU  \n",
    "   ReLU는 간단하기 때문에 많이 선호  \n",
    "   하이퍼볼릭 탄젠트(tanh)는 -1 ~ 1사이의 값이 가지는 출력층에 사용  \n",
    "   로지스틱(시그모이드)는 확률 추정시(ex: 이진 분류) - 출력층\n",
    "   소프트맥스는 상호 배타적인 클래스에 대한 확률 출력 - 출력층\n",
    "   \n",
    "   \n",
    "5. 최소값을 지나쳤다가 돌아오는 것의 반복, 작은 값을 사용했을 때 보다 수렴하는데 훨씬 오래 걸림\n",
    "\n",
    "\n",
    "6. l1 규제 사용  \n",
    "   모델 훈련 후 작은 가중치를 0으로 만들기  \n",
    "   텐서플로우 모델 최적화 도구 사용\n",
    "   \n",
    "   \n",
    "7. 훈련 속도를 느리게 만듬.(대략 두배 정도)  \n",
    "   예측 속도에는 영향 없음  \n",
    "   MC드롭아웃의 경우 훈련 속도는 같음  \n",
    "   예측시 속도가 느려짐(10배 이상 예측 수행하여 평균을 내므로)"
   ]
  },
  {
   "attachments": {
    "11%EC%97%B0%EC%8A%B5%EB%AC%B8%EC%A0%9C3.PNG": {
     "image/png": "[encoded data removed]"
    }
   },
   "cell_type": "markdown",
   "metadata": {},
   "source": [
    "![11%EC%97%B0%EC%8A%B5%EB%AC%B8%EC%A0%9C3.PNG](attachment:11%EC%97%B0%EC%8A%B5%EB%AC%B8%EC%A0%9C3.PNG)"
   ]
  },
  {
   "cell_type": "code",
   "execution_count": 158,
   "metadata": {},
   "outputs": [],
   "source": [
    "# 연습문제 8 - CIFAR10 이미지 데이터셋에 심층 신경망 훈련\n",
    "keras.backend.clear_session()\n",
    "tf.random.set_seed(42)\n",
    "np.random.seed(42)\n",
    "n_hidden = 20\n",
    "\n",
    "model = keras.models.Sequential([\n",
    "    keras.layers.Flatten(input_shape=[32, 32, 3])\n",
    "])\n",
    "\n",
    "for _ in range(n_hidden):\n",
    "    model.add(\n",
    "        keras.layers.Dense(            \n",
    "            100, \n",
    "            activation=\"elu\", \n",
    "            kernel_initializer=\"he_normal\"))"
   ]
  },
  {
   "cell_type": "code",
   "execution_count": 159,
   "metadata": {},
   "outputs": [],
   "source": [
    "# 출력층 추가\n",
    "\n",
    "model.add(keras.layers.Dense(10, activation=\"softmax\"))"
   ]
  },
  {
   "cell_type": "code",
   "execution_count": 160,
   "metadata": {},
   "outputs": [],
   "source": [
    "#학습률 5e-5인 Nadam 옵티바이저 사용\n",
    "#학습률은 1e-5, 3e-5, 5e-5, 1e-4, 3e-4, 5e-4, 1e-3, 3e-3 중에 에포크 20 후에 검증 세트 성능이 제일 좋은 걸 선택\n",
    "optimizer = keras.optimizers.Nadam(learning_rate=5e-5) \n",
    "model.compile(loss=\"sparse_categorical_crossentropy\",\n",
    "             optimizer=optimizer,\n",
    "              metrics=[\"accuracy\"])"
   ]
  },
  {
   "cell_type": "code",
   "execution_count": 2,
   "metadata": {},
   "outputs": [],
   "source": [
    "#데이터 셋 로드 및 검증 세트 분리\n",
    "(X_train_full, y_train_full), (X_test, y_test) = keras.datasets.cifar10.load_data()\n",
    "\n",
    "X_train = X_train_full[5000:]\n",
    "y_train = y_train_full[5000:]\n",
    "X_valid = X_train_full[:5000]\n",
    "y_valid = y_train_full[:5000]"
   ]
  },
  {
   "cell_type": "code",
   "execution_count": 162,
   "metadata": {},
   "outputs": [
    {
     "data": {
      "text/plain": [
       "((45000, 32, 32, 3),\n",
       " array([[[ 60,  82,  54],\n",
       "         [ 40,  68,  36],\n",
       "         [ 52,  81,  52],\n",
       "         ...,\n",
       "         [ 53,  43,  50],\n",
       "         [ 66,  55,  61],\n",
       "         [ 73,  62,  68]],\n",
       " \n",
       "        [[112, 114, 114],\n",
       "         [ 58,  71,  56],\n",
       "         [ 58,  81,  53],\n",
       "         ...,\n",
       "         [ 54,  47,  53],\n",
       "         [ 67,  58,  65],\n",
       "         [ 72,  62,  69]],\n",
       " \n",
       "        [[170, 161, 178],\n",
       "         [119, 118, 120],\n",
       "         [ 80,  89,  74],\n",
       "         ...,\n",
       "         [ 56,  50,  56],\n",
       "         [ 70,  63,  70],\n",
       "         [ 72,  64,  71]],\n",
       " \n",
       "        ...,\n",
       " \n",
       "        [[ 91, 113,  94],\n",
       "         [ 59,  83,  62],\n",
       "         [ 45,  65,  45],\n",
       "         ...,\n",
       "         [ 32,  56,  30],\n",
       "         [ 26,  46,  26],\n",
       "         [ 25,  42,  23]],\n",
       " \n",
       "        [[ 99, 119, 102],\n",
       "         [ 64,  86,  67],\n",
       "         [ 55,  75,  55],\n",
       "         ...,\n",
       "         [ 42,  71,  39],\n",
       "         [ 42,  68,  37],\n",
       "         [ 40,  64,  32]],\n",
       " \n",
       "        [[105, 122, 108],\n",
       "         [ 70,  92,  74],\n",
       "         [ 59,  79,  60],\n",
       "         ...,\n",
       "         [ 43,  66,  40],\n",
       "         [ 46,  70,  42],\n",
       "         [ 45,  71,  40]]], dtype=uint8))"
      ]
     },
     "execution_count": 162,
     "metadata": {},
     "output_type": "execute_result"
    }
   ],
   "source": [
    "X_train.shape, X_train[0]"
   ]
  },
  {
   "cell_type": "code",
   "execution_count": 163,
   "metadata": {},
   "outputs": [],
   "source": [
    "early_stopping_cb = keras.callbacks.EarlyStopping(patience=20)\n",
    "model_checkpoint_cb = keras.callbacks.ModelCheckpoint(\"my_cifar10_model.h5\", save_best_only=True)\n",
    "run_index = 1 #모델 훈련때 마다 증가시킴\n",
    "run_logdir = os.path.join(os.curdir, \"my_cifar10_logs\", \"run_{:03d}\".format(run_index))\n",
    "tensorboard_cb = keras.callbacks.TensorBoard(run_logdir)\n",
    "callbacks = [\n",
    "    early_stopping_cb,\n",
    "    model_checkpoint_cb,\n",
    "    tensorboard_cb\n",
    "]"
   ]
  },
  {
   "cell_type": "code",
   "execution_count": 165,
   "metadata": {},
   "outputs": [
    {
     "data": {
      "text/plain": [
       "Reusing TensorBoard on port 6006 (pid 2260), started 0:00:45 ago. (Use '!kill 2260' to kill it.)"
      ]
     },
     "metadata": {},
     "output_type": "display_data"
    },
    {
     "data": {
      "text/html": [
       "\n",
       "      <iframe id=\"tensorboard-frame-bd9afeb30217ec15\" width=\"100%\" height=\"800\" frameborder=\"0\">\n",
       "      </iframe>\n",
       "      <script>\n",
       "        (function() {\n",
       "          const frame = document.getElementById(\"tensorboard-frame-bd9afeb30217ec15\");\n",
       "          const url = new URL(\"/\", window.location);\n",
       "          url.port = 6006;\n",
       "          frame.src = url;\n",
       "        })();\n",
       "      </script>\n",
       "  "
      ],
      "text/plain": [
       "<IPython.core.display.HTML object>"
      ]
     },
     "metadata": {},
     "output_type": "display_data"
    }
   ],
   "source": [
    "%tensorboard --logdir=./my_cifar10_logs --port=6006"
   ]
  },
  {
   "cell_type": "code",
   "execution_count": 166,
   "metadata": {
    "scrolled": true
   },
   "outputs": [
    {
     "name": "stdout",
     "output_type": "stream",
     "text": [
      "Epoch 1/100\n",
      "1407/1407 [==============================] - 9s 7ms/step - loss: 4.0646 - accuracy: 0.1702 - val_loss: 2.1317 - val_accuracy: 0.2358\n",
      "Epoch 2/100\n",
      "1407/1407 [==============================] - 9s 6ms/step - loss: 2.0443 - accuracy: 0.2549 - val_loss: 2.0609 - val_accuracy: 0.2504\n",
      "Epoch 3/100\n",
      "1407/1407 [==============================] - 9s 6ms/step - loss: 1.9230 - accuracy: 0.2960 - val_loss: 1.9954 - val_accuracy: 0.2706\n",
      "Epoch 4/100\n",
      "1407/1407 [==============================] - 9s 6ms/step - loss: 1.8407 - accuracy: 0.3274 - val_loss: 1.8433 - val_accuracy: 0.3388\n",
      "Epoch 5/100\n",
      "1407/1407 [==============================] - 9s 6ms/step - loss: 1.7839 - accuracy: 0.3468 - val_loss: 1.7957 - val_accuracy: 0.3438\n",
      "Epoch 6/100\n",
      "1407/1407 [==============================] - 9s 6ms/step - loss: 1.7375 - accuracy: 0.3709 - val_loss: 1.8352 - val_accuracy: 0.3418\n",
      "Epoch 7/100\n",
      "1407/1407 [==============================] - 9s 6ms/step - loss: 1.6966 - accuracy: 0.3828 - val_loss: 1.7427 - val_accuracy: 0.3654\n",
      "Epoch 8/100\n",
      "1407/1407 [==============================] - 9s 6ms/step - loss: 1.6638 - accuracy: 0.3975 - val_loss: 1.6768 - val_accuracy: 0.3960\n",
      "Epoch 9/100\n",
      "1407/1407 [==============================] - 9s 6ms/step - loss: 1.6340 - accuracy: 0.4073 - val_loss: 1.6467 - val_accuracy: 0.4044\n",
      "Epoch 10/100\n",
      "1407/1407 [==============================] - 9s 6ms/step - loss: 1.6099 - accuracy: 0.4186 - val_loss: 1.6611 - val_accuracy: 0.3910\n",
      "Epoch 11/100\n",
      "1407/1407 [==============================] - 9s 6ms/step - loss: 1.5848 - accuracy: 0.4262 - val_loss: 1.6566 - val_accuracy: 0.4064\n",
      "Epoch 12/100\n",
      "1407/1407 [==============================] - 9s 6ms/step - loss: 1.5614 - accuracy: 0.4376 - val_loss: 1.6832 - val_accuracy: 0.4058\n",
      "Epoch 13/100\n",
      "1407/1407 [==============================] - 9s 6ms/step - loss: 1.5407 - accuracy: 0.4456 - val_loss: 1.6008 - val_accuracy: 0.4314\n",
      "Epoch 14/100\n",
      "1407/1407 [==============================] - 9s 6ms/step - loss: 1.5229 - accuracy: 0.4498 - val_loss: 1.5818 - val_accuracy: 0.4358\n",
      "Epoch 15/100\n",
      "1407/1407 [==============================] - 9s 6ms/step - loss: 1.5056 - accuracy: 0.4551 - val_loss: 1.5803 - val_accuracy: 0.4334\n",
      "Epoch 16/100\n",
      "1407/1407 [==============================] - 9s 6ms/step - loss: 1.4872 - accuracy: 0.4646 - val_loss: 1.5684 - val_accuracy: 0.4394\n",
      "Epoch 17/100\n",
      "1407/1407 [==============================] - 9s 6ms/step - loss: 1.4749 - accuracy: 0.4700 - val_loss: 1.6029 - val_accuracy: 0.4260\n",
      "Epoch 18/100\n",
      "1407/1407 [==============================] - 9s 6ms/step - loss: 1.4562 - accuracy: 0.4748 - val_loss: 1.5617 - val_accuracy: 0.4448\n",
      "Epoch 19/100\n",
      "1407/1407 [==============================] - 9s 6ms/step - loss: 1.4456 - accuracy: 0.4776 - val_loss: 1.5482 - val_accuracy: 0.4494\n",
      "Epoch 20/100\n",
      "1407/1407 [==============================] - 9s 6ms/step - loss: 1.4380 - accuracy: 0.4800 - val_loss: 1.6002 - val_accuracy: 0.4240\n",
      "Epoch 21/100\n",
      "1407/1407 [==============================] - 9s 6ms/step - loss: 1.4208 - accuracy: 0.4870 - val_loss: 1.5779 - val_accuracy: 0.4344\n",
      "Epoch 22/100\n",
      "1407/1407 [==============================] - 9s 6ms/step - loss: 1.4093 - accuracy: 0.4914 - val_loss: 1.5460 - val_accuracy: 0.4514\n",
      "Epoch 23/100\n",
      "1407/1407 [==============================] - 9s 6ms/step - loss: 1.3998 - accuracy: 0.4993 - val_loss: 1.5771 - val_accuracy: 0.4404\n",
      "Epoch 24/100\n",
      "1407/1407 [==============================] - 9s 6ms/step - loss: 1.3865 - accuracy: 0.5004 - val_loss: 1.5460 - val_accuracy: 0.4536\n",
      "Epoch 25/100\n",
      "1407/1407 [==============================] - 9s 6ms/step - loss: 1.3746 - accuracy: 0.5036 - val_loss: 1.5139 - val_accuracy: 0.4704\n",
      "Epoch 26/100\n",
      "1407/1407 [==============================] - 9s 6ms/step - loss: 1.3649 - accuracy: 0.5059 - val_loss: 1.5493 - val_accuracy: 0.4586\n",
      "Epoch 27/100\n",
      "1407/1407 [==============================] - 9s 6ms/step - loss: 1.3547 - accuracy: 0.5111 - val_loss: 1.5056 - val_accuracy: 0.4678\n",
      "Epoch 28/100\n",
      "1407/1407 [==============================] - 9s 6ms/step - loss: 1.3464 - accuracy: 0.5139 - val_loss: 1.5730 - val_accuracy: 0.4520\n",
      "Epoch 29/100\n",
      "1407/1407 [==============================] - 9s 6ms/step - loss: 1.3365 - accuracy: 0.5196 - val_loss: 1.5024 - val_accuracy: 0.4774\n",
      "Epoch 30/100\n",
      "1407/1407 [==============================] - 9s 6ms/step - loss: 1.3263 - accuracy: 0.5204 - val_loss: 1.5477 - val_accuracy: 0.4714\n",
      "Epoch 31/100\n",
      "1407/1407 [==============================] - 9s 6ms/step - loss: 1.3188 - accuracy: 0.5246 - val_loss: 1.5844 - val_accuracy: 0.4388\n",
      "Epoch 32/100\n",
      "1407/1407 [==============================] - 9s 6ms/step - loss: 1.3096 - accuracy: 0.5289 - val_loss: 1.5269 - val_accuracy: 0.4666\n",
      "Epoch 33/100\n",
      "1407/1407 [==============================] - 9s 7ms/step - loss: 1.3020 - accuracy: 0.5296 - val_loss: 1.5284 - val_accuracy: 0.4752\n",
      "Epoch 34/100\n",
      "1407/1407 [==============================] - 9s 6ms/step - loss: 1.2919 - accuracy: 0.5362 - val_loss: 1.5421 - val_accuracy: 0.4718\n",
      "Epoch 35/100\n",
      "1407/1407 [==============================] - 9s 6ms/step - loss: 1.2854 - accuracy: 0.5347 - val_loss: 1.5501 - val_accuracy: 0.4672\n",
      "Epoch 36/100\n",
      "1407/1407 [==============================] - 9s 6ms/step - loss: 1.2791 - accuracy: 0.5389 - val_loss: 1.4950 - val_accuracy: 0.4806\n",
      "Epoch 37/100\n",
      "1407/1407 [==============================] - 9s 6ms/step - loss: 1.2679 - accuracy: 0.5417 - val_loss: 1.5052 - val_accuracy: 0.4848\n",
      "Epoch 38/100\n",
      "1407/1407 [==============================] - 9s 6ms/step - loss: 1.2602 - accuracy: 0.5467 - val_loss: 1.5249 - val_accuracy: 0.4758\n",
      "Epoch 39/100\n",
      "1407/1407 [==============================] - 9s 6ms/step - loss: 1.2558 - accuracy: 0.5476 - val_loss: 1.5538 - val_accuracy: 0.4626\n",
      "Epoch 40/100\n",
      "1407/1407 [==============================] - 9s 6ms/step - loss: 1.2464 - accuracy: 0.5505 - val_loss: 1.5250 - val_accuracy: 0.4722\n",
      "Epoch 41/100\n",
      "1407/1407 [==============================] - 9s 6ms/step - loss: 1.2411 - accuracy: 0.5530 - val_loss: 1.5368 - val_accuracy: 0.4694\n",
      "Epoch 42/100\n",
      "1407/1407 [==============================] - 9s 6ms/step - loss: 1.2313 - accuracy: 0.5540 - val_loss: 1.5266 - val_accuracy: 0.4746\n",
      "Epoch 43/100\n",
      "1407/1407 [==============================] - 9s 6ms/step - loss: 1.2244 - accuracy: 0.5586 - val_loss: 1.5504 - val_accuracy: 0.4640\n",
      "Epoch 44/100\n",
      "1407/1407 [==============================] - 9s 6ms/step - loss: 1.2172 - accuracy: 0.5611 - val_loss: 1.5518 - val_accuracy: 0.4632\n",
      "Epoch 45/100\n",
      "1407/1407 [==============================] - 9s 6ms/step - loss: 1.2112 - accuracy: 0.5616 - val_loss: 1.5628 - val_accuracy: 0.4778\n",
      "Epoch 46/100\n",
      "1407/1407 [==============================] - 9s 7ms/step - loss: 1.2030 - accuracy: 0.5678 - val_loss: 1.5106 - val_accuracy: 0.4864\n",
      "Epoch 47/100\n",
      "1407/1407 [==============================] - 9s 6ms/step - loss: 1.1957 - accuracy: 0.5678 - val_loss: 1.5453 - val_accuracy: 0.4824\n",
      "Epoch 48/100\n",
      "1407/1407 [==============================] - 9s 6ms/step - loss: 1.1874 - accuracy: 0.5717 - val_loss: 1.5454 - val_accuracy: 0.4770\n",
      "Epoch 49/100\n",
      "1407/1407 [==============================] - 9s 6ms/step - loss: 1.1783 - accuracy: 0.5766 - val_loss: 1.5294 - val_accuracy: 0.4794\n",
      "Epoch 50/100\n",
      "1407/1407 [==============================] - 9s 6ms/step - loss: 1.1735 - accuracy: 0.5762 - val_loss: 1.5587 - val_accuracy: 0.4848\n",
      "Epoch 51/100\n",
      "1407/1407 [==============================] - 9s 6ms/step - loss: 1.1689 - accuracy: 0.5784 - val_loss: 1.5355 - val_accuracy: 0.4848\n",
      "Epoch 52/100\n",
      "1407/1407 [==============================] - 9s 6ms/step - loss: 1.1601 - accuracy: 0.5825 - val_loss: 1.5678 - val_accuracy: 0.4784\n",
      "Epoch 53/100\n",
      "1407/1407 [==============================] - 9s 6ms/step - loss: 1.1515 - accuracy: 0.5841 - val_loss: 1.5895 - val_accuracy: 0.4694\n",
      "Epoch 54/100\n",
      "1407/1407 [==============================] - 9s 6ms/step - loss: 1.1474 - accuracy: 0.5832 - val_loss: 1.6177 - val_accuracy: 0.4650\n",
      "Epoch 55/100\n",
      "1407/1407 [==============================] - 9s 7ms/step - loss: 1.1395 - accuracy: 0.5902 - val_loss: 1.5664 - val_accuracy: 0.4804\n",
      "Epoch 56/100\n",
      "1407/1407 [==============================] - 9s 6ms/step - loss: 1.1319 - accuracy: 0.5934 - val_loss: 1.5610 - val_accuracy: 0.4804\n"
     ]
    },
    {
     "data": {
      "text/plain": [
       "<tensorflow.python.keras.callbacks.History at 0x1f0de2d47f0>"
      ]
     },
     "execution_count": 166,
     "metadata": {},
     "output_type": "execute_result"
    }
   ],
   "source": [
    "model.fit(X_train, y_train, epochs=100,\n",
    "          validation_data=(X_valid, y_valid),\n",
    "          callbacks=callbacks)"
   ]
  },
  {
   "cell_type": "code",
   "execution_count": 167,
   "metadata": {},
   "outputs": [
    {
     "name": "stdout",
     "output_type": "stream",
     "text": [
      "Epoch 1/100\n",
      "   2/1407 [..............................] - ETA: 1:26:10 - loss: 2.8693 - accuracy: 0.1094WARNING:tensorflow:Method (on_train_batch_end) is slow compared to the batch update (3.679996). Check your callbacks.\n",
      "1407/1407 [==============================] - 24s 17ms/step - loss: 1.8439 - accuracy: 0.3407 - val_loss: 1.6815 - val_accuracy: 0.4038\n",
      "Epoch 2/100\n",
      "1407/1407 [==============================] - 16s 11ms/step - loss: 1.6706 - accuracy: 0.4040 - val_loss: 1.5858 - val_accuracy: 0.4322\n",
      "Epoch 3/100\n",
      "1407/1407 [==============================] - 16s 11ms/step - loss: 1.6050 - accuracy: 0.4288 - val_loss: 1.5552 - val_accuracy: 0.4422\n",
      "Epoch 4/100\n",
      "1407/1407 [==============================] - 16s 12ms/step - loss: 1.5541 - accuracy: 0.4462 - val_loss: 1.5626 - val_accuracy: 0.4470\n",
      "Epoch 5/100\n",
      "1407/1407 [==============================] - 15s 11ms/step - loss: 1.5099 - accuracy: 0.4641 - val_loss: 1.4501 - val_accuracy: 0.4770\n",
      "Epoch 6/100\n",
      "1407/1407 [==============================] - 16s 11ms/step - loss: 1.4711 - accuracy: 0.4777 - val_loss: 1.4182 - val_accuracy: 0.4886\n",
      "Epoch 7/100\n",
      "1407/1407 [==============================] - 17s 12ms/step - loss: 1.4385 - accuracy: 0.4878 - val_loss: 1.3961 - val_accuracy: 0.5022\n",
      "Epoch 8/100\n",
      "1407/1407 [==============================] - 16s 11ms/step - loss: 1.4067 - accuracy: 0.5010 - val_loss: 1.3766 - val_accuracy: 0.5130\n",
      "Epoch 9/100\n",
      "1407/1407 [==============================] - 16s 11ms/step - loss: 1.3840 - accuracy: 0.5130 - val_loss: 1.3634 - val_accuracy: 0.5126\n",
      "Epoch 10/100\n",
      "1407/1407 [==============================] - 16s 11ms/step - loss: 1.3636 - accuracy: 0.5182 - val_loss: 1.3506 - val_accuracy: 0.5238\n",
      "Epoch 11/100\n",
      "1407/1407 [==============================] - 16s 11ms/step - loss: 1.3452 - accuracy: 0.5228 - val_loss: 1.3469 - val_accuracy: 0.5124\n",
      "Epoch 12/100\n",
      "1407/1407 [==============================] - 16s 11ms/step - loss: 1.3208 - accuracy: 0.5333 - val_loss: 1.3822 - val_accuracy: 0.5018\n",
      "Epoch 13/100\n",
      "1407/1407 [==============================] - 16s 11ms/step - loss: 1.3031 - accuracy: 0.5392 - val_loss: 1.3476 - val_accuracy: 0.5200\n",
      "Epoch 14/100\n",
      "1407/1407 [==============================] - 16s 11ms/step - loss: 1.2810 - accuracy: 0.5454 - val_loss: 1.3577 - val_accuracy: 0.5258\n",
      "Epoch 15/100\n",
      "1407/1407 [==============================] - 15s 11ms/step - loss: 1.2646 - accuracy: 0.5525 - val_loss: 1.3880 - val_accuracy: 0.5104\n",
      "Epoch 16/100\n",
      "1407/1407 [==============================] - 15s 11ms/step - loss: 1.2525 - accuracy: 0.5556 - val_loss: 1.3541 - val_accuracy: 0.5248\n",
      "Epoch 17/100\n",
      "1407/1407 [==============================] - 16s 11ms/step - loss: 1.2365 - accuracy: 0.5607 - val_loss: 1.3287 - val_accuracy: 0.5312\n",
      "Epoch 18/100\n",
      "1407/1407 [==============================] - 15s 11ms/step - loss: 1.2185 - accuracy: 0.5674 - val_loss: 1.3512 - val_accuracy: 0.5240\n",
      "Epoch 19/100\n",
      "1407/1407 [==============================] - 16s 11ms/step - loss: 1.2042 - accuracy: 0.5773 - val_loss: 1.3427 - val_accuracy: 0.5298\n",
      "Epoch 20/100\n",
      "1407/1407 [==============================] - 15s 11ms/step - loss: 1.1945 - accuracy: 0.5785 - val_loss: 1.3995 - val_accuracy: 0.5124\n",
      "Epoch 21/100\n",
      "1407/1407 [==============================] - 16s 11ms/step - loss: 1.1800 - accuracy: 0.5804 - val_loss: 1.3571 - val_accuracy: 0.5214\n",
      "Epoch 22/100\n",
      "1407/1407 [==============================] - 16s 11ms/step - loss: 1.1598 - accuracy: 0.5912 - val_loss: 1.3599 - val_accuracy: 0.5270\n",
      "Epoch 23/100\n",
      "1407/1407 [==============================] - 17s 12ms/step - loss: 1.1503 - accuracy: 0.5950 - val_loss: 1.3254 - val_accuracy: 0.5384\n",
      "Epoch 24/100\n",
      "1407/1407 [==============================] - 16s 11ms/step - loss: 1.1371 - accuracy: 0.5996 - val_loss: 1.3192 - val_accuracy: 0.5384\n",
      "Epoch 25/100\n",
      "1407/1407 [==============================] - 16s 11ms/step - loss: 1.1259 - accuracy: 0.6041 - val_loss: 1.3413 - val_accuracy: 0.5350\n",
      "Epoch 26/100\n",
      "1407/1407 [==============================] - 16s 11ms/step - loss: 1.1139 - accuracy: 0.6050 - val_loss: 1.3399 - val_accuracy: 0.5324\n",
      "Epoch 27/100\n",
      "1407/1407 [==============================] - 16s 11ms/step - loss: 1.1018 - accuracy: 0.6099 - val_loss: 1.3456 - val_accuracy: 0.5324\n",
      "Epoch 28/100\n",
      "1407/1407 [==============================] - 16s 11ms/step - loss: 1.0973 - accuracy: 0.6144 - val_loss: 1.3522 - val_accuracy: 0.5266\n",
      "Epoch 29/100\n",
      "1407/1407 [==============================] - 16s 11ms/step - loss: 1.0810 - accuracy: 0.6186 - val_loss: 1.3335 - val_accuracy: 0.5360\n",
      "Epoch 30/100\n",
      "1407/1407 [==============================] - 16s 11ms/step - loss: 1.0729 - accuracy: 0.6191 - val_loss: 1.3528 - val_accuracy: 0.5304\n",
      "Epoch 31/100\n",
      "1407/1407 [==============================] - 16s 11ms/step - loss: 1.0629 - accuracy: 0.6241 - val_loss: 1.3560 - val_accuracy: 0.5356\n",
      "Epoch 32/100\n",
      "1407/1407 [==============================] - 16s 11ms/step - loss: 1.0513 - accuracy: 0.6263 - val_loss: 1.3648 - val_accuracy: 0.5398\n",
      "Epoch 33/100\n",
      "1407/1407 [==============================] - 16s 12ms/step - loss: 1.0372 - accuracy: 0.6333 - val_loss: 1.3478 - val_accuracy: 0.5480\n",
      "Epoch 34/100\n",
      "1407/1407 [==============================] - 16s 12ms/step - loss: 1.0312 - accuracy: 0.6362 - val_loss: 1.3612 - val_accuracy: 0.5340\n",
      "Epoch 35/100\n",
      "1407/1407 [==============================] - 16s 12ms/step - loss: 1.0191 - accuracy: 0.6412 - val_loss: 1.3464 - val_accuracy: 0.5406\n",
      "Epoch 36/100\n",
      "1407/1407 [==============================] - 17s 12ms/step - loss: 1.0118 - accuracy: 0.6444 - val_loss: 1.3438 - val_accuracy: 0.5424\n",
      "Epoch 37/100\n",
      "1407/1407 [==============================] - 15s 11ms/step - loss: 0.9968 - accuracy: 0.6503 - val_loss: 1.3560 - val_accuracy: 0.5352\n",
      "Epoch 38/100\n",
      "1407/1407 [==============================] - 16s 11ms/step - loss: 0.9903 - accuracy: 0.6499 - val_loss: 1.3642 - val_accuracy: 0.5382\n",
      "Epoch 39/100\n",
      "1407/1407 [==============================] - 16s 11ms/step - loss: 0.9821 - accuracy: 0.6538 - val_loss: 1.3860 - val_accuracy: 0.5316\n",
      "Epoch 40/100\n",
      "1407/1407 [==============================] - 16s 11ms/step - loss: 0.9703 - accuracy: 0.6562 - val_loss: 1.3947 - val_accuracy: 0.5380\n",
      "Epoch 41/100\n",
      "1407/1407 [==============================] - 16s 11ms/step - loss: 0.9653 - accuracy: 0.6580 - val_loss: 1.3813 - val_accuracy: 0.5396\n",
      "Epoch 42/100\n",
      "1407/1407 [==============================] - 16s 11ms/step - loss: 0.9560 - accuracy: 0.6614 - val_loss: 1.3825 - val_accuracy: 0.5372\n",
      "Epoch 43/100\n",
      "1407/1407 [==============================] - 16s 12ms/step - loss: 0.9489 - accuracy: 0.6633 - val_loss: 1.3757 - val_accuracy: 0.5396\n",
      "Epoch 44/100\n",
      "1407/1407 [==============================] - 16s 11ms/step - loss: 0.9428 - accuracy: 0.6674 - val_loss: 1.4013 - val_accuracy: 0.5318\n",
      "157/157 [==============================] - 0s 3ms/step - loss: 1.3192 - accuracy: 0.5384\n"
     ]
    },
    {
     "data": {
      "text/plain": [
       "[1.3191810846328735, 0.5383999943733215]"
      ]
     },
     "execution_count": 167,
     "metadata": {},
     "output_type": "execute_result"
    }
   ],
   "source": [
    "#배치 정규화 추가\n",
    "\n",
    "keras.backend.clear_session()\n",
    "tf.random.set_seed(42)\n",
    "np.random.seed(42)\n",
    "\n",
    "model = keras.models.Sequential()\n",
    "model.add(keras.layers.Flatten(input_shape=[32, 32, 3]))\n",
    "model.add(keras.layers.BatchNormalization())\n",
    "for _ in range(20):\n",
    "    model.add(keras.layers.Dense(100, kernel_initializer=\"he_normal\"))\n",
    "    model.add(keras.layers.BatchNormalization())\n",
    "    model.add(keras.layers.Activation(\"elu\"))\n",
    "model.add(keras.layers.Dense(10, activation=\"softmax\"))\n",
    "\n",
    "#학습률은 1e-5, 3e-5, 5e-5, 1e-4, 3e-4, 5e-4, 1e-3, 3e-3 중에 에포크 20 후에 검증 세트 성능이 제일 좋은 걸 선택\n",
    "optimizer = keras.optimizers.Nadam(lr=5e-4)\n",
    "model.compile(loss=\"sparse_categorical_crossentropy\",\n",
    "              optimizer=optimizer,\n",
    "              metrics=[\"accuracy\"])\n",
    "\n",
    "early_stopping_cb = keras.callbacks.EarlyStopping(patience=20)\n",
    "model_checkpoint_cb = keras.callbacks.ModelCheckpoint(\"my_cifar10_bn_model.h5\", save_best_only=True)\n",
    "run_index = 1 # 모델을 훈련할 때마다 증가시킴\n",
    "run_logdir = os.path.join(os.curdir, \"my_cifar10_logs\", \"run_bn_{:03d}\".format(run_index))\n",
    "tensorboard_cb = keras.callbacks.TensorBoard(run_logdir)\n",
    "callbacks = [early_stopping_cb, model_checkpoint_cb, tensorboard_cb]\n",
    "\n",
    "model.fit(X_train, y_train, epochs=100,\n",
    "          validation_data=(X_valid, y_valid),\n",
    "          callbacks=callbacks)\n",
    "\n",
    "model = keras.models.load_model(\"my_cifar10_bn_model.h5\")\n",
    "model.evaluate(X_valid, y_valid)"
   ]
  },
  {
   "cell_type": "markdown",
   "metadata": {},
   "source": [
    "에포크는 배치 정규화 사용 전보다 56 -> 44로 12에포크 줄었지만, 실행시간은 504초  -> 704초로 늘어남.... 이거 뭐여...-_-\n",
    "\n",
    "근데 정확도는 48% -> 53.2%로 많이 향상됨"
   ]
  },
  {
   "cell_type": "code",
   "execution_count": 168,
   "metadata": {},
   "outputs": [
    {
     "name": "stdout",
     "output_type": "stream",
     "text": [
      "Epoch 1/100\n",
      "   2/1407 [..............................] - ETA: 52:41 - loss: 3.0440 - accuracy: 0.1094WARNING:tensorflow:Method (on_train_batch_end) is slow compared to the batch update (2.253499). Check your callbacks.\n",
      "1407/1407 [==============================] - 13s 10ms/step - loss: 1.9358 - accuracy: 0.3049 - val_loss: 1.8237 - val_accuracy: 0.3426\n",
      "Epoch 2/100\n",
      "1407/1407 [==============================] - 9s 6ms/step - loss: 1.7137 - accuracy: 0.3865 - val_loss: 1.7676 - val_accuracy: 0.3502\n",
      "Epoch 3/100\n",
      "1407/1407 [==============================] - 9s 6ms/step - loss: 1.6199 - accuracy: 0.4270 - val_loss: 1.6484 - val_accuracy: 0.4198\n",
      "Epoch 4/100\n",
      "1407/1407 [==============================] - 9s 6ms/step - loss: 1.5521 - accuracy: 0.4493 - val_loss: 1.7624 - val_accuracy: 0.3920\n",
      "Epoch 5/100\n",
      "1407/1407 [==============================] - 9s 6ms/step - loss: 1.4962 - accuracy: 0.4746 - val_loss: 1.6000 - val_accuracy: 0.4374\n",
      "Epoch 6/100\n",
      "1407/1407 [==============================] - 9s 7ms/step - loss: 1.4479 - accuracy: 0.4912 - val_loss: 1.5106 - val_accuracy: 0.4676\n",
      "Epoch 7/100\n",
      "1407/1407 [==============================] - 9s 6ms/step - loss: 1.4042 - accuracy: 0.5091 - val_loss: 1.5580 - val_accuracy: 0.4518\n",
      "Epoch 8/100\n",
      "1407/1407 [==============================] - 9s 7ms/step - loss: 1.3741 - accuracy: 0.5183 - val_loss: 1.4873 - val_accuracy: 0.4814\n",
      "Epoch 9/100\n",
      "1407/1407 [==============================] - 9s 6ms/step - loss: 1.3331 - accuracy: 0.5350 - val_loss: 1.4757 - val_accuracy: 0.4764\n",
      "Epoch 10/100\n",
      "1407/1407 [==============================] - 9s 7ms/step - loss: 1.2965 - accuracy: 0.5473 - val_loss: 1.5340 - val_accuracy: 0.4764\n",
      "Epoch 11/100\n",
      "1407/1407 [==============================] - 9s 7ms/step - loss: 1.2668 - accuracy: 0.5602 - val_loss: 1.5584 - val_accuracy: 0.4760\n",
      "Epoch 12/100\n",
      "1407/1407 [==============================] - 9s 6ms/step - loss: 1.2419 - accuracy: 0.5723 - val_loss: 1.4881 - val_accuracy: 0.4926\n",
      "Epoch 13/100\n",
      "1407/1407 [==============================] - 9s 6ms/step - loss: 1.2085 - accuracy: 0.5776 - val_loss: 1.4990 - val_accuracy: 0.4980\n",
      "Epoch 14/100\n",
      "1407/1407 [==============================] - 9s 7ms/step - loss: 1.1829 - accuracy: 0.5914 - val_loss: 1.4730 - val_accuracy: 0.5024\n",
      "Epoch 15/100\n",
      "1407/1407 [==============================] - 9s 7ms/step - loss: 1.1626 - accuracy: 0.5962 - val_loss: 1.5981 - val_accuracy: 0.4836\n",
      "Epoch 16/100\n",
      "1407/1407 [==============================] - 9s 7ms/step - loss: 1.1400 - accuracy: 0.6075 - val_loss: 1.5309 - val_accuracy: 0.5038\n",
      "Epoch 17/100\n",
      "1407/1407 [==============================] - 9s 7ms/step - loss: 1.1153 - accuracy: 0.6131 - val_loss: 1.5618 - val_accuracy: 0.4914\n",
      "Epoch 18/100\n",
      "1407/1407 [==============================] - 9s 6ms/step - loss: 1.0932 - accuracy: 0.6242 - val_loss: 1.5044 - val_accuracy: 0.4962\n",
      "Epoch 19/100\n",
      "1407/1407 [==============================] - 9s 7ms/step - loss: 1.0814 - accuracy: 0.6282 - val_loss: 1.5721 - val_accuracy: 0.5080\n",
      "Epoch 20/100\n",
      "1407/1407 [==============================] - 9s 6ms/step - loss: 1.0459 - accuracy: 0.6423 - val_loss: 1.5749 - val_accuracy: 0.4980\n",
      "Epoch 21/100\n",
      "1407/1407 [==============================] - 9s 6ms/step - loss: 1.0337 - accuracy: 0.6439 - val_loss: 1.5783 - val_accuracy: 0.5034\n",
      "Epoch 22/100\n",
      "1407/1407 [==============================] - 9s 6ms/step - loss: 1.0110 - accuracy: 0.6515 - val_loss: 1.6197 - val_accuracy: 0.5050\n",
      "Epoch 23/100\n",
      "1407/1407 [==============================] - 9s 6ms/step - loss: 0.9930 - accuracy: 0.6598 - val_loss: 1.6261 - val_accuracy: 0.4954\n",
      "Epoch 24/100\n",
      "1407/1407 [==============================] - 9s 6ms/step - loss: 0.9736 - accuracy: 0.6661 - val_loss: 1.6208 - val_accuracy: 0.4942\n",
      "Epoch 25/100\n",
      "1407/1407 [==============================] - 9s 6ms/step - loss: 0.9555 - accuracy: 0.6725 - val_loss: 1.6523 - val_accuracy: 0.5016\n",
      "Epoch 26/100\n",
      "1407/1407 [==============================] - 9s 6ms/step - loss: 0.9406 - accuracy: 0.6788 - val_loss: 1.6134 - val_accuracy: 0.4920\n",
      "Epoch 27/100\n",
      "1407/1407 [==============================] - 9s 6ms/step - loss: 6.0313 - accuracy: 0.6530 - val_loss: 19.4155 - val_accuracy: 0.4704\n",
      "Epoch 28/100\n",
      "1407/1407 [==============================] - 9s 6ms/step - loss: 13.2577 - accuracy: 0.5801 - val_loss: 1.5378 - val_accuracy: 0.4828\n",
      "Epoch 29/100\n",
      "1407/1407 [==============================] - 9s 6ms/step - loss: 1.1054 - accuracy: 0.6146 - val_loss: 1.5707 - val_accuracy: 0.4852\n",
      "Epoch 30/100\n",
      "1407/1407 [==============================] - 9s 6ms/step - loss: 1.0616 - accuracy: 0.6294 - val_loss: 1.5583 - val_accuracy: 0.4908\n",
      "Epoch 31/100\n",
      "1407/1407 [==============================] - 9s 6ms/step - loss: 1.0325 - accuracy: 0.6407 - val_loss: 1.5680 - val_accuracy: 0.4918\n",
      "Epoch 32/100\n",
      "1407/1407 [==============================] - 9s 6ms/step - loss: 1.0027 - accuracy: 0.6522 - val_loss: 1.6138 - val_accuracy: 0.5032\n",
      "Epoch 33/100\n",
      "1407/1407 [==============================] - 9s 6ms/step - loss: 0.9827 - accuracy: 0.6579 - val_loss: 1.6040 - val_accuracy: 0.5076\n",
      "Epoch 34/100\n",
      "1407/1407 [==============================] - 9s 6ms/step - loss: 0.9563 - accuracy: 0.6689 - val_loss: 1.6176 - val_accuracy: 0.5068\n",
      "157/157 [==============================] - 0s 2ms/step - loss: 1.4730 - accuracy: 0.5024\n"
     ]
    },
    {
     "data": {
      "text/plain": [
       "[1.4730284214019775, 0.5023999810218811]"
      ]
     },
     "execution_count": 168,
     "metadata": {},
     "output_type": "execute_result"
    }
   ],
   "source": [
    "# 배치 정규화를 SELU로 바꿔서 수행\n",
    "\n",
    "keras.backend.clear_session()\n",
    "tf.random.set_seed(42)\n",
    "np.random.seed(42)\n",
    "\n",
    "model = keras.models.Sequential()\n",
    "model.add(keras.layers.Flatten(input_shape=[32, 32, 3]))\n",
    "for _ in range(20): #완전 연결층만 순차적으로 쌓은 심층신경망\n",
    "    model.add(keras.layers.Dense(100,\n",
    "                                 kernel_initializer=\"lecun_normal\", #르쿤 정규분포 초기화\n",
    "                                 activation=\"selu\"))\n",
    "model.add(keras.layers.Dense(10, activation=\"softmax\"))\n",
    "\n",
    "optimizer = keras.optimizers.Nadam(lr=7e-4)\n",
    "model.compile(loss=\"sparse_categorical_crossentropy\",\n",
    "              optimizer=optimizer,\n",
    "              metrics=[\"accuracy\"])\n",
    "\n",
    "early_stopping_cb = keras.callbacks.EarlyStopping(patience=20)\n",
    "model_checkpoint_cb = keras.callbacks.ModelCheckpoint(\"my_cifar10_selu_model.h5\", save_best_only=True)\n",
    "run_index = 1 # 모델을 훈련할 때마다 증가시킴\n",
    "run_logdir = os.path.join(os.curdir, \"my_cifar10_logs\", \"run_selu_{:03d}\".format(run_index))\n",
    "tensorboard_cb = keras.callbacks.TensorBoard(run_logdir)\n",
    "callbacks = [early_stopping_cb, model_checkpoint_cb, tensorboard_cb]\n",
    "\n",
    "#입력 특성 표준화------------------------------------------------------------------------------------\n",
    "X_means = X_train.mean(axis=0)\n",
    "X_stds = X_train.std(axis=0)\n",
    "X_train_scaled = (X_train - X_means) / X_stds\n",
    "X_valid_scaled = (X_valid - X_means) / X_stds\n",
    "X_test_scaled = (X_test - X_means) / X_stds\n",
    "\n",
    "model.fit(X_train_scaled, y_train, epochs=100,\n",
    "          validation_data=(X_valid_scaled, y_valid),\n",
    "          callbacks=callbacks)\n",
    "\n",
    "model = keras.models.load_model(\"my_cifar10_selu_model.h5\")\n",
    "model.evaluate(X_valid_scaled, y_valid)"
   ]
  },
  {
   "cell_type": "markdown",
   "metadata": {},
   "source": [
    "정확도가 50.7%로 원래 모델보다는 좋지만 배치 정규화 모델 보다는 좋지 않음.\n",
    "\n",
    "에포크가 34고 총 걸린 시간은 306초로 가장 빠름"
   ]
  },
  {
   "cell_type": "code",
   "execution_count": 169,
   "metadata": {},
   "outputs": [
    {
     "name": "stdout",
     "output_type": "stream",
     "text": [
      "Epoch 1/100\n",
      "   2/1407 [..............................] - ETA: 39:56 - loss: 2.9857 - accuracy: 0.0938WARNING:tensorflow:Method (on_train_batch_end) is slow compared to the batch update (1.708500). Check your callbacks.\n",
      "1407/1407 [==============================] - 12s 9ms/step - loss: 1.8989 - accuracy: 0.3252 - val_loss: 1.7365 - val_accuracy: 0.3802\n",
      "Epoch 2/100\n",
      "1407/1407 [==============================] - 9s 6ms/step - loss: 1.6701 - accuracy: 0.4097 - val_loss: 1.6835 - val_accuracy: 0.3978\n",
      "Epoch 3/100\n",
      "1407/1407 [==============================] - 9s 6ms/step - loss: 1.5776 - accuracy: 0.4465 - val_loss: 1.6348 - val_accuracy: 0.4208\n",
      "Epoch 4/100\n",
      "1407/1407 [==============================] - 9s 6ms/step - loss: 1.5038 - accuracy: 0.4689 - val_loss: 1.6170 - val_accuracy: 0.4370\n",
      "Epoch 5/100\n",
      "1407/1407 [==============================] - 9s 6ms/step - loss: 1.4465 - accuracy: 0.4928 - val_loss: 1.6551 - val_accuracy: 0.4580\n",
      "Epoch 6/100\n",
      "1407/1407 [==============================] - 9s 6ms/step - loss: 1.3969 - accuracy: 0.5101 - val_loss: 1.5017 - val_accuracy: 0.4898\n",
      "Epoch 7/100\n",
      "1407/1407 [==============================] - 9s 6ms/step - loss: 1.3569 - accuracy: 0.5276 - val_loss: 1.5140 - val_accuracy: 0.4784\n",
      "Epoch 8/100\n",
      "1407/1407 [==============================] - 9s 6ms/step - loss: 1.3175 - accuracy: 0.5429 - val_loss: 1.4872 - val_accuracy: 0.4950\n",
      "Epoch 9/100\n",
      "1407/1407 [==============================] - 9s 6ms/step - loss: 1.2830 - accuracy: 0.5568 - val_loss: 1.5043 - val_accuracy: 0.4934\n",
      "Epoch 10/100\n",
      "1407/1407 [==============================] - 9s 6ms/step - loss: 1.2447 - accuracy: 0.5725 - val_loss: 1.4792 - val_accuracy: 0.5016\n",
      "Epoch 11/100\n",
      "1407/1407 [==============================] - 9s 6ms/step - loss: 1.2133 - accuracy: 0.5798 - val_loss: 1.5874 - val_accuracy: 0.4852\n",
      "Epoch 12/100\n",
      "1407/1407 [==============================] - 9s 6ms/step - loss: 1.1903 - accuracy: 0.5904 - val_loss: 1.5208 - val_accuracy: 0.4886\n",
      "Epoch 13/100\n",
      "1407/1407 [==============================] - 9s 6ms/step - loss: 1.1572 - accuracy: 0.6004 - val_loss: 1.5515 - val_accuracy: 0.5070\n",
      "Epoch 14/100\n",
      "1407/1407 [==============================] - 9s 6ms/step - loss: 1.1357 - accuracy: 0.6093 - val_loss: 1.5070 - val_accuracy: 0.5032\n",
      "Epoch 15/100\n",
      "1407/1407 [==============================] - 9s 6ms/step - loss: 1.1050 - accuracy: 0.6206 - val_loss: 1.5905 - val_accuracy: 0.5056\n",
      "Epoch 16/100\n",
      "1407/1407 [==============================] - 9s 6ms/step - loss: 1.0754 - accuracy: 0.6327 - val_loss: 1.6145 - val_accuracy: 0.5148\n",
      "Epoch 17/100\n",
      "1407/1407 [==============================] - 9s 6ms/step - loss: 1.0531 - accuracy: 0.6375 - val_loss: 1.6112 - val_accuracy: 0.5096\n",
      "Epoch 18/100\n",
      "1407/1407 [==============================] - 9s 6ms/step - loss: 1.0365 - accuracy: 0.6444 - val_loss: 1.6909 - val_accuracy: 0.5046\n",
      "Epoch 19/100\n",
      "1407/1407 [==============================] - 9s 6ms/step - loss: 1.0174 - accuracy: 0.6497 - val_loss: 1.6840 - val_accuracy: 0.5216\n",
      "Epoch 20/100\n",
      "1407/1407 [==============================] - 9s 6ms/step - loss: 0.9964 - accuracy: 0.6604 - val_loss: 1.6504 - val_accuracy: 0.5060\n",
      "Epoch 21/100\n",
      "1407/1407 [==============================] - 9s 6ms/step - loss: 0.9733 - accuracy: 0.6681 - val_loss: 1.7044 - val_accuracy: 0.5204\n",
      "Epoch 22/100\n",
      "1407/1407 [==============================] - 9s 6ms/step - loss: 0.9501 - accuracy: 0.6761 - val_loss: 1.6870 - val_accuracy: 0.5128\n",
      "Epoch 23/100\n",
      "1407/1407 [==============================] - 9s 6ms/step - loss: 0.9324 - accuracy: 0.6840 - val_loss: 1.6702 - val_accuracy: 0.5054\n",
      "Epoch 24/100\n",
      "1407/1407 [==============================] - 9s 6ms/step - loss: 0.9110 - accuracy: 0.6924 - val_loss: 1.7278 - val_accuracy: 0.5096\n",
      "Epoch 25/100\n",
      "1407/1407 [==============================] - 9s 6ms/step - loss: 0.9060 - accuracy: 0.6923 - val_loss: 1.7490 - val_accuracy: 0.5150\n",
      "Epoch 26/100\n",
      "1407/1407 [==============================] - 9s 6ms/step - loss: 0.8785 - accuracy: 0.7018 - val_loss: 1.7743 - val_accuracy: 0.5006\n",
      "Epoch 27/100\n",
      "1407/1407 [==============================] - 9s 6ms/step - loss: 0.8728 - accuracy: 0.7056 - val_loss: 1.7174 - val_accuracy: 0.5100\n",
      "Epoch 28/100\n",
      "1407/1407 [==============================] - 9s 6ms/step - loss: 0.8491 - accuracy: 0.7139 - val_loss: 1.7250 - val_accuracy: 0.5128\n",
      "Epoch 29/100\n",
      "1407/1407 [==============================] - 9s 6ms/step - loss: 0.8477 - accuracy: 0.7153 - val_loss: 1.8182 - val_accuracy: 0.5060\n",
      "Epoch 30/100\n",
      "1407/1407 [==============================] - 9s 6ms/step - loss: 0.8419 - accuracy: 0.7167 - val_loss: 1.8116 - val_accuracy: 0.5100\n",
      "157/157 [==============================] - 0s 2ms/step - loss: 1.4792 - accuracy: 0.5016\n"
     ]
    },
    {
     "data": {
      "text/plain": [
       "[1.4791529178619385, 0.5016000270843506]"
      ]
     },
     "execution_count": 169,
     "metadata": {},
     "output_type": "execute_result"
    }
   ],
   "source": [
    "#SELU + 알파 드롭아웃\n",
    "\n",
    "keras.backend.clear_session()\n",
    "tf.random.set_seed(42)\n",
    "np.random.seed(42)\n",
    "\n",
    "model = keras.models.Sequential()\n",
    "model.add(keras.layers.Flatten(input_shape=[32, 32, 3]))\n",
    "for _ in range(20):\n",
    "    model.add(keras.layers.Dense(100,\n",
    "                                 kernel_initializer=\"lecun_normal\",\n",
    "                                 activation=\"selu\"))\n",
    "\n",
    "model.add(keras.layers.AlphaDropout(rate=0.1))\n",
    "model.add(keras.layers.Dense(10, activation=\"softmax\"))\n",
    "\n",
    "optimizer = keras.optimizers.Nadam(lr=5e-4)\n",
    "model.compile(loss=\"sparse_categorical_crossentropy\",\n",
    "              optimizer=optimizer,\n",
    "              metrics=[\"accuracy\"])\n",
    "\n",
    "early_stopping_cb = keras.callbacks.EarlyStopping(patience=20)\n",
    "model_checkpoint_cb = keras.callbacks.ModelCheckpoint(\"my_cifar10_alpha_dropout_model.h5\", save_best_only=True)\n",
    "run_index = 1 # 모델을 훈련할 때마다 증가시킴\n",
    "run_logdir = os.path.join(os.curdir, \"my_cifar10_logs\", \"run_alpha_dropout_{:03d}\".format(run_index))\n",
    "tensorboard_cb = keras.callbacks.TensorBoard(run_logdir)\n",
    "callbacks = [early_stopping_cb, model_checkpoint_cb, tensorboard_cb]\n",
    "\n",
    "X_means = X_train.mean(axis=0)\n",
    "X_stds = X_train.std(axis=0)\n",
    "X_train_scaled = (X_train - X_means) / X_stds\n",
    "X_valid_scaled = (X_valid - X_means) / X_stds\n",
    "X_test_scaled = (X_test - X_means) / X_stds\n",
    "\n",
    "model.fit(X_train_scaled, y_train, epochs=100,\n",
    "          validation_data=(X_valid_scaled, y_valid),\n",
    "          callbacks=callbacks)\n",
    "\n",
    "model = keras.models.load_model(\"my_cifar10_alpha_dropout_model.h5\")\n",
    "model.evaluate(X_valid_scaled, y_valid)"
   ]
  },
  {
   "cell_type": "markdown",
   "metadata": {},
   "source": [
    "검증 세트에서 51%의 정확도"
   ]
  },
  {
   "cell_type": "code",
   "execution_count": 170,
   "metadata": {},
   "outputs": [],
   "source": [
    "#MC 드롭 아웃 적용\n",
    "\n",
    "class MCAlphaDropout(keras.layers.AlphaDropout):\n",
    "    def call(self, inputs):\n",
    "        return super().call(inputs, training=True)"
   ]
  },
  {
   "cell_type": "code",
   "execution_count": 171,
   "metadata": {},
   "outputs": [],
   "source": [
    "mc_model = keras.models.Sequential([\n",
    "    MCAlphaDropout(layer.rate) if isinstance(layer, keras.layers.AlphaDropout) else layer\n",
    "    for layer in model.layers\n",
    "])"
   ]
  },
  {
   "cell_type": "code",
   "execution_count": 172,
   "metadata": {},
   "outputs": [],
   "source": [
    "def mc_dropout_predict_probas(mc_model, X, n_samples=10):\n",
    "    Y_probas = [mc_model.predict(X) for sample in range(n_samples)]\n",
    "    return np.mean(Y_probas, axis=0)\n",
    "\n",
    "def mc_dropout_predict_classes(mc_model, X, n_samples=10):\n",
    "    Y_probas = mc_dropout_predict_probas(mc_model, X, n_samples)\n",
    "    return np.argmax(Y_probas, axis=1)"
   ]
  },
  {
   "cell_type": "code",
   "execution_count": 173,
   "metadata": {},
   "outputs": [
    {
     "data": {
      "text/plain": [
       "0.4996"
      ]
     },
     "execution_count": 173,
     "metadata": {},
     "output_type": "execute_result"
    }
   ],
   "source": [
    "keras.backend.clear_session()\n",
    "tf.random.set_seed(42)\n",
    "np.random.seed(42)\n",
    "\n",
    "y_pred = mc_dropout_predict_classes(mc_model, X_valid_scaled)\n",
    "accuracy = np.mean(y_pred == y_valid[:, 0])\n",
    "accuracy"
   ]
  },
  {
   "cell_type": "markdown",
   "metadata": {},
   "source": [
    "정확도 향상이 없음.\n",
    "\n",
    "지금까지 가장 좋은 모델은 배치 정규화 모델"
   ]
  },
  {
   "cell_type": "code",
   "execution_count": 174,
   "metadata": {},
   "outputs": [],
   "source": [
    "# 1사이클 스케쥴링\n",
    "\n",
    "keras.backend.clear_session()\n",
    "tf.random.set_seed(42)\n",
    "np.random.seed(42)\n",
    "\n",
    "model = keras.models.Sequential()\n",
    "model.add(keras.layers.Flatten(input_shape=[32, 32, 3]))\n",
    "for _ in range(20):\n",
    "    model.add(keras.layers.Dense(100,\n",
    "                                 kernel_initializer=\"lecun_normal\",\n",
    "                                 activation=\"selu\"))\n",
    "\n",
    "model.add(keras.layers.AlphaDropout(rate=0.1))\n",
    "model.add(keras.layers.Dense(10, activation=\"softmax\"))\n",
    "\n",
    "optimizer = keras.optimizers.SGD(lr=1e-3)\n",
    "model.compile(loss=\"sparse_categorical_crossentropy\",\n",
    "              optimizer=optimizer,\n",
    "              metrics=[\"accuracy\"])"
   ]
  },
  {
   "cell_type": "code",
   "execution_count": 175,
   "metadata": {},
   "outputs": [
    {
     "name": "stdout",
     "output_type": "stream",
     "text": [
      "352/352 [==============================] - 3s 8ms/step - loss: nan - accuracy: 0.1419\n"
     ]
    },
    {
     "data": {
      "text/plain": [
       "(9.999999747378752e-06,\n",
       " 9.999868392944336,\n",
       " 2.604417085647583,\n",
       " 4.000283479690552)"
      ]
     },
     "execution_count": 175,
     "metadata": {},
     "output_type": "execute_result"
    },
    {
     "data": {
      "image/png": "[encoded data removed]",
      "text/plain": [
       "<Figure size 432x288 with 1 Axes>"
      ]
     },
     "metadata": {
      "needs_background": "light"
     },
     "output_type": "display_data"
    }
   ],
   "source": [
    "batch_size = 128\n",
    "rates, losses = find_learning_rate(model, X_train_scaled, y_train, epochs=1, batch_size=batch_size)\n",
    "plot_lr_vs_loss(rates, losses)\n",
    "plt.axis([min(rates), max(rates), min(losses), (losses[0] + min(losses)) / 1.4])"
   ]
  },
  {
   "cell_type": "code",
   "execution_count": 176,
   "metadata": {},
   "outputs": [],
   "source": [
    "keras.backend.clear_session()\n",
    "tf.random.set_seed(42)\n",
    "np.random.seed(42)\n",
    "\n",
    "model = keras.models.Sequential()\n",
    "model.add(keras.layers.Flatten(input_shape=[32, 32, 3]))\n",
    "for _ in range(20):\n",
    "    model.add(keras.layers.Dense(100,\n",
    "                                 kernel_initializer=\"lecun_normal\",\n",
    "                                 activation=\"selu\"))\n",
    "\n",
    "model.add(keras.layers.AlphaDropout(rate=0.1))\n",
    "model.add(keras.layers.Dense(10, activation=\"softmax\"))\n",
    "\n",
    "optimizer = keras.optimizers.SGD(lr=1e-2)\n",
    "model.compile(loss=\"sparse_categorical_crossentropy\",\n",
    "              optimizer=optimizer,\n",
    "              metrics=[\"accuracy\"])"
   ]
  },
  {
   "cell_type": "code",
   "execution_count": 177,
   "metadata": {},
   "outputs": [
    {
     "name": "stdout",
     "output_type": "stream",
     "text": [
      "Epoch 1/15\n",
      "352/352 [==============================] - 3s 9ms/step - loss: 2.0523 - accuracy: 0.2868 - val_loss: 1.8003 - val_accuracy: 0.3636\n",
      "Epoch 2/15\n",
      "352/352 [==============================] - 3s 9ms/step - loss: 1.7613 - accuracy: 0.3791 - val_loss: 1.6175 - val_accuracy: 0.4312\n",
      "Epoch 3/15\n",
      "352/352 [==============================] - 3s 9ms/step - loss: 1.6207 - accuracy: 0.4246 - val_loss: 1.7202 - val_accuracy: 0.4128\n",
      "Epoch 4/15\n",
      "352/352 [==============================] - 3s 8ms/step - loss: 1.5390 - accuracy: 0.4562 - val_loss: 1.6224 - val_accuracy: 0.4322\n",
      "Epoch 5/15\n",
      "352/352 [==============================] - 3s 8ms/step - loss: 1.4851 - accuracy: 0.4737 - val_loss: 1.6074 - val_accuracy: 0.4498\n",
      "Epoch 6/15\n",
      "352/352 [==============================] - 3s 9ms/step - loss: 1.4435 - accuracy: 0.4871 - val_loss: 1.5557 - val_accuracy: 0.4590\n",
      "Epoch 7/15\n",
      "352/352 [==============================] - 3s 8ms/step - loss: 1.4087 - accuracy: 0.4982 - val_loss: 1.5817 - val_accuracy: 0.4576\n",
      "Epoch 8/15\n",
      "352/352 [==============================] - 3s 9ms/step - loss: 1.3405 - accuracy: 0.5238 - val_loss: 1.5126 - val_accuracy: 0.4822\n",
      "Epoch 9/15\n",
      "352/352 [==============================] - 3s 8ms/step - loss: 1.2657 - accuracy: 0.5522 - val_loss: 1.5010 - val_accuracy: 0.4866\n",
      "Epoch 10/15\n",
      "352/352 [==============================] - 3s 8ms/step - loss: 1.1908 - accuracy: 0.5751 - val_loss: 1.5007 - val_accuracy: 0.5004\n",
      "Epoch 11/15\n",
      "352/352 [==============================] - 3s 9ms/step - loss: 1.1227 - accuracy: 0.5974 - val_loss: 1.5186 - val_accuracy: 0.4998\n",
      "Epoch 12/15\n",
      "352/352 [==============================] - 3s 8ms/step - loss: 1.0537 - accuracy: 0.6239 - val_loss: 1.4977 - val_accuracy: 0.5068\n",
      "Epoch 13/15\n",
      "352/352 [==============================] - 3s 8ms/step - loss: 0.9852 - accuracy: 0.6479 - val_loss: 1.5235 - val_accuracy: 0.5182\n",
      "Epoch 14/15\n",
      "352/352 [==============================] - 3s 9ms/step - loss: 0.9181 - accuracy: 0.6724 - val_loss: 1.5435 - val_accuracy: 0.5164\n",
      "Epoch 15/15\n",
      "352/352 [==============================] - 3s 8ms/step - loss: 0.8774 - accuracy: 0.6880 - val_loss: 1.5731 - val_accuracy: 0.5226\n"
     ]
    }
   ],
   "source": [
    "n_epochs = 15\n",
    "onecycle = OneCycleScheduler(len(X_train_scaled) // batch_size * n_epochs, max_rate=0.05)\n",
    "history = model.fit(X_train_scaled, y_train, epochs=n_epochs, batch_size=batch_size,\n",
    "                    validation_data=(X_valid_scaled, y_valid),\n",
    "                    callbacks=[onecycle])"
   ]
  },
  {
   "cell_type": "markdown",
   "metadata": {},
   "source": [
    "각 에포크는 3초 정도 걸림, 가장 빠름. 배치정규화 504초 -> 45초\n",
    "\n",
    "배치 정규화보다는 못하지만 검증 세트에서 52.3% 성능"
   ]
  }
 ],
 "metadata": {
  "kernelspec": {
   "display_name": "Python 3",
   "language": "python",
   "name": "python3"
  },
  "language_info": {
   "codemirror_mode": {
    "name": "ipython",
    "version": 3
   },
   "file_extension": ".py",
   "mimetype": "text/x-python",
   "name": "python",
   "nbconvert_exporter": "python",
   "pygments_lexer": "ipython3",
   "version": "3.8.3"
  }
 },
 "nbformat": 4,
 "nbformat_minor": 4
}
