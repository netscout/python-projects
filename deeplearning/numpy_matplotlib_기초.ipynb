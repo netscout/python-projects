{
 "cells": [
  {
   "cell_type": "code",
   "execution_count": 1,
   "metadata": {
    "scrolled": false
   },
   "outputs": [
    {
     "data": {
      "image/png": "[encoded data removed]",
      "text/plain": [
       "<Figure size 432x288 with 1 Axes>"
      ]
     },
     "metadata": {
      "needs_background": "light"
     },
     "output_type": "display_data"
    }
   ],
   "source": [
    "%matplotlib inline\n",
    "\n",
    "import numpy as np\n",
    "import matplotlib.pyplot as plt\n",
    "\n",
    "x = np.linspace(-np.pi, np.pi)\n",
    "plt.plot(x, np.cos(x))\n",
    "plt.plot(x, np.sin(x))\n",
    "plt.show()"
   ]
  },
  {
   "cell_type": "code",
   "execution_count": 2,
   "metadata": {},
   "outputs": [
    {
     "name": "stdout",
     "output_type": "stream",
     "text": [
      "[0 1 2 3 4 5]\n"
     ]
    }
   ],
   "source": [
    "a = np.array([0, 1, 2, 3, 4, 5])\n",
    "print(a)"
   ]
  },
  {
   "cell_type": "code",
   "execution_count": 3,
   "metadata": {},
   "outputs": [
    {
     "name": "stdout",
     "output_type": "stream",
     "text": [
      "[[[0 1 2]\n",
      "  [3 4 5]]\n",
      "\n",
      " [[5 4 3]\n",
      "  [2 1 0]]]\n",
      "(2, 2, 3)\n",
      "12\n"
     ]
    }
   ],
   "source": [
    "#2, 2, 3 -> 2행 3열짜리 가 2개씩 있다.\n",
    "c = np.array([[[0, 1, 2], \\               \n",
    "               [3, 4, 5]], \\\n",
    "              [[5, 4, 3], \\\n",
    "               [2, 1, 0]]])\n",
    "print(c)\n",
    "\n",
    "print(np.shape(c))\n",
    "print(np.size(c))"
   ]
  },
  {
   "cell_type": "code",
   "execution_count": 4,
   "metadata": {},
   "outputs": [
    {
     "name": "stdout",
     "output_type": "stream",
     "text": [
      "[0.  0.1 0.2 0.3 0.4 0.5 0.6 0.7 0.8 0.9]\n"
     ]
    }
   ],
   "source": [
    "print(np.arange(0, 1, 0.1))"
   ]
  },
  {
   "cell_type": "code",
   "execution_count": 5,
   "metadata": {},
   "outputs": [
    {
     "name": "stdout",
     "output_type": "stream",
     "text": [
      "[0.         0.05263158 0.10526316 0.15789474 0.21052632 0.26315789\n",
      " 0.31578947 0.36842105 0.42105263 0.47368421 0.52631579 0.57894737\n",
      " 0.63157895 0.68421053 0.73684211 0.78947368 0.84210526 0.89473684\n",
      " 0.94736842 1.        ]\n"
     ]
    }
   ],
   "source": [
    "#0~1 사이의 값이 20개인 배열 생성\n",
    "#그래프의 가로, 세로 축을 값을 나타낼때 자주 이용\n",
    "print(np.linspace(0, 1, 20))"
   ]
  },
  {
   "cell_type": "code",
   "execution_count": 12,
   "metadata": {},
   "outputs": [
    {
     "name": "stdout",
     "output_type": "stream",
     "text": [
      "b: [[0 1 2 3]\n",
      " [4 5 6 7]]\n",
      "c: [[[0 1]\n",
      "  [2 3]]\n",
      "\n",
      " [[4 5]\n",
      "  [6 7]]]\n",
      "d: [0 1 2 3 4 5 6 7]\n",
      "e: [[0 1 2 3]\n",
      " [4 5 6 7]]\n"
     ]
    }
   ],
   "source": [
    "a = np.array([0, 1, 2, 3, 4, 5, 6, 7])\n",
    "#2행 4열로 변경\n",
    "b = a.reshape(2, 4)\n",
    "print(f'b: {b}')\n",
    "\n",
    "#2 * 2행 2열로 변경\n",
    "c = b.reshape(2, 2, 2)\n",
    "print(f'c: {c}')\n",
    "\n",
    "#1차원 배열로 전환\n",
    "d = c.reshape(-1)\n",
    "print(f'd: {d}')\n",
    "\n",
    "#인수를 -1로 지정하면 원소 수를 자동으로 계산\n",
    "e = d.reshape(2, -1)\n",
    "print(f'e: {e}')"
   ]
  },
  {
   "cell_type": "code",
   "execution_count": 13,
   "metadata": {},
   "outputs": [
    {
     "name": "stdout",
     "output_type": "stream",
     "text": [
      "[[0 1 2]\n",
      " [3 4 5]]\n",
      "[[ 0  3  6]\n",
      " [ 9 12 15]]\n"
     ]
    }
   ],
   "source": [
    "a = np.array([0, 1, 2, 3, 4, 5]).reshape(2, 3)\n",
    "print(a)\n",
    "#모든 원소에 3을 곱함\n",
    "print(a * 3)"
   ]
  },
  {
   "cell_type": "code",
   "execution_count": 14,
   "metadata": {
    "scrolled": true
   },
   "outputs": [
    {
     "name": "stdout",
     "output_type": "stream",
     "text": [
      "[[2 3]\n",
      " [2 3]]\n"
     ]
    }
   ],
   "source": [
    "a = np.array([1, 1, 1, 1]).reshape(2, 2)\n",
    "b = np.array([1, 2])\n",
    "\n",
    "#b를 세로 방향 확장하여 2, 2로 만들어 연산\n",
    "print(a + b)"
   ]
  },
  {
   "cell_type": "code",
   "execution_count": 15,
   "metadata": {},
   "outputs": [
    {
     "name": "stdout",
     "output_type": "stream",
     "text": [
      "[[2 2]\n",
      " [3 3]]\n"
     ]
    }
   ],
   "source": [
    "c = np.array([1, 2]).reshape(2, 1)\n",
    "\n",
    "#c를 가로 방향으로 확장하여 2, 2로 만들어 연산\n",
    "print(a + c)"
   ]
  },
  {
   "cell_type": "code",
   "execution_count": 16,
   "metadata": {},
   "outputs": [
    {
     "name": "stdout",
     "output_type": "stream",
     "text": [
      "[[0 1 2]\n",
      " [3 4 5]\n",
      " [6 7 8]]\n",
      "8\n",
      "[6 7 8]\n",
      "[[0 1 2]\n",
      " [3 4 5]\n",
      " [9 9 9]]\n"
     ]
    }
   ],
   "source": [
    "d = np.array([0, 1, 2, 3, 4, 5, 6, 7, 8]).reshape(3, 3)\n",
    "print(d)\n",
    "\n",
    "print(d[2][2])\n",
    "print(d[2])\n",
    "d[2] = [9, 9, 9]\n",
    "print(d)"
   ]
  },
  {
   "cell_type": "code",
   "execution_count": 26,
   "metadata": {},
   "outputs": [
    {
     "name": "stdout",
     "output_type": "stream",
     "text": [
      "[[1 2 3]\n",
      " [4 5 6]\n",
      " [7 8 9]]\n",
      "[1 2 3]\n",
      "[[1 2 3]\n",
      " [7 8 9]]\n",
      "[1 7]\n",
      "[[8 2 3]\n",
      " [4 5 6]\n",
      " [7 9 9]]\n"
     ]
    }
   ],
   "source": [
    "e = np.array(list(range(1, 10))).reshape(3,3)\n",
    "print(e)\n",
    "f = np.array([8, 9])\n",
    "\n",
    "print(e[0])\n",
    "#0, 2행 인덱싱\n",
    "print(e[[0, 2]])\n",
    "#0, 2행을 인덱싱하고, 0번째 행의 0번째 요소, 2번째 행의 1번째 요소 가져오기\n",
    "print(e[[0, 2], [0, 1]])\n",
    "\n",
    "e[[0,2], [0, 1]] = f\n",
    "\n",
    "print(e)"
   ]
  },
  {
   "cell_type": "code",
   "execution_count": 27,
   "metadata": {},
   "outputs": [
    {
     "name": "stdout",
     "output_type": "stream",
     "text": [
      "[2 4 6]\n"
     ]
    }
   ],
   "source": [
    "a = np.array(list(range(0, 10)))\n",
    "#인덱스 2이상 8미만, 2씩 증가\n",
    "print(a[2:8:2])"
   ]
  },
  {
   "cell_type": "code",
   "execution_count": 28,
   "metadata": {},
   "outputs": [
    {
     "name": "stdout",
     "output_type": "stream",
     "text": [
      "[[0 1 2]\n",
      " [3 4 5]\n",
      " [6 7 8]]\n",
      "[[0 1]\n",
      " [3 4]]\n"
     ]
    }
   ],
   "source": [
    "b = np.array(list(range(0, 9))).reshape(3, 3)\n",
    "print(b)\n",
    "#행 인덱스 0이상 2미만\n",
    "#열 인덱스 0이상 2미만\n",
    "print(b[0:2, 0:2])"
   ]
  },
  {
   "cell_type": "code",
   "execution_count": 29,
   "metadata": {},
   "outputs": [
    {
     "name": "stdout",
     "output_type": "stream",
     "text": [
      "[[[0. 0. 0.]\n",
      "  [0. 0. 0.]\n",
      "  [0. 0. 0.]]\n",
      "\n",
      " [[0. 0. 0.]\n",
      "  [0. 0. 0.]\n",
      "  [0. 0. 0.]]]\n",
      "[[[1. 1. 0.]\n",
      "  [1. 1. 0.]\n",
      "  [0. 0. 0.]]\n",
      "\n",
      " [[0. 0. 0.]\n",
      "  [0. 0. 0.]\n",
      "  [0. 0. 0.]]]\n"
     ]
    }
   ],
   "source": [
    "#2 * 3행 3열\n",
    "c = np.zeros(18).reshape(2, 3, 3)\n",
    "print(c)\n",
    "\n",
    "c[0, 0:2, 0:2] = np.ones(4).reshape(2, 2)\n",
    "print(c)"
   ]
  },
  {
   "cell_type": "code",
   "execution_count": 32,
   "metadata": {},
   "outputs": [
    {
     "name": "stdout",
     "output_type": "stream",
     "text": [
      "[[0 3]\n",
      " [1 4]\n",
      " [2 5]]\n",
      "[[0 3]\n",
      " [1 4]\n",
      " [2 5]]\n"
     ]
    }
   ],
   "source": [
    "#2행 3열\n",
    "a = np.array([0, 1, 2, 3, 4, 5]).reshape(2, 3)\n",
    "\n",
    "#축0 = 행, 축1 = 열\n",
    "#축0과 축1을 뒤집어서 2행 3열 -> 3행 2열\n",
    "print(a.transpose(1, 0))\n",
    "\n",
    "#전치(transpose)\n",
    "print(a.T)"
   ]
  },
  {
   "cell_type": "code",
   "execution_count": 35,
   "metadata": {},
   "outputs": [
    {
     "name": "stdout",
     "output_type": "stream",
     "text": [
      "[[[ 0  1  2]\n",
      "  [ 3  4  5]]\n",
      "\n",
      " [[ 6  7  8]\n",
      "  [ 9 10 11]]]\n",
      "[[[ 0  6]\n",
      "  [ 1  7]\n",
      "  [ 2  8]]\n",
      "\n",
      " [[ 3  9]\n",
      "  [ 4 10]\n",
      "  [ 5 11]]]\n",
      "[[[ 0  6]\n",
      "  [ 3  9]]\n",
      "\n",
      " [[ 1  7]\n",
      "  [ 4 10]]\n",
      "\n",
      " [[ 2  8]\n",
      "  [ 5 11]]]\n"
     ]
    }
   ],
   "source": [
    "b = np.arange(12).reshape(2, 2, 3)\n",
    "#2 * 2행 3열\n",
    "#축0 : z축\n",
    "#축1 : 행\n",
    "#축2 : 열\n",
    "print(b)\n",
    "\n",
    "#축0 -> 축1\n",
    "#축1 -> 축2\n",
    "#축2 -> 축0\n",
    "#2 * 2행 3열 -> 2 * 3행 2열\n",
    "print(b.transpose(1, 2, 0))"
   ]
  },
  {
   "cell_type": "code",
   "execution_count": 40,
   "metadata": {},
   "outputs": [
    {
     "name": "stdout",
     "output_type": "stream",
     "text": [
      "[[0 1]\n",
      " [2 3]]\n",
      "6\n",
      "[2 4]\n",
      "[1 5]\n",
      "[[1]\n",
      " [5]]\n"
     ]
    }
   ],
   "source": [
    "a = np.arange(4).reshape(2, 2)\n",
    "print(a)\n",
    "\n",
    "print(np.sum(a))\n",
    "#세로 방향(행 방향)으로 sum 수행, 행이 하나로 축소됨\n",
    "print(np.sum(a, axis = 0))\n",
    "\n",
    "#가로 방향(열 방향)으로 sum 수행, 열이 하나로 축소됨\n",
    "print(np.sum(a, axis = 1))\n",
    "\n",
    "#배열의 차원 유지\n",
    "#가로 방향(열 방향)으로 sum수행 -> 결과는 2행 1열\n",
    "print(np.sum(a, axis = 1, keepdims=True))"
   ]
  },
  {
   "cell_type": "code",
   "execution_count": 49,
   "metadata": {},
   "outputs": [
    {
     "name": "stdout",
     "output_type": "stream",
     "text": [
      "[[0 1]\n",
      " [2 3]]\n",
      "3\n",
      "[1 1]\n",
      "2\n",
      "3\n"
     ]
    }
   ],
   "source": [
    "print(a)\n",
    "\n",
    "#최대 값 찾기\n",
    "print(np.max(a))\n",
    "\n",
    "#세로 방향(행 방향)의 최대 값 인덱스 얻기 -> 각 열별로 결과 최대값이 있는 행 인덱스\n",
    "max_index = np.argmax(a, axis=0)\n",
    "print(max_index)\n",
    "\n",
    "for col in range(np.shape(a)[1]):\n",
    "    print(a[max_index[col], col])"
   ]
  },
  {
   "cell_type": "code",
   "execution_count": 51,
   "metadata": {},
   "outputs": [
    {
     "name": "stdout",
     "output_type": "stream",
     "text": [
      "[[0 1]\n",
      " [2 3]]\n",
      "[[9 9]\n",
      " [2 3]]\n"
     ]
    }
   ],
   "source": [
    "print(a)\n",
    "#a에서 2미만인 원소를 9로 변경\n",
    "print(np.where(a<2, 9, a))"
   ]
  },
  {
   "cell_type": "code",
   "execution_count": 52,
   "metadata": {},
   "outputs": [],
   "source": [
    "#주피터 노프북에서 인라인으로 그래프 표시하기 위해\n",
    "%matplotlib inline\n",
    "\n",
    "import numpy as np\n",
    "import matplotlib.pyplot as plt"
   ]
  },
  {
   "cell_type": "code",
   "execution_count": 53,
   "metadata": {},
   "outputs": [
    {
     "data": {
      "image/png": "[encoded data removed]",
      "text/plain": [
       "<Figure size 432x288 with 1 Axes>"
      ]
     },
     "metadata": {
      "needs_background": "light"
     },
     "output_type": "display_data"
    }
   ],
   "source": [
    "x = np.linspace(0, 2*np.pi)#0 ~ 2*파이\n",
    "y = np.sin(x)\n",
    "\n",
    "plt.plot(x, y)\n",
    "plt.show()"
   ]
  },
  {
   "cell_type": "code",
   "execution_count": 55,
   "metadata": {},
   "outputs": [
    {
     "data": {
      "image/png": "[encoded data removed]",
      "text/plain": [
       "<Figure size 432x288 with 1 Axes>"
      ]
     },
     "metadata": {
      "needs_background": "light"
     },
     "output_type": "display_data"
    }
   ],
   "source": [
    "x = np.linspace(0, 2*np.pi)#0 ~ 2*파이\n",
    "y_sin = np.sin(x)\n",
    "y_cos = np.cos(x)\n",
    "\n",
    "plt.xlabel(\"x value\")\n",
    "plt.ylabel(\"y value\")\n",
    "plt.title(\"sin/cos\")\n",
    "\n",
    "plt.plot(x, y_sin, label=\"sin\")\n",
    "plt.plot(x, y_cos, label=\"cos\", linestyle=\"dashed\")\n",
    "plt.legend()\n",
    "\n",
    "plt.show()"
   ]
  },
  {
   "cell_type": "code",
   "execution_count": 56,
   "metadata": {
    "scrolled": true
   },
   "outputs": [
    {
     "data": {
      "image/png": "[encoded data removed]",
      "text/plain": [
       "<Figure size 432x288 with 1 Axes>"
      ]
     },
     "metadata": {
      "needs_background": "light"
     },
     "output_type": "display_data"
    }
   ],
   "source": [
    "x_1 = np.random.rand(100) - 1.0 #왼쪽으로 1만큼 이동\n",
    "y_1 = np.random.rand(100)\n",
    "x_2 = np.random.rand(100)\n",
    "y_2 = np.random.rand(100)\n",
    "\n",
    "plt.scatter(x_1, y_1, marker=\"+\")\n",
    "plt.scatter(x_2, y_2, marker=\"x\")\n",
    "\n",
    "plt.show()"
   ]
  },
  {
   "cell_type": "code",
   "execution_count": 58,
   "metadata": {},
   "outputs": [
    {
     "data": {
      "image/png": "[encoded data removed]",
      "text/plain": [
       "<Figure size 432x288 with 2 Axes>"
      ]
     },
     "metadata": {
      "needs_background": "light"
     },
     "output_type": "display_data"
    }
   ],
   "source": [
    "img = np.arange(16).reshape(4, 4)\n",
    "\n",
    "plt.imshow(img, \"gray\")\n",
    "plt.colorbar() #컬러 막대 표시\n",
    "\n",
    "plt.show()"
   ]
  }
 ],
 "metadata": {
  "kernelspec": {
   "display_name": "Python 3",
   "language": "python",
   "name": "python3"
  },
  "language_info": {
   "codemirror_mode": {
    "name": "ipython",
    "version": 3
   },
   "file_extension": ".py",
   "mimetype": "text/x-python",
   "name": "python",
   "nbconvert_exporter": "python",
   "pygments_lexer": "ipython3",
   "version": "3.8.3"
  }
 },
 "nbformat": 4,
 "nbformat_minor": 4
}
