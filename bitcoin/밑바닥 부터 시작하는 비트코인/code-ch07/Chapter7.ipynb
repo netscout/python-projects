{
 "cells": [
  {
   "cell_type": "code",
   "execution_count": 2,
   "metadata": {},
   "outputs": [],
   "source": [
    "############## PLEASE RUN THIS CELL FIRST! ###################\n",
    "\n",
    "# import everything and define a test runner function\n",
    "from importlib import reload\n",
    "from helper import run\n",
    "import ecc\n",
    "import helper\n",
    "import tx\n",
    "import script"
   ]
  },
  {
   "cell_type": "code",
   "execution_count": 3,
   "metadata": {},
   "outputs": [
    {
     "name": "stdout",
     "output_type": "stream",
     "text": [
      "True\n"
     ]
    }
   ],
   "source": [
    "from tx import Tx\n",
    "from io import BytesIO\n",
    "raw_tx = ('0100000001813f79011acb80925dfe69b3def355fe914bd1d96a3f5f71bf8303c6a989c7d1000000006b483045022100ed81ff192e75a3fd2304004dcadb746fa5e24c5031ccfcf21320b0277457c98f02207a986d955c6e0cb35d446a89d3f56100f4d7f67801c31967743a9c8e10615bed01210349fc4e631e3624a545de3f89f5d8684c7b8138bd94bdd531d2e213bf016b278afeffffff02a135ef01000000001976a914bc3b654dca7e56b04dca18f2566cdaf02e8d9ada88ac99c39800000000001976a9141c4bc762dd5423e332166702cb75f40df79fea1288ac19430600')\n",
    "stream = BytesIO(bytes.fromhex(raw_tx))\n",
    "transaction = Tx.parse(stream)\n",
    "print(transaction.fee() >= 0)"
   ]
  },
  {
   "cell_type": "code",
   "execution_count": null,
   "metadata": {},
   "outputs": [],
   "source": [
    "from ecc import S256Point, Signature\n",
    "sec = bytes.fromhex('0349fc4e631e3624a545de3f89f5d8684c7b8138bd94bdd531d2e213bf016b278a')\n",
    "der = bytes.fromhex('3045022100ed81ff192e75a3fd2304004dcadb746fa5e24c5031ccfcf21320b0277457c98f02207a986d955c6e0cb35d446a89d3f56100f4d7f67801c31967743a9c8e10615bed')\n",
    "z = 0x27e0c5994dec7824e56dec6b2fcb342eb7cdb0d0957c2fce9882f715e85d81a6\n",
    "point = S256Point.parse(sec)\n",
    "signature = Signature.parse(der)\n",
    "print(point.verify(z, signature))"
   ]
  },
  {
   "cell_type": "code",
   "execution_count": null,
   "metadata": {},
   "outputs": [],
   "source": [
    "from helper import hash256\n",
    "modified_tx = bytes.fromhex('0100000001813f79011acb80925dfe69b3def355fe914bd1d96a3f5f71bf8303c6a989c7d1000000001976a914a802fc56c704ce87c42d7c92eb75e7896bdc41ae88acfeffffff02a135ef01000000001976a914bc3b654dca7e56b04dca18f2566cdaf02e8d9ada88ac99c39800000000001976a9141c4bc762dd5423e332166702cb75f40df79fea1288ac1943060001000000')\n",
    "h256 = hash256(modified_tx)\n",
    "z = int.from_bytes(h256, 'big')\n",
    "print(hex(z))"
   ]
  },
  {
   "cell_type": "code",
   "execution_count": null,
   "metadata": {},
   "outputs": [],
   "source": [
    "from ecc import S256Point, Signature\n",
    "sec = bytes.fromhex('0349fc4e631e3624a545de3f89f5d8684c7b8138bd94bdd531d2e213bf016b278a')\n",
    "der = bytes.fromhex('3045022100ed81ff192e75a3fd2304004dcadb746fa5e24c5031ccfcf21320b0277457c98f02207a986d955c6e0cb35d446a89d3f56100f4d7f67801c31967743a9c8e10615bed')\n",
    "z = 0x27e0c5994dec7824e56dec6b2fcb342eb7cdb0d0957c2fce9882f715e85d81a6\n",
    "point = S256Point.parse(sec)\n",
    "signature = Signature.parse(der)\n",
    "point.verify(z, signature)"
   ]
  },
  {
   "cell_type": "markdown",
   "metadata": {},
   "source": [
    "### Exercise 1\n",
    "\n",
    "Write the `sig_hash` method for the `Tx` class.\n",
    "\n",
    "#### Make [this test](/edit/code-ch07/tx.py) pass: `tx.py:TxTest:test_sig_hash`"
   ]
  },
  {
   "cell_type": "code",
   "execution_count": 14,
   "metadata": {},
   "outputs": [
    {
     "name": "stderr",
     "output_type": "stream",
     "text": [
      ".\n",
      "----------------------------------------------------------------------\n",
      "Ran 1 test in 0.003s\n",
      "\n",
      "OK\n"
     ]
    }
   ],
   "source": [
    "# Exercise 1\n",
    "\n",
    "reload(tx)\n",
    "run(tx.TxTest(\"test_sig_hash\"))"
   ]
  },
  {
   "cell_type": "markdown",
   "metadata": {},
   "source": [
    "### Exercise 2\n",
    "\n",
    "Write the `verify_input` method for the `Tx` class. You will want to use the `TxIn.script_pubkey()`, `Tx.sig_hash()` and `Script.evaluate()` methods.\n",
    "\n",
    "#### Make [this test](/edit/code-ch07/tx.py) pass: `tx.py:TxTest:test_verify_p2pkh`"
   ]
  },
  {
   "cell_type": "code",
   "execution_count": 1,
   "metadata": {},
   "outputs": [
    {
     "ename": "NameError",
     "evalue": "name 'reload' is not defined",
     "output_type": "error",
     "traceback": [
      "\u001b[1;31m---------------------------------------------------------------------------\u001b[0m",
      "\u001b[1;31mNameError\u001b[0m                                 Traceback (most recent call last)",
      "\u001b[1;32m<ipython-input-1-8883f63bd934>\u001b[0m in \u001b[0;36m<module>\u001b[1;34m\u001b[0m\n\u001b[0;32m      1\u001b[0m \u001b[1;31m# Exercise 2\u001b[0m\u001b[1;33m\u001b[0m\u001b[1;33m\u001b[0m\u001b[1;33m\u001b[0m\u001b[0m\n\u001b[0;32m      2\u001b[0m \u001b[1;33m\u001b[0m\u001b[0m\n\u001b[1;32m----> 3\u001b[1;33m \u001b[0mreload\u001b[0m\u001b[1;33m(\u001b[0m\u001b[0mtx\u001b[0m\u001b[1;33m)\u001b[0m\u001b[1;33m\u001b[0m\u001b[1;33m\u001b[0m\u001b[0m\n\u001b[0m\u001b[0;32m      4\u001b[0m \u001b[0mrun\u001b[0m\u001b[1;33m(\u001b[0m\u001b[0mtx\u001b[0m\u001b[1;33m.\u001b[0m\u001b[0mTxTest\u001b[0m\u001b[1;33m(\u001b[0m\u001b[1;34m\"test_verify_p2pkh\"\u001b[0m\u001b[1;33m)\u001b[0m\u001b[1;33m)\u001b[0m\u001b[1;33m\u001b[0m\u001b[1;33m\u001b[0m\u001b[0m\n",
      "\u001b[1;31mNameError\u001b[0m: name 'reload' is not defined"
     ]
    }
   ],
   "source": [
    "# Exercise 2\n",
    "\n",
    "reload(tx)\n",
    "run(tx.TxTest(\"test_verify_p2pkh\"))"
   ]
  },
  {
   "cell_type": "code",
   "execution_count": null,
   "metadata": {},
   "outputs": [],
   "source": [
    "from helper import decode_base58, SIGHASH_ALL\n",
    "from script import p2pkh_script, Script\n",
    "from tx import TxIn, TxOut, Tx\n",
    "prev_tx = bytes.fromhex('0d6fe5213c0b3291f208cba8bfb59b7476dffacc4e5cb66f6eb20a080843a299')\n",
    "prev_index = 13\n",
    "tx_in = TxIn(prev_tx, prev_index)\n",
    "tx_outs = []\n",
    "change_amount = int(0.33*100000000)\n",
    "change_h160 = decode_base58('mzx5YhAH9kNHtcN481u6WkjeHjYtVeKVh2')\n",
    "change_script = p2pkh_script(change_h160)\n",
    "change_output = TxOut(amount=change_amount, script_pubkey=change_script)\n",
    "target_amount = int(0.1*100000000)\n",
    "target_h160 = decode_base58('mnrVtF8DWjMu839VW3rBfgYaAfKk8983Xf')\n",
    "target_script = p2pkh_script(target_h160)\n",
    "target_output = TxOut(amount=target_amount, script_pubkey=target_script)\n",
    "tx_obj = Tx(1, [tx_in], [change_output, target_output], 0, True)\n",
    "print(tx_obj)"
   ]
  },
  {
   "cell_type": "code",
   "execution_count": null,
   "metadata": {},
   "outputs": [],
   "source": [
    "from ecc import PrivateKey\n",
    "from helper import SIGHASH_ALL\n",
    "z = transaction.sig_hash(0)\n",
    "private_key = PrivateKey(secret=8675309)\n",
    "der = private_key.sign(z).der()\n",
    "sig = der + SIGHASH_ALL.to_bytes(1, 'big')\n",
    "sec = private_key.point.sec()\n",
    "script_sig = Script([sig, sec])\n",
    "transaction.tx_ins[0].script_sig = script_sig \n",
    "print(transaction.serialize().hex())"
   ]
  },
  {
   "cell_type": "code",
   "execution_count": null,
   "metadata": {},
   "outputs": [],
   "source": [
    "from ecc import PrivateKey\n",
    "from helper import hash256, little_endian_to_int\n",
    "secret = little_endian_to_int(hash256(b'Jimmy Song secret'))\n",
    "private_key = PrivateKey(secret)\n",
    "print(private_key.point.address(testnet=True))"
   ]
  },
  {
   "cell_type": "markdown",
   "metadata": {},
   "source": [
    "### Exercise 3\n",
    "\n",
    "Write the `sign_input` method for the `Tx` class.\n",
    "\n",
    "#### Make [this test](/edit/code-ch07/tx.py) pass: `tx.py:TxTest:test_sign_input`"
   ]
  },
  {
   "cell_type": "code",
   "execution_count": 17,
   "metadata": {},
   "outputs": [
    {
     "name": "stderr",
     "output_type": "stream",
     "text": [
      ".\n",
      "----------------------------------------------------------------------\n",
      "Ran 1 test in 0.203s\n",
      "\n",
      "OK\n"
     ]
    }
   ],
   "source": [
    "# Exercise 3\n",
    "\n",
    "reload(tx)\n",
    "run(tx.TxTest(\"test_sign_input\"))"
   ]
  },
  {
   "cell_type": "markdown",
   "metadata": {},
   "source": [
    "### Exercise 4\n",
    "\n",
    "Create a testnet transaction that sends 60% of a single UTXO to `mwJn1YPMq7y5F8J3LkC5Hxg9PHyZ5K4cFv`. The remaining amount minus fees should go back to your own change address. This should be a 1 input, 2 output transaction.\n",
    "\n",
    "You can broadcast the transaction at https://testnet.blockchain.info/pushtx"
   ]
  },
  {
   "cell_type": "code",
   "execution_count": 23,
   "metadata": {},
   "outputs": [
    {
     "name": "stdout",
     "output_type": "stream",
     "text": [
      "01000000014af5902851d47327604b44a9e7044ae63e4972e4cdb3923069952ab63c6d3488010000006b483045022100c2eca01774233d83eaba30810f31c0ad7e84dbff251e96508b3d3e7e3353b72a0220565bc3766cea1e54f21b9dbbde66d9f545c930d4a0160ddd7e91553d2dc176450121032ac827b9d0a5e8a5cc47aa34587bd3b2d68448913ed89654aaed9884779d7216ffffffff02e0930400000000001976a914c4788252f9d4c57b3d05243bd5ec70663a19b4c188acc0270900000000001976a914ad346f8eb57dee9a37981716e498120ae80e44f788ac00000000\n"
     ]
    }
   ],
   "source": [
    "# Exercise 4\n",
    "\n",
    "from ecc import PrivateKey\n",
    "from helper import decode_base58, SIGHASH_ALL, little_endian_to_int, hash256\n",
    "from script import p2pkh_script, Script\n",
    "from tx import TxIn, TxOut, Tx\n",
    "\n",
    "# create 1 TxIn and 2 TxOuts\n",
    "# 1 of the TxOuts should be back to your address\n",
    "# the other TxOut should be to this address\n",
    "target_address = [\n",
    "    'myRo6mdjL1o1KuS8tiA4cnkmQCsTReqEfz', #내 테스트 지갑 주소\n",
    "    'mwJn1YPMq7y5F8J3LkC5Hxg9PHyZ5K4cFv'\n",
    "]\n",
    "\n",
    "# get the private key from the exercise in Chapter 4\n",
    "passphrase = b'netscout82@naver.com wannabes software factory and onlifecoding youtube channel'\n",
    "secret = little_endian_to_int(hash256(passphrase))\n",
    "private_key = PrivateKey(secret)\n",
    "\n",
    "# change address should be the address generated from Chapter 4\n",
    "\n",
    "# get the prev_tx and prev_index from the transaction where you got\n",
    "#75a1c4bc671f55f626dda1074c7725991e6f68b8fcefcfca7b64405ca3b45f1c\n",
    "prev_tx = bytes.fromhex('88346d3cb62a95693092b3cde472493ee64a04e7a9444b602773d4512890f54a')\n",
    "prev_index = 1\n",
    "\n",
    "# some testnet coins\n",
    "# create a transaction input for the previous transaction with\n",
    "# the default ScriptSig and sequence\n",
    "tx_in = TxIn(prev_tx, prev_index)\n",
    "tx_outs = []\n",
    "\n",
    "# target amount should be 60% of the output amount\n",
    "# set the fee to some reasonable amount\n",
    "# change amount = amount from the prev tx - target amount - fee\n",
    "total_amount = tx_in.value(True)\n",
    "\n",
    "# create a transaction output for the target amount and address\n",
    "target_amount = int(total_amount * 0.6)\n",
    "target_h160 = decode_base58(target_address[1]) #보낼 주소\n",
    "target_script = p2pkh_script(target_h160)\n",
    "target_output = TxOut(amount=target_amount, script_pubkey=target_script)\n",
    "\n",
    "# create a transaction output for the change amount and address\n",
    "change_amount = int(total_amount * 0.3)\n",
    "change_h160 = decode_base58(target_address[0]) #내 주소\n",
    "change_script = p2pkh_script(change_h160)\n",
    "change_output = TxOut(amount=change_amount, script_pubkey=change_script)\n",
    "\n",
    "# create the transaction object\n",
    "#version, tx_ins, tx_outs, locktime, testnet\n",
    "tx = Tx(1, [tx_in], [change_output, target_output], 0, True)\n",
    "\n",
    "# sign the one input in the transaction object using the private key\n",
    "tx.sign_input(0, private_key)\n",
    "\n",
    "# print the transaction's serialization in hex\n",
    "print(tx.serialize().hex())\n",
    "\n",
    "#아래 주소로 변경되었음.\n",
    "# broadcast at https://live.blockcypher.com/btc-testnet/pushtx/"
   ]
  },
  {
   "cell_type": "markdown",
   "metadata": {},
   "source": [
    "### Exercise 5\n",
    "\n",
    "Advanced: get some more testnet coins from a testnet faucet and create a 2 input, 1 output transaction. 1 input should be from the faucet, the other should be from the previous exercise, the output can be your own address.\n",
    "\n",
    "You can broadcast the transaction at https://testnet.blockchain.info/pushtx"
   ]
  },
  {
   "cell_type": "code",
   "execution_count": 27,
   "metadata": {},
   "outputs": [
    {
     "name": "stdout",
     "output_type": "stream",
     "text": [
      "01000000021c6092eff26b03a0270e39e6fad14404ea1c8a8b9b7ce892109f9cd8406ae47d010000006a473044022013e4cdda0c7e5f6708b1b44ba14a5d3dd4774a90808517137e219eec88cd9c8e022066bd3836805a05f865faa9c4c334ae39554045816784eecd5bffbc803523cfd90121027f3aa33ea15ded16f643d9cae03aa3cca09a14dc6537a1cc2a8e060282802fc2ffffffff2166b0ae7e50b32b1cd72db09573dd17cc7fea238da5a64b7a9f9d5f956e969d000000006b48304502210089b290ff7e50610d71d1f7b99eb10cd7a59174a9b182e5f2237333054ad4130102203c1a8ae6d95f3709cdb0ceb026e30b95e5f398f23ce0253eb2d61d9389bdd0ec0121032ac827b9d0a5e8a5cc47aa34587bd3b2d68448913ed89654aaed9884779d7216ffffffff0150da1100000000001976a91400facfab2704370b02b829642538e5ea7b20c11e88ac00000000\n"
     ]
    }
   ],
   "source": [
    "# Exercise 5\n",
    "\n",
    "from ecc import PrivateKey\n",
    "from helper import decode_base58, SIGHASH_ALL\n",
    "from script import p2pkh_script, Script\n",
    "from tx import TxIn, TxOut, Tx\n",
    "\n",
    "# Create 2 TxIns, 1 from the Exercise 4 and 1 from a testnet faucet\n",
    "input_addresses = [\n",
    "    'mfc8kiqKbkxiQPaKLBgT1WzA6b5AsUesV6'\n",
    "    'mwJn1YPMq7y5F8J3LkC5Hxg9PHyZ5K4cFv'\n",
    "]\n",
    "# Creat 1 TxOut to the address above\n",
    "target_address = 'mfc8kiqKbkxiQPaKLBgT1WzA6b5AsUesV6'\n",
    "\n",
    "# get the private key from the exercise in Chapter 4\n",
    "\n",
    "#새로 생성한 테스트 주소\n",
    "passphrase = b'kangboram2@gmail.com wannabes software factory and onlifecoding youtube channel'\n",
    "# secret = little_endian_to_int(hash256(passphrase))\n",
    "secret = little_endian_to_int(hash256(passphrase))\n",
    "# create a private key using your secret\n",
    "private_key1 = PrivateKey(secret)\n",
    "\n",
    "\n",
    "#2번째 주소는 이전에 생성한 테스트 주소\n",
    "passphrase = b'netscout82@naver.com wannabes software factory and onlifecoding youtube channel'\n",
    "secret = little_endian_to_int(hash256(passphrase))\n",
    "private_key2 = PrivateKey(secret)\n",
    "\n",
    "\n",
    "# get the prev_tx and prev_index from the transaction where you got\n",
    "tx_in1 = TxIn(\n",
    "    bytes.fromhex('7de46a40d89c9f1092e87c9b8b8a1cea0444d1fae6390e27a0036bf2ef92601c'), \n",
    "    1)\n",
    "\n",
    "tx_in2 = TxIn(\n",
    "    bytes.fromhex('9d966e955f9d9f7a4ba6a58d23ea7fcc17dd7395b02dd71c2bb3507eaeb06621'), \n",
    "    0)\n",
    "\n",
    "# some testnet coins\n",
    "# create a transaction input for the previous transaction with\n",
    "# the default ScriptSig and sequence\n",
    "tx_ins = [\n",
    "    tx_in1, tx_in2\n",
    "]\n",
    "tx_outs = []\n",
    "\n",
    "# target amount should be 60% of the output amount\n",
    "# set the fee to some reasonable amount\n",
    "# change amount = amount from the prev tx - target amount - fee\n",
    "total_amount = tx_in1.value(True) + tx_in2.value(True)\n",
    "\n",
    "# create a transaction output for the change amount and address\n",
    "target_amount = int(total_amount * 0.9)\n",
    "target_h160 = decode_base58(target_address) #새로 생성한 테스트 주소\n",
    "target_script = p2pkh_script(target_h160)\n",
    "target_output = TxOut(amount=target_amount, script_pubkey=target_script)\n",
    "\n",
    "# create the transaction object\n",
    "#version, tx_ins, tx_outs, locktime, testnet\n",
    "tx = Tx(1, tx_ins, [target_output], 0, True)\n",
    "\n",
    "# sign the one input in the transaction object using the private key\n",
    "tx.sign_input(0, private_key1)\n",
    "tx.sign_input(1, private_key2)\n",
    "\n",
    "# print the transaction's serialization in hex\n",
    "print(tx.serialize().hex())\n",
    "\n",
    "#아래 주소로 변경되었음.\n",
    "# broadcast at https://live.blockcypher.com/btc-testnet/pushtx/\n",
    "\n",
    "#전송 결과\n",
    "#두 번째 테스트 주소 : https://live.blockcypher.com/btc-testnet/address/mfc8kiqKbkxiQPaKLBgT1WzA6b5AsUesV6/\n",
    "#첫 번째 테스트 주소 : https://live.blockcypher.com/btc-testnet/address/myRo6mdjL1o1KuS8tiA4cnkmQCsTReqEfz/"
   ]
  }
 ],
 "metadata": {
  "kernelspec": {
   "display_name": "Python 3",
   "language": "python",
   "name": "python3"
  },
  "language_info": {
   "codemirror_mode": {
    "name": "ipython",
    "version": 3
   },
   "file_extension": ".py",
   "mimetype": "text/x-python",
   "name": "python",
   "nbconvert_exporter": "python",
   "pygments_lexer": "ipython3",
   "version": "3.8.3"
  }
 },
 "nbformat": 4,
 "nbformat_minor": 2
}
